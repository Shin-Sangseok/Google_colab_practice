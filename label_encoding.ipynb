{
  "cells": [
    {
      "cell_type": "markdown",
      "metadata": {
        "id": "view-in-github",
        "colab_type": "text"
      },
      "source": [
        "<a href=\"https://colab.research.google.com/github/Shin-Sangseok/Google_colab_practice/blob/main/label_encoding.ipynb\" target=\"_parent\"><img src=\"https://colab.research.google.com/assets/colab-badge.svg\" alt=\"Open In Colab\"/></a>"
      ]
    },
    {
      "cell_type": "code",
      "execution_count": null,
      "id": "5d53ac5c",
      "metadata": {
        "id": "5d53ac5c"
      },
      "outputs": [],
      "source": [
        "from sklearn.preprocessing import LabelEncoder\n",
        "import numpy as np \n",
        "import pandas as pd"
      ]
    },
    {
      "cell_type": "code",
      "execution_count": null,
      "id": "ffd7d46c",
      "metadata": {
        "id": "ffd7d46c"
      },
      "outputs": [],
      "source": [
        "### 라벨 인코딩할 컬럼이 1개인 경우 "
      ]
    },
    {
      "cell_type": "code",
      "execution_count": null,
      "id": "ae9a8690",
      "metadata": {
        "id": "ae9a8690"
      },
      "outputs": [],
      "source": [
        "계절 = ['봄','여름','가을','겨울'] #데이터프레임은 인덱스와 많은 시리즈들의 결합 "
      ]
    },
    {
      "cell_type": "code",
      "execution_count": null,
      "id": "ce26a62b",
      "metadata": {
        "id": "ce26a62b"
      },
      "outputs": [],
      "source": [
        "#df = index + Series들 \n",
        "#Series = index + values(ndarray)"
      ]
    },
    {
      "cell_type": "code",
      "execution_count": null,
      "id": "a3fde64b",
      "metadata": {
        "id": "a3fde64b"
      },
      "outputs": [],
      "source": [
        "#df에서 하나의 열은 Series"
      ]
    },
    {
      "cell_type": "code",
      "execution_count": null,
      "id": "670e3378",
      "metadata": {
        "id": "670e3378",
        "outputId": "c31c736a-a83d-4779-a1a3-03a2707f8393"
      },
      "outputs": [
        {
          "data": {
            "text/plain": [
              "0     봄\n",
              "1    여름\n",
              "2    가을\n",
              "3    겨울\n",
              "dtype: object"
            ]
          },
          "execution_count": 181,
          "metadata": {},
          "output_type": "execute_result"
        }
      ],
      "source": [
        "data = pd.Series(계절)\n",
        "data"
      ]
    },
    {
      "cell_type": "code",
      "execution_count": null,
      "id": "6c760cb8",
      "metadata": {
        "id": "6c760cb8"
      },
      "outputs": [],
      "source": [
        "encoder = LabelEncoder()"
      ]
    },
    {
      "cell_type": "code",
      "execution_count": null,
      "id": "e5fa3342",
      "metadata": {
        "id": "e5fa3342",
        "outputId": "a644565a-fb13-4dff-af98-6b3e3702b1ec"
      },
      "outputs": [
        {
          "data": {
            "text/plain": [
              "LabelEncoder()"
            ]
          },
          "execution_count": 183,
          "metadata": {},
          "output_type": "execute_result"
        }
      ],
      "source": [
        "encoder.fit(data) #encoding해줄 데이터를 정리해주는 개념 \n",
        "#어떤 것을 어떤 번호로 인코딩해야할지 정하는 역할 \n",
        "#가을(0), 겨울(1), 봄(2), 여름(3) "
      ]
    },
    {
      "cell_type": "code",
      "execution_count": null,
      "id": "f19edec1",
      "metadata": {
        "id": "f19edec1",
        "outputId": "195ab5a5-e475-4f18-e90b-178db52da2b7"
      },
      "outputs": [
        {
          "data": {
            "text/plain": [
              "array(['가을', '겨울', '봄', '여름'], dtype=object)"
            ]
          },
          "execution_count": 184,
          "metadata": {},
          "output_type": "execute_result"
        }
      ],
      "source": [
        "encoder.classes_ #ㄱ,ㄴ,ㄷ,ㄹ 순 "
      ]
    },
    {
      "cell_type": "code",
      "execution_count": null,
      "id": "e6eb1f18",
      "metadata": {
        "id": "e6eb1f18"
      },
      "outputs": [],
      "source": [
        "변환할컬럼 = ['가을','겨울','봄','여름','봄','여름','겨울','봄','여름','봄','여름']"
      ]
    },
    {
      "cell_type": "code",
      "execution_count": null,
      "id": "0f0acc66",
      "metadata": {
        "id": "0f0acc66",
        "outputId": "708fa2a2-ec8a-40aa-9015-1a0403622951"
      },
      "outputs": [
        {
          "data": {
            "text/plain": [
              "0     가을\n",
              "1     겨울\n",
              "2      봄\n",
              "3     여름\n",
              "4      봄\n",
              "5     여름\n",
              "6     겨울\n",
              "7      봄\n",
              "8     여름\n",
              "9      봄\n",
              "10    여름\n",
              "dtype: object"
            ]
          },
          "execution_count": 186,
          "metadata": {},
          "output_type": "execute_result"
        }
      ],
      "source": [
        "target = pd.Series(변환할컬럼)\n",
        "target"
      ]
    },
    {
      "cell_type": "code",
      "execution_count": null,
      "id": "236cba24",
      "metadata": {
        "id": "236cba24",
        "outputId": "5f960e27-b35b-43bd-da14-a34a5188ff7b"
      },
      "outputs": [
        {
          "name": "stdout",
          "output_type": "stream",
          "text": [
            "[0 1 2 3 2 3 1 2 3 2 3] <class 'numpy.ndarray'>\n"
          ]
        }
      ],
      "source": [
        "target2 = encoder.transform(target) #fit 시키고 transform 시키는 경우 \n",
        "print(target2, type(target2))"
      ]
    },
    {
      "cell_type": "code",
      "execution_count": null,
      "id": "292e1529",
      "metadata": {
        "id": "292e1529",
        "outputId": "22bd1414-343d-4562-b700-c9ab07a1cd70"
      },
      "outputs": [
        {
          "data": {
            "text/plain": [
              "[9, 8, 7, 5, 4, 3, 1]"
            ]
          },
          "execution_count": 188,
          "metadata": {},
          "output_type": "execute_result"
        }
      ],
      "source": [
        "#inverse: 거꾸로 되돌리다 \n",
        "array1 = [1,3,4,5,7,8,9]\n",
        "list.reverse(array1)\n",
        "array1"
      ]
    },
    {
      "cell_type": "code",
      "execution_count": null,
      "id": "970fa87c",
      "metadata": {
        "id": "970fa87c",
        "outputId": "fd075ad1-dfe0-493f-c065-7e8873dd71a0"
      },
      "outputs": [
        {
          "data": {
            "text/plain": [
              "array(['가을', '겨울', '봄', '여름', '봄', '여름', '겨울', '봄', '여름', '봄', '여름'],\n",
              "      dtype=object)"
            ]
          },
          "execution_count": 189,
          "metadata": {},
          "output_type": "execute_result"
        }
      ],
      "source": [
        "target3 = encoder.inverse_transform(target2)\n",
        "target3"
      ]
    },
    {
      "cell_type": "code",
      "execution_count": null,
      "id": "0dbd6ecc",
      "metadata": {
        "id": "0dbd6ecc"
      },
      "outputs": [],
      "source": [
        "##라벨 인코딩할 컬럼이 2-3개인 경우 "
      ]
    },
    {
      "cell_type": "code",
      "execution_count": null,
      "id": "5add36c2",
      "metadata": {
        "id": "5add36c2"
      },
      "outputs": [],
      "source": [
        "words = ['apple','summer','summer','spring','spring']\n",
        "hobby = ['book', 'run','talk','coffee','song']"
      ]
    },
    {
      "cell_type": "code",
      "execution_count": null,
      "id": "b19974bb",
      "metadata": {
        "id": "b19974bb",
        "outputId": "af3902af-2314-4a41-b679-3d4d2fa68af0"
      },
      "outputs": [
        {
          "data": {
            "text/html": [
              "<div>\n",
              "<style scoped>\n",
              "    .dataframe tbody tr th:only-of-type {\n",
              "        vertical-align: middle;\n",
              "    }\n",
              "\n",
              "    .dataframe tbody tr th {\n",
              "        vertical-align: top;\n",
              "    }\n",
              "\n",
              "    .dataframe thead th {\n",
              "        text-align: right;\n",
              "    }\n",
              "</style>\n",
              "<table border=\"1\" class=\"dataframe\">\n",
              "  <thead>\n",
              "    <tr style=\"text-align: right;\">\n",
              "      <th></th>\n",
              "      <th>words</th>\n",
              "      <th>hobby</th>\n",
              "    </tr>\n",
              "  </thead>\n",
              "  <tbody>\n",
              "    <tr>\n",
              "      <th>0</th>\n",
              "      <td>apple</td>\n",
              "      <td>book</td>\n",
              "    </tr>\n",
              "    <tr>\n",
              "      <th>1</th>\n",
              "      <td>summer</td>\n",
              "      <td>run</td>\n",
              "    </tr>\n",
              "    <tr>\n",
              "      <th>2</th>\n",
              "      <td>summer</td>\n",
              "      <td>talk</td>\n",
              "    </tr>\n",
              "    <tr>\n",
              "      <th>3</th>\n",
              "      <td>spring</td>\n",
              "      <td>coffee</td>\n",
              "    </tr>\n",
              "    <tr>\n",
              "      <th>4</th>\n",
              "      <td>spring</td>\n",
              "      <td>song</td>\n",
              "    </tr>\n",
              "  </tbody>\n",
              "</table>\n",
              "</div>"
            ],
            "text/plain": [
              "    words   hobby\n",
              "0   apple    book\n",
              "1  summer     run\n",
              "2  summer    talk\n",
              "3  spring  coffee\n",
              "4  spring    song"
            ]
          },
          "execution_count": 192,
          "metadata": {},
          "output_type": "execute_result"
        }
      ],
      "source": [
        "df = pd.DataFrame({\n",
        "    'words':words,\n",
        "    'hobby':hobby\n",
        "})\n",
        "df"
      ]
    },
    {
      "cell_type": "code",
      "execution_count": null,
      "id": "087b46eb",
      "metadata": {
        "id": "087b46eb"
      },
      "outputs": [],
      "source": [
        "encoder2 = LabelEncoder()"
      ]
    },
    {
      "cell_type": "code",
      "execution_count": null,
      "id": "a53912b1",
      "metadata": {
        "id": "a53912b1",
        "outputId": "3f25295c-5af1-457f-8ac8-1c4848742db3"
      },
      "outputs": [
        {
          "data": {
            "text/plain": [
              "Index(['words', 'hobby'], dtype='object')"
            ]
          },
          "execution_count": 194,
          "metadata": {},
          "output_type": "execute_result"
        }
      ],
      "source": [
        "col = df.columns\n",
        "col"
      ]
    },
    {
      "cell_type": "code",
      "execution_count": null,
      "id": "b1cdd474",
      "metadata": {
        "id": "b1cdd474"
      },
      "outputs": [],
      "source": [
        "for c in col:\n",
        "    df[c] = encoder2.fit_transform(df[c]) #fit와 transform 동시에 시키는 경우 "
      ]
    },
    {
      "cell_type": "code",
      "execution_count": null,
      "id": "13925a60",
      "metadata": {
        "id": "13925a60",
        "outputId": "1a3d3364-8d12-4cee-9a8a-61b64422cfce"
      },
      "outputs": [
        {
          "data": {
            "text/html": [
              "<div>\n",
              "<style scoped>\n",
              "    .dataframe tbody tr th:only-of-type {\n",
              "        vertical-align: middle;\n",
              "    }\n",
              "\n",
              "    .dataframe tbody tr th {\n",
              "        vertical-align: top;\n",
              "    }\n",
              "\n",
              "    .dataframe thead th {\n",
              "        text-align: right;\n",
              "    }\n",
              "</style>\n",
              "<table border=\"1\" class=\"dataframe\">\n",
              "  <thead>\n",
              "    <tr style=\"text-align: right;\">\n",
              "      <th></th>\n",
              "      <th>words</th>\n",
              "      <th>hobby</th>\n",
              "    </tr>\n",
              "  </thead>\n",
              "  <tbody>\n",
              "    <tr>\n",
              "      <th>0</th>\n",
              "      <td>0</td>\n",
              "      <td>0</td>\n",
              "    </tr>\n",
              "    <tr>\n",
              "      <th>1</th>\n",
              "      <td>2</td>\n",
              "      <td>2</td>\n",
              "    </tr>\n",
              "    <tr>\n",
              "      <th>2</th>\n",
              "      <td>2</td>\n",
              "      <td>4</td>\n",
              "    </tr>\n",
              "    <tr>\n",
              "      <th>3</th>\n",
              "      <td>1</td>\n",
              "      <td>1</td>\n",
              "    </tr>\n",
              "    <tr>\n",
              "      <th>4</th>\n",
              "      <td>1</td>\n",
              "      <td>3</td>\n",
              "    </tr>\n",
              "  </tbody>\n",
              "</table>\n",
              "</div>"
            ],
            "text/plain": [
              "   words  hobby\n",
              "0      0      0\n",
              "1      2      2\n",
              "2      2      4\n",
              "3      1      1\n",
              "4      1      3"
            ]
          },
          "execution_count": 196,
          "metadata": {},
          "output_type": "execute_result"
        }
      ],
      "source": [
        "df"
      ]
    },
    {
      "cell_type": "code",
      "execution_count": null,
      "id": "3f938ce6",
      "metadata": {
        "id": "3f938ce6"
      },
      "outputs": [],
      "source": [
        "#나이(100,200,300):연속적인 값들은 (연속적인 숫자는) 라벨 인코딩할 \n",
        "                    #필요없이 그대로 사용하면 된다. \n",
        "                    #int라고 생각했던 것이 바껴서 들어가면 문제가 생긴 것임. \n",
        "#나이대(어린이, 성년, 노년):연속적인 숫자가 아님 => 라벨인코딩의 대상이 됨. \n",
        "                            #category를 가지고 있음. "
      ]
    },
    {
      "cell_type": "code",
      "execution_count": null,
      "id": "adf2ab90",
      "metadata": {
        "id": "adf2ab90"
      },
      "outputs": [],
      "source": [
        "#원-핫 인코딩안해주고 라벨인코딩만 해줘도 잘 적용이 되면 이대로 적용해도 된다.ex)titanic\n",
        "#라벨 인코딩한 결과를 가지고 제대로 학습이 안되면, 정확하게 소속을 표현하는\n",
        "#원-핫 인코딩으로 바꿔줘야 한다."
      ]
    },
    {
      "cell_type": "code",
      "execution_count": null,
      "id": "05be847f",
      "metadata": {
        "id": "05be847f"
      },
      "outputs": [],
      "source": [
        "##원-핫 인코딩##\n",
        "##라벨 인코딩: 연속형이 아닌 데이터를 원하는 형태의 숫자로 바꾸어 주는 것. \n",
        "##             1)연속형이 아닌 데이터를 숫자로 변환: LabelEncoder\n",
        "##             fit() -- transform()하는 경우와 fit_transform()으로 하는 경우가 있다. \n",
        "##             2)숫자로만 변환하는 경우, 컴퓨터는 연속형 숫자로 오해하여 연산을 수행을 해서 \n",
        "##             의도치 않는(원하지 않는)결과가 나올 수 있다. 해당됨을 나타나게 하기 위해 \n",
        "##             라벨의 갯수만큼 컬럼을 만들어주고 해당되는 라벨에 표시(1)로 해주는 방법을 사용 \n",
        "##             라벨 인코딩에서 원-핫 인코딩이 자주 사용된다. "
      ]
    },
    {
      "cell_type": "code",
      "execution_count": null,
      "id": "2daa5e35",
      "metadata": {
        "id": "2daa5e35",
        "outputId": "7c897a2a-3cc5-4d16-db59-1ae32882fe57"
      },
      "outputs": [
        {
          "data": {
            "text/plain": [
              "0     apple\n",
              "1    summer\n",
              "2    spring\n",
              "3    summer\n",
              "4    spring\n",
              "dtype: object"
            ]
          },
          "execution_count": 200,
          "metadata": {},
          "output_type": "execute_result"
        }
      ],
      "source": [
        "data2 = pd.Series(['apple','summer','spring','summer','spring'])\n",
        "data2"
      ]
    },
    {
      "cell_type": "code",
      "execution_count": null,
      "id": "c35f76b2",
      "metadata": {
        "id": "c35f76b2",
        "outputId": "28a2d766-e813-4c7e-af8a-c18fc552d7e3"
      },
      "outputs": [
        {
          "data": {
            "text/plain": [
              "array(['apple', 'summer', 'spring'], dtype=object)"
            ]
          },
          "execution_count": 201,
          "metadata": {},
          "output_type": "execute_result"
        }
      ],
      "source": [
        "data2.unique() "
      ]
    },
    {
      "cell_type": "code",
      "execution_count": null,
      "id": "77aa7ac0",
      "metadata": {
        "id": "77aa7ac0",
        "outputId": "cc930116-aa80-4ab9-d409-8a0184a3c2b7"
      },
      "outputs": [
        {
          "data": {
            "text/html": [
              "<div>\n",
              "<style scoped>\n",
              "    .dataframe tbody tr th:only-of-type {\n",
              "        vertical-align: middle;\n",
              "    }\n",
              "\n",
              "    .dataframe tbody tr th {\n",
              "        vertical-align: top;\n",
              "    }\n",
              "\n",
              "    .dataframe thead th {\n",
              "        text-align: right;\n",
              "    }\n",
              "</style>\n",
              "<table border=\"1\" class=\"dataframe\">\n",
              "  <thead>\n",
              "    <tr style=\"text-align: right;\">\n",
              "      <th></th>\n",
              "      <th>apple</th>\n",
              "      <th>spring</th>\n",
              "      <th>summer</th>\n",
              "    </tr>\n",
              "  </thead>\n",
              "  <tbody>\n",
              "    <tr>\n",
              "      <th>0</th>\n",
              "      <td>1</td>\n",
              "      <td>0</td>\n",
              "      <td>0</td>\n",
              "    </tr>\n",
              "    <tr>\n",
              "      <th>1</th>\n",
              "      <td>0</td>\n",
              "      <td>0</td>\n",
              "      <td>1</td>\n",
              "    </tr>\n",
              "    <tr>\n",
              "      <th>2</th>\n",
              "      <td>0</td>\n",
              "      <td>1</td>\n",
              "      <td>0</td>\n",
              "    </tr>\n",
              "    <tr>\n",
              "      <th>3</th>\n",
              "      <td>0</td>\n",
              "      <td>0</td>\n",
              "      <td>1</td>\n",
              "    </tr>\n",
              "    <tr>\n",
              "      <th>4</th>\n",
              "      <td>0</td>\n",
              "      <td>1</td>\n",
              "      <td>0</td>\n",
              "    </tr>\n",
              "  </tbody>\n",
              "</table>\n",
              "</div>"
            ],
            "text/plain": [
              "   apple  spring  summer\n",
              "0      1       0       0\n",
              "1      0       0       1\n",
              "2      0       1       0\n",
              "3      0       0       1\n",
              "4      0       1       0"
            ]
          },
          "execution_count": 202,
          "metadata": {},
          "output_type": "execute_result"
        }
      ],
      "source": [
        "pd.get_dummies(data2)"
      ]
    },
    {
      "cell_type": "code",
      "execution_count": null,
      "id": "059a33ee",
      "metadata": {
        "id": "059a33ee",
        "outputId": "c6ad0309-e10e-412a-e9fc-502c032450d5"
      },
      "outputs": [
        {
          "data": {
            "text/html": [
              "<div>\n",
              "<style scoped>\n",
              "    .dataframe tbody tr th:only-of-type {\n",
              "        vertical-align: middle;\n",
              "    }\n",
              "\n",
              "    .dataframe tbody tr th {\n",
              "        vertical-align: top;\n",
              "    }\n",
              "\n",
              "    .dataframe thead th {\n",
              "        text-align: right;\n",
              "    }\n",
              "</style>\n",
              "<table border=\"1\" class=\"dataframe\">\n",
              "  <thead>\n",
              "    <tr style=\"text-align: right;\">\n",
              "      <th></th>\n",
              "      <th>words</th>\n",
              "      <th>hobby</th>\n",
              "    </tr>\n",
              "  </thead>\n",
              "  <tbody>\n",
              "    <tr>\n",
              "      <th>0</th>\n",
              "      <td>apple</td>\n",
              "      <td>book</td>\n",
              "    </tr>\n",
              "    <tr>\n",
              "      <th>1</th>\n",
              "      <td>summer</td>\n",
              "      <td>run</td>\n",
              "    </tr>\n",
              "    <tr>\n",
              "      <th>2</th>\n",
              "      <td>summer</td>\n",
              "      <td>talk</td>\n",
              "    </tr>\n",
              "    <tr>\n",
              "      <th>3</th>\n",
              "      <td>spring</td>\n",
              "      <td>coffee</td>\n",
              "    </tr>\n",
              "    <tr>\n",
              "      <th>4</th>\n",
              "      <td>spring</td>\n",
              "      <td>song</td>\n",
              "    </tr>\n",
              "  </tbody>\n",
              "</table>\n",
              "</div>"
            ],
            "text/plain": [
              "    words   hobby\n",
              "0   apple    book\n",
              "1  summer     run\n",
              "2  summer    talk\n",
              "3  spring  coffee\n",
              "4  spring    song"
            ]
          },
          "execution_count": 203,
          "metadata": {},
          "output_type": "execute_result"
        }
      ],
      "source": [
        "df2 = pd.DataFrame({\"words\" : ['apple', 'summer', 'summer', 'spring', 'spring'], \n",
        "                    \"hobby\" : ['book', 'run','talk','coffee','song']})\n",
        "df2"
      ]
    },
    {
      "cell_type": "code",
      "execution_count": null,
      "id": "585d0016",
      "metadata": {
        "id": "585d0016",
        "outputId": "204313cf-a1a2-4c02-d52c-e89779e6aaf7"
      },
      "outputs": [
        {
          "data": {
            "text/html": [
              "<div>\n",
              "<style scoped>\n",
              "    .dataframe tbody tr th:only-of-type {\n",
              "        vertical-align: middle;\n",
              "    }\n",
              "\n",
              "    .dataframe tbody tr th {\n",
              "        vertical-align: top;\n",
              "    }\n",
              "\n",
              "    .dataframe thead th {\n",
              "        text-align: right;\n",
              "    }\n",
              "</style>\n",
              "<table border=\"1\" class=\"dataframe\">\n",
              "  <thead>\n",
              "    <tr style=\"text-align: right;\">\n",
              "      <th></th>\n",
              "      <th>book</th>\n",
              "      <th>coffee</th>\n",
              "      <th>run</th>\n",
              "      <th>song</th>\n",
              "      <th>talk</th>\n",
              "    </tr>\n",
              "  </thead>\n",
              "  <tbody>\n",
              "    <tr>\n",
              "      <th>0</th>\n",
              "      <td>1</td>\n",
              "      <td>0</td>\n",
              "      <td>0</td>\n",
              "      <td>0</td>\n",
              "      <td>0</td>\n",
              "    </tr>\n",
              "    <tr>\n",
              "      <th>1</th>\n",
              "      <td>0</td>\n",
              "      <td>0</td>\n",
              "      <td>1</td>\n",
              "      <td>0</td>\n",
              "      <td>0</td>\n",
              "    </tr>\n",
              "    <tr>\n",
              "      <th>2</th>\n",
              "      <td>0</td>\n",
              "      <td>0</td>\n",
              "      <td>0</td>\n",
              "      <td>0</td>\n",
              "      <td>1</td>\n",
              "    </tr>\n",
              "    <tr>\n",
              "      <th>3</th>\n",
              "      <td>0</td>\n",
              "      <td>1</td>\n",
              "      <td>0</td>\n",
              "      <td>0</td>\n",
              "      <td>0</td>\n",
              "    </tr>\n",
              "    <tr>\n",
              "      <th>4</th>\n",
              "      <td>0</td>\n",
              "      <td>0</td>\n",
              "      <td>0</td>\n",
              "      <td>1</td>\n",
              "      <td>0</td>\n",
              "    </tr>\n",
              "  </tbody>\n",
              "</table>\n",
              "</div>"
            ],
            "text/plain": [
              "   book  coffee  run  song  talk\n",
              "0     1       0    0     0     0\n",
              "1     0       0    1     0     0\n",
              "2     0       0    0     0     1\n",
              "3     0       1    0     0     0\n",
              "4     0       0    0     1     0"
            ]
          },
          "execution_count": 204,
          "metadata": {},
          "output_type": "execute_result"
        }
      ],
      "source": [
        "pd.get_dummies(df2['hobby'])"
      ]
    },
    {
      "cell_type": "code",
      "execution_count": null,
      "id": "3739921e",
      "metadata": {
        "id": "3739921e",
        "outputId": "9bf55ba8-7f4d-4f55-f3c9-a8a92287ef33"
      },
      "outputs": [
        {
          "data": {
            "text/html": [
              "<div>\n",
              "<style scoped>\n",
              "    .dataframe tbody tr th:only-of-type {\n",
              "        vertical-align: middle;\n",
              "    }\n",
              "\n",
              "    .dataframe tbody tr th {\n",
              "        vertical-align: top;\n",
              "    }\n",
              "\n",
              "    .dataframe thead th {\n",
              "        text-align: right;\n",
              "    }\n",
              "</style>\n",
              "<table border=\"1\" class=\"dataframe\">\n",
              "  <thead>\n",
              "    <tr style=\"text-align: right;\">\n",
              "      <th></th>\n",
              "      <th>words</th>\n",
              "      <th>hobby</th>\n",
              "    </tr>\n",
              "  </thead>\n",
              "  <tbody>\n",
              "    <tr>\n",
              "      <th>0</th>\n",
              "      <td>apple</td>\n",
              "      <td>book</td>\n",
              "    </tr>\n",
              "    <tr>\n",
              "      <th>1</th>\n",
              "      <td>summer</td>\n",
              "      <td>run</td>\n",
              "    </tr>\n",
              "    <tr>\n",
              "      <th>2</th>\n",
              "      <td>summer</td>\n",
              "      <td>talk</td>\n",
              "    </tr>\n",
              "    <tr>\n",
              "      <th>3</th>\n",
              "      <td>spring</td>\n",
              "      <td>coffee</td>\n",
              "    </tr>\n",
              "    <tr>\n",
              "      <th>4</th>\n",
              "      <td>spring</td>\n",
              "      <td>song</td>\n",
              "    </tr>\n",
              "  </tbody>\n",
              "</table>\n",
              "</div>"
            ],
            "text/plain": [
              "    words   hobby\n",
              "0   apple    book\n",
              "1  summer     run\n",
              "2  summer    talk\n",
              "3  spring  coffee\n",
              "4  spring    song"
            ]
          },
          "execution_count": 205,
          "metadata": {},
          "output_type": "execute_result"
        }
      ],
      "source": [
        "df2.loc[:,['words','hobby']]"
      ]
    },
    {
      "cell_type": "code",
      "execution_count": null,
      "id": "bd1e9560",
      "metadata": {
        "id": "bd1e9560",
        "outputId": "1ec4fab5-59b5-46c7-9953-1f9cd9924d0b"
      },
      "outputs": [
        {
          "data": {
            "text/html": [
              "<div>\n",
              "<style scoped>\n",
              "    .dataframe tbody tr th:only-of-type {\n",
              "        vertical-align: middle;\n",
              "    }\n",
              "\n",
              "    .dataframe tbody tr th {\n",
              "        vertical-align: top;\n",
              "    }\n",
              "\n",
              "    .dataframe thead th {\n",
              "        text-align: right;\n",
              "    }\n",
              "</style>\n",
              "<table border=\"1\" class=\"dataframe\">\n",
              "  <thead>\n",
              "    <tr style=\"text-align: right;\">\n",
              "      <th></th>\n",
              "      <th>country</th>\n",
              "      <th>beer_servings</th>\n",
              "      <th>spirit_servings</th>\n",
              "      <th>wine_servings</th>\n",
              "      <th>total_litres_of_pure_alcohol</th>\n",
              "      <th>continent</th>\n",
              "    </tr>\n",
              "  </thead>\n",
              "  <tbody>\n",
              "    <tr>\n",
              "      <th>0</th>\n",
              "      <td>Afghanistan</td>\n",
              "      <td>0</td>\n",
              "      <td>0</td>\n",
              "      <td>0</td>\n",
              "      <td>0.0</td>\n",
              "      <td>AS</td>\n",
              "    </tr>\n",
              "    <tr>\n",
              "      <th>1</th>\n",
              "      <td>Albania</td>\n",
              "      <td>89</td>\n",
              "      <td>132</td>\n",
              "      <td>54</td>\n",
              "      <td>4.9</td>\n",
              "      <td>EU</td>\n",
              "    </tr>\n",
              "    <tr>\n",
              "      <th>2</th>\n",
              "      <td>Algeria</td>\n",
              "      <td>25</td>\n",
              "      <td>0</td>\n",
              "      <td>14</td>\n",
              "      <td>0.7</td>\n",
              "      <td>AF</td>\n",
              "    </tr>\n",
              "    <tr>\n",
              "      <th>3</th>\n",
              "      <td>Andorra</td>\n",
              "      <td>245</td>\n",
              "      <td>138</td>\n",
              "      <td>312</td>\n",
              "      <td>12.4</td>\n",
              "      <td>EU</td>\n",
              "    </tr>\n",
              "    <tr>\n",
              "      <th>4</th>\n",
              "      <td>Angola</td>\n",
              "      <td>217</td>\n",
              "      <td>57</td>\n",
              "      <td>45</td>\n",
              "      <td>5.9</td>\n",
              "      <td>AF</td>\n",
              "    </tr>\n",
              "    <tr>\n",
              "      <th>...</th>\n",
              "      <td>...</td>\n",
              "      <td>...</td>\n",
              "      <td>...</td>\n",
              "      <td>...</td>\n",
              "      <td>...</td>\n",
              "      <td>...</td>\n",
              "    </tr>\n",
              "    <tr>\n",
              "      <th>188</th>\n",
              "      <td>Venezuela</td>\n",
              "      <td>333</td>\n",
              "      <td>100</td>\n",
              "      <td>3</td>\n",
              "      <td>7.7</td>\n",
              "      <td>SA</td>\n",
              "    </tr>\n",
              "    <tr>\n",
              "      <th>189</th>\n",
              "      <td>Vietnam</td>\n",
              "      <td>111</td>\n",
              "      <td>2</td>\n",
              "      <td>1</td>\n",
              "      <td>2.0</td>\n",
              "      <td>AS</td>\n",
              "    </tr>\n",
              "    <tr>\n",
              "      <th>190</th>\n",
              "      <td>Yemen</td>\n",
              "      <td>6</td>\n",
              "      <td>0</td>\n",
              "      <td>0</td>\n",
              "      <td>0.1</td>\n",
              "      <td>AS</td>\n",
              "    </tr>\n",
              "    <tr>\n",
              "      <th>191</th>\n",
              "      <td>Zambia</td>\n",
              "      <td>32</td>\n",
              "      <td>19</td>\n",
              "      <td>4</td>\n",
              "      <td>2.5</td>\n",
              "      <td>AF</td>\n",
              "    </tr>\n",
              "    <tr>\n",
              "      <th>192</th>\n",
              "      <td>Zimbabwe</td>\n",
              "      <td>64</td>\n",
              "      <td>18</td>\n",
              "      <td>4</td>\n",
              "      <td>4.7</td>\n",
              "      <td>AF</td>\n",
              "    </tr>\n",
              "  </tbody>\n",
              "</table>\n",
              "<p>193 rows × 6 columns</p>\n",
              "</div>"
            ],
            "text/plain": [
              "         country  beer_servings  spirit_servings  wine_servings  \\\n",
              "0    Afghanistan              0                0              0   \n",
              "1        Albania             89              132             54   \n",
              "2        Algeria             25                0             14   \n",
              "3        Andorra            245              138            312   \n",
              "4         Angola            217               57             45   \n",
              "..           ...            ...              ...            ...   \n",
              "188    Venezuela            333              100              3   \n",
              "189      Vietnam            111                2              1   \n",
              "190        Yemen              6                0              0   \n",
              "191       Zambia             32               19              4   \n",
              "192     Zimbabwe             64               18              4   \n",
              "\n",
              "     total_litres_of_pure_alcohol continent  \n",
              "0                             0.0        AS  \n",
              "1                             4.9        EU  \n",
              "2                             0.7        AF  \n",
              "3                            12.4        EU  \n",
              "4                             5.9        AF  \n",
              "..                            ...       ...  \n",
              "188                           7.7        SA  \n",
              "189                           2.0        AS  \n",
              "190                           0.1        AS  \n",
              "191                           2.5        AF  \n",
              "192                           4.7        AF  \n",
              "\n",
              "[193 rows x 6 columns]"
            ]
          },
          "execution_count": 206,
          "metadata": {},
          "output_type": "execute_result"
        }
      ],
      "source": [
        "import pandas as pd \n",
        "csv_data = pd.read_csv('C:/Users/hi/csv-data/drinks (1).csv')\n",
        "csv_data"
      ]
    },
    {
      "cell_type": "code",
      "execution_count": null,
      "id": "ca6c3c18",
      "metadata": {
        "id": "ca6c3c18",
        "outputId": "b03e9932-c1af-4806-d1d9-877ece8a42aa"
      },
      "outputs": [
        {
          "data": {
            "text/html": [
              "<div>\n",
              "<style scoped>\n",
              "    .dataframe tbody tr th:only-of-type {\n",
              "        vertical-align: middle;\n",
              "    }\n",
              "\n",
              "    .dataframe tbody tr th {\n",
              "        vertical-align: top;\n",
              "    }\n",
              "\n",
              "    .dataframe thead th {\n",
              "        text-align: right;\n",
              "    }\n",
              "</style>\n",
              "<table border=\"1\" class=\"dataframe\">\n",
              "  <thead>\n",
              "    <tr style=\"text-align: right;\">\n",
              "      <th></th>\n",
              "      <th>beer_servings</th>\n",
              "      <th>continent</th>\n",
              "    </tr>\n",
              "  </thead>\n",
              "  <tbody>\n",
              "    <tr>\n",
              "      <th>0</th>\n",
              "      <td>0</td>\n",
              "      <td>AS</td>\n",
              "    </tr>\n",
              "    <tr>\n",
              "      <th>1</th>\n",
              "      <td>89</td>\n",
              "      <td>EU</td>\n",
              "    </tr>\n",
              "    <tr>\n",
              "      <th>2</th>\n",
              "      <td>25</td>\n",
              "      <td>AF</td>\n",
              "    </tr>\n",
              "    <tr>\n",
              "      <th>3</th>\n",
              "      <td>245</td>\n",
              "      <td>EU</td>\n",
              "    </tr>\n",
              "    <tr>\n",
              "      <th>4</th>\n",
              "      <td>217</td>\n",
              "      <td>AF</td>\n",
              "    </tr>\n",
              "    <tr>\n",
              "      <th>...</th>\n",
              "      <td>...</td>\n",
              "      <td>...</td>\n",
              "    </tr>\n",
              "    <tr>\n",
              "      <th>188</th>\n",
              "      <td>333</td>\n",
              "      <td>SA</td>\n",
              "    </tr>\n",
              "    <tr>\n",
              "      <th>189</th>\n",
              "      <td>111</td>\n",
              "      <td>AS</td>\n",
              "    </tr>\n",
              "    <tr>\n",
              "      <th>190</th>\n",
              "      <td>6</td>\n",
              "      <td>AS</td>\n",
              "    </tr>\n",
              "    <tr>\n",
              "      <th>191</th>\n",
              "      <td>32</td>\n",
              "      <td>AF</td>\n",
              "    </tr>\n",
              "    <tr>\n",
              "      <th>192</th>\n",
              "      <td>64</td>\n",
              "      <td>AF</td>\n",
              "    </tr>\n",
              "  </tbody>\n",
              "</table>\n",
              "<p>193 rows × 2 columns</p>\n",
              "</div>"
            ],
            "text/plain": [
              "     beer_servings continent\n",
              "0                0        AS\n",
              "1               89        EU\n",
              "2               25        AF\n",
              "3              245        EU\n",
              "4              217        AF\n",
              "..             ...       ...\n",
              "188            333        SA\n",
              "189            111        AS\n",
              "190              6        AS\n",
              "191             32        AF\n",
              "192             64        AF\n",
              "\n",
              "[193 rows x 2 columns]"
            ]
          },
          "execution_count": 207,
          "metadata": {},
          "output_type": "execute_result"
        }
      ],
      "source": [
        "df_samples =csv_data.loc[:,['beer_servings', 'continent']]\n",
        "df_samples"
      ]
    },
    {
      "cell_type": "code",
      "execution_count": null,
      "id": "9e0ca56b",
      "metadata": {
        "id": "9e0ca56b"
      },
      "outputs": [],
      "source": [
        "#beer_servings를 세개 의 그룹으로 나누기. \n",
        "#그룹으로 만들어서 1번의 결과를 beer_cat 변수로 추가 \n",
        "#Label Encoding 2가지 방식으로 \n",
        "#원핫인코딩 df전체 \n",
        "#특정 컬럼(1개 또는 그 이상)선택해서 원핫 인코딩 "
      ]
    },
    {
      "cell_type": "code",
      "execution_count": null,
      "id": "2f8b7281",
      "metadata": {
        "id": "2f8b7281"
      },
      "outputs": [],
      "source": [
        "#pclass는 숫자가 크고 작음에 따라서 차이가 있음. \n",
        "#gender는 0에 속하느냐 1에 속하느냐의 차이이지 차이는 없다. \n",
        "#gender 같으 경우에는 차이를 넣어야하기 때문에 원-핫 인코딩을 해야 하고 \n",
        "#pclass는 숫자에 따라 차이가 존재하기 때문에 해도 되고 안해줘도 된다. \n",
        "#숫자가 크기에 차이가 반영되어 있다면 원-핫 인코딩까지는 안해도 된다. "
      ]
    },
    {
      "cell_type": "code",
      "execution_count": null,
      "id": "a4543bbc",
      "metadata": {
        "id": "a4543bbc",
        "outputId": "71ba3bd7-985c-40bf-ac4a-528290c461e9"
      },
      "outputs": [
        {
          "data": {
            "text/plain": [
              "count    193.000000\n",
              "mean     106.160622\n",
              "std      101.143103\n",
              "min        0.000000\n",
              "25%       20.000000\n",
              "50%       76.000000\n",
              "75%      188.000000\n",
              "max      376.000000\n",
              "Name: beer_servings, dtype: float64"
            ]
          },
          "execution_count": 210,
          "metadata": {},
          "output_type": "execute_result"
        }
      ],
      "source": [
        "df_samples['beer_servings'].describe() # 25% 20.0 50% 76.0 75% 188.0 max 376.0 "
      ]
    },
    {
      "cell_type": "code",
      "execution_count": null,
      "id": "e6f3aacc",
      "metadata": {
        "id": "e6f3aacc",
        "outputId": "37e44942-9e17-4d36-be76-34196c66348f"
      },
      "outputs": [
        {
          "data": {
            "text/html": [
              "<div>\n",
              "<style scoped>\n",
              "    .dataframe tbody tr th:only-of-type {\n",
              "        vertical-align: middle;\n",
              "    }\n",
              "\n",
              "    .dataframe tbody tr th {\n",
              "        vertical-align: top;\n",
              "    }\n",
              "\n",
              "    .dataframe thead th {\n",
              "        text-align: right;\n",
              "    }\n",
              "</style>\n",
              "<table border=\"1\" class=\"dataframe\">\n",
              "  <thead>\n",
              "    <tr style=\"text-align: right;\">\n",
              "      <th></th>\n",
              "      <th>beer_servings</th>\n",
              "      <th>continent</th>\n",
              "    </tr>\n",
              "  </thead>\n",
              "  <tbody>\n",
              "    <tr>\n",
              "      <th>0</th>\n",
              "      <td>low</td>\n",
              "      <td>AS</td>\n",
              "    </tr>\n",
              "    <tr>\n",
              "      <th>1</th>\n",
              "      <td>middle</td>\n",
              "      <td>EU</td>\n",
              "    </tr>\n",
              "    <tr>\n",
              "      <th>2</th>\n",
              "      <td>low</td>\n",
              "      <td>AF</td>\n",
              "    </tr>\n",
              "    <tr>\n",
              "      <th>3</th>\n",
              "      <td>high</td>\n",
              "      <td>EU</td>\n",
              "    </tr>\n",
              "    <tr>\n",
              "      <th>4</th>\n",
              "      <td>high</td>\n",
              "      <td>AF</td>\n",
              "    </tr>\n",
              "    <tr>\n",
              "      <th>...</th>\n",
              "      <td>...</td>\n",
              "      <td>...</td>\n",
              "    </tr>\n",
              "    <tr>\n",
              "      <th>188</th>\n",
              "      <td>high</td>\n",
              "      <td>SA</td>\n",
              "    </tr>\n",
              "    <tr>\n",
              "      <th>189</th>\n",
              "      <td>middle</td>\n",
              "      <td>AS</td>\n",
              "    </tr>\n",
              "    <tr>\n",
              "      <th>190</th>\n",
              "      <td>low</td>\n",
              "      <td>AS</td>\n",
              "    </tr>\n",
              "    <tr>\n",
              "      <th>191</th>\n",
              "      <td>low</td>\n",
              "      <td>AF</td>\n",
              "    </tr>\n",
              "    <tr>\n",
              "      <th>192</th>\n",
              "      <td>low</td>\n",
              "      <td>AF</td>\n",
              "    </tr>\n",
              "  </tbody>\n",
              "</table>\n",
              "<p>193 rows × 2 columns</p>\n",
              "</div>"
            ],
            "text/plain": [
              "    beer_servings continent\n",
              "0             low        AS\n",
              "1          middle        EU\n",
              "2             low        AF\n",
              "3            high        EU\n",
              "4            high        AF\n",
              "..            ...       ...\n",
              "188          high        SA\n",
              "189        middle        AS\n",
              "190           low        AS\n",
              "191           low        AF\n",
              "192           low        AF\n",
              "\n",
              "[193 rows x 2 columns]"
            ]
          },
          "execution_count": 211,
          "metadata": {},
          "output_type": "execute_result"
        }
      ],
      "source": [
        "df_samples['beer_servings'] = pd.cut(\n",
        "                            df_samples['beer_servings'], \n",
        "                            bins = [0,76,188,376],\n",
        "                            include_lowest=  True,  \n",
        "                            labels = ['low','middle','high']\n",
        "                        )\n",
        "df_samples\n"
      ]
    },
    {
      "cell_type": "code",
      "execution_count": null,
      "id": "83bd2d13",
      "metadata": {
        "id": "83bd2d13"
      },
      "outputs": [],
      "source": [
        "encoder = LabelEncoder()\n",
        "#beer_cat = \n"
      ]
    },
    {
      "cell_type": "code",
      "execution_count": null,
      "id": "08cd4f36",
      "metadata": {
        "id": "08cd4f36",
        "outputId": "b790bf4d-9008-4b96-bbac-d0d04921a22c"
      },
      "outputs": [
        {
          "data": {
            "text/plain": [
              "LabelEncoder()"
            ]
          },
          "execution_count": 213,
          "metadata": {},
          "output_type": "execute_result"
        }
      ],
      "source": [
        "encoder.fit(df_samples['beer_servings'])"
      ]
    },
    {
      "cell_type": "code",
      "execution_count": null,
      "id": "dae6fe7c",
      "metadata": {
        "id": "dae6fe7c",
        "outputId": "74c91241-0bca-4b55-9a2c-6d8a53100905"
      },
      "outputs": [
        {
          "data": {
            "text/plain": [
              "array(['high', 'low', 'middle'], dtype=object)"
            ]
          },
          "execution_count": 214,
          "metadata": {},
          "output_type": "execute_result"
        }
      ],
      "source": [
        "encoder.classes_"
      ]
    },
    {
      "cell_type": "code",
      "execution_count": null,
      "id": "15826daa",
      "metadata": {
        "id": "15826daa"
      },
      "outputs": [],
      "source": [
        "change_col = df_samples['beer_servings']\n",
        "target = pd.Series(change_col)"
      ]
    },
    {
      "cell_type": "code",
      "execution_count": null,
      "id": "fc065706",
      "metadata": {
        "id": "fc065706",
        "outputId": "712d0f68-442a-4267-9441-2e591bde8fa7"
      },
      "outputs": [
        {
          "data": {
            "text/plain": [
              "0         low\n",
              "1      middle\n",
              "2         low\n",
              "3        high\n",
              "4        high\n",
              "        ...  \n",
              "188      high\n",
              "189    middle\n",
              "190       low\n",
              "191       low\n",
              "192       low\n",
              "Name: beer_servings, Length: 193, dtype: category\n",
              "Categories (3, object): ['low' < 'middle' < 'high']"
            ]
          },
          "execution_count": 216,
          "metadata": {},
          "output_type": "execute_result"
        }
      ],
      "source": [
        "target"
      ]
    },
    {
      "cell_type": "code",
      "execution_count": null,
      "id": "882d0e6f",
      "metadata": {
        "id": "882d0e6f"
      },
      "outputs": [],
      "source": [
        "target2 = encoder.transform(target)\n",
        "df_samples['beer_cat'] = target2"
      ]
    },
    {
      "cell_type": "code",
      "execution_count": null,
      "id": "08e2c15b",
      "metadata": {
        "id": "08e2c15b",
        "outputId": "971be0f5-fe8a-4cfa-e6e4-98cc6307a57a"
      },
      "outputs": [
        {
          "data": {
            "text/html": [
              "<div>\n",
              "<style scoped>\n",
              "    .dataframe tbody tr th:only-of-type {\n",
              "        vertical-align: middle;\n",
              "    }\n",
              "\n",
              "    .dataframe tbody tr th {\n",
              "        vertical-align: top;\n",
              "    }\n",
              "\n",
              "    .dataframe thead th {\n",
              "        text-align: right;\n",
              "    }\n",
              "</style>\n",
              "<table border=\"1\" class=\"dataframe\">\n",
              "  <thead>\n",
              "    <tr style=\"text-align: right;\">\n",
              "      <th></th>\n",
              "      <th>beer_servings</th>\n",
              "      <th>continent</th>\n",
              "      <th>beer_cat</th>\n",
              "    </tr>\n",
              "  </thead>\n",
              "  <tbody>\n",
              "    <tr>\n",
              "      <th>0</th>\n",
              "      <td>low</td>\n",
              "      <td>AS</td>\n",
              "      <td>1</td>\n",
              "    </tr>\n",
              "    <tr>\n",
              "      <th>1</th>\n",
              "      <td>middle</td>\n",
              "      <td>EU</td>\n",
              "      <td>2</td>\n",
              "    </tr>\n",
              "    <tr>\n",
              "      <th>2</th>\n",
              "      <td>low</td>\n",
              "      <td>AF</td>\n",
              "      <td>1</td>\n",
              "    </tr>\n",
              "    <tr>\n",
              "      <th>3</th>\n",
              "      <td>high</td>\n",
              "      <td>EU</td>\n",
              "      <td>0</td>\n",
              "    </tr>\n",
              "    <tr>\n",
              "      <th>4</th>\n",
              "      <td>high</td>\n",
              "      <td>AF</td>\n",
              "      <td>0</td>\n",
              "    </tr>\n",
              "    <tr>\n",
              "      <th>...</th>\n",
              "      <td>...</td>\n",
              "      <td>...</td>\n",
              "      <td>...</td>\n",
              "    </tr>\n",
              "    <tr>\n",
              "      <th>188</th>\n",
              "      <td>high</td>\n",
              "      <td>SA</td>\n",
              "      <td>0</td>\n",
              "    </tr>\n",
              "    <tr>\n",
              "      <th>189</th>\n",
              "      <td>middle</td>\n",
              "      <td>AS</td>\n",
              "      <td>2</td>\n",
              "    </tr>\n",
              "    <tr>\n",
              "      <th>190</th>\n",
              "      <td>low</td>\n",
              "      <td>AS</td>\n",
              "      <td>1</td>\n",
              "    </tr>\n",
              "    <tr>\n",
              "      <th>191</th>\n",
              "      <td>low</td>\n",
              "      <td>AF</td>\n",
              "      <td>1</td>\n",
              "    </tr>\n",
              "    <tr>\n",
              "      <th>192</th>\n",
              "      <td>low</td>\n",
              "      <td>AF</td>\n",
              "      <td>1</td>\n",
              "    </tr>\n",
              "  </tbody>\n",
              "</table>\n",
              "<p>193 rows × 3 columns</p>\n",
              "</div>"
            ],
            "text/plain": [
              "    beer_servings continent  beer_cat\n",
              "0             low        AS         1\n",
              "1          middle        EU         2\n",
              "2             low        AF         1\n",
              "3            high        EU         0\n",
              "4            high        AF         0\n",
              "..            ...       ...       ...\n",
              "188          high        SA         0\n",
              "189        middle        AS         2\n",
              "190           low        AS         1\n",
              "191           low        AF         1\n",
              "192           low        AF         1\n",
              "\n",
              "[193 rows x 3 columns]"
            ]
          },
          "execution_count": 218,
          "metadata": {},
          "output_type": "execute_result"
        }
      ],
      "source": [
        "df_samples"
      ]
    },
    {
      "cell_type": "code",
      "execution_count": null,
      "id": "d6d338bb",
      "metadata": {
        "id": "d6d338bb",
        "outputId": "11634956-21bc-4a78-fb3b-b37ef7707fb9"
      },
      "outputs": [
        {
          "data": {
            "text/plain": [
              "LabelEncoder()"
            ]
          },
          "execution_count": 219,
          "metadata": {},
          "output_type": "execute_result"
        }
      ],
      "source": [
        "encoder2 = LabelEncoder()\n",
        "encoder2"
      ]
    },
    {
      "cell_type": "code",
      "execution_count": null,
      "id": "c3c4f2d9",
      "metadata": {
        "id": "c3c4f2d9",
        "outputId": "6b6b9b03-e22f-4e49-cfcf-fcf0f319006d"
      },
      "outputs": [
        {
          "data": {
            "text/plain": [
              "0      AS\n",
              "1      EU\n",
              "2      AF\n",
              "3      EU\n",
              "4      AF\n",
              "       ..\n",
              "188    SA\n",
              "189    AS\n",
              "190    AS\n",
              "191    AF\n",
              "192    AF\n",
              "Name: continent, Length: 193, dtype: object"
            ]
          },
          "execution_count": 221,
          "metadata": {},
          "output_type": "execute_result"
        }
      ],
      "source": [
        "col = df_samples['continent']\n",
        "col"
      ]
    },
    {
      "cell_type": "code",
      "execution_count": null,
      "id": "a5ed89b4",
      "metadata": {
        "id": "a5ed89b4",
        "outputId": "bcb9877b-af75-4537-f4c2-e2c3075e4c30"
      },
      "outputs": [
        {
          "data": {
            "text/plain": [
              "array(['AS', 'EU', 'AF', nan, 'SA', 'OC'], dtype=object)"
            ]
          },
          "execution_count": 222,
          "metadata": {},
          "output_type": "execute_result"
        }
      ],
      "source": [
        "col.unique()"
      ]
    },
    {
      "cell_type": "code",
      "execution_count": null,
      "id": "84cc9b42",
      "metadata": {
        "id": "84cc9b42",
        "outputId": "caf65aaf-4ef7-40cf-fbcb-6fec3904ca5f"
      },
      "outputs": [
        {
          "data": {
            "text/html": [
              "<div>\n",
              "<style scoped>\n",
              "    .dataframe tbody tr th:only-of-type {\n",
              "        vertical-align: middle;\n",
              "    }\n",
              "\n",
              "    .dataframe tbody tr th {\n",
              "        vertical-align: top;\n",
              "    }\n",
              "\n",
              "    .dataframe thead th {\n",
              "        text-align: right;\n",
              "    }\n",
              "</style>\n",
              "<table border=\"1\" class=\"dataframe\">\n",
              "  <thead>\n",
              "    <tr style=\"text-align: right;\">\n",
              "      <th></th>\n",
              "      <th>AF</th>\n",
              "      <th>AS</th>\n",
              "      <th>EU</th>\n",
              "      <th>OC</th>\n",
              "      <th>SA</th>\n",
              "    </tr>\n",
              "  </thead>\n",
              "  <tbody>\n",
              "    <tr>\n",
              "      <th>0</th>\n",
              "      <td>0</td>\n",
              "      <td>1</td>\n",
              "      <td>0</td>\n",
              "      <td>0</td>\n",
              "      <td>0</td>\n",
              "    </tr>\n",
              "    <tr>\n",
              "      <th>1</th>\n",
              "      <td>0</td>\n",
              "      <td>0</td>\n",
              "      <td>1</td>\n",
              "      <td>0</td>\n",
              "      <td>0</td>\n",
              "    </tr>\n",
              "    <tr>\n",
              "      <th>2</th>\n",
              "      <td>1</td>\n",
              "      <td>0</td>\n",
              "      <td>0</td>\n",
              "      <td>0</td>\n",
              "      <td>0</td>\n",
              "    </tr>\n",
              "    <tr>\n",
              "      <th>3</th>\n",
              "      <td>0</td>\n",
              "      <td>0</td>\n",
              "      <td>1</td>\n",
              "      <td>0</td>\n",
              "      <td>0</td>\n",
              "    </tr>\n",
              "    <tr>\n",
              "      <th>4</th>\n",
              "      <td>1</td>\n",
              "      <td>0</td>\n",
              "      <td>0</td>\n",
              "      <td>0</td>\n",
              "      <td>0</td>\n",
              "    </tr>\n",
              "    <tr>\n",
              "      <th>...</th>\n",
              "      <td>...</td>\n",
              "      <td>...</td>\n",
              "      <td>...</td>\n",
              "      <td>...</td>\n",
              "      <td>...</td>\n",
              "    </tr>\n",
              "    <tr>\n",
              "      <th>188</th>\n",
              "      <td>0</td>\n",
              "      <td>0</td>\n",
              "      <td>0</td>\n",
              "      <td>0</td>\n",
              "      <td>1</td>\n",
              "    </tr>\n",
              "    <tr>\n",
              "      <th>189</th>\n",
              "      <td>0</td>\n",
              "      <td>1</td>\n",
              "      <td>0</td>\n",
              "      <td>0</td>\n",
              "      <td>0</td>\n",
              "    </tr>\n",
              "    <tr>\n",
              "      <th>190</th>\n",
              "      <td>0</td>\n",
              "      <td>1</td>\n",
              "      <td>0</td>\n",
              "      <td>0</td>\n",
              "      <td>0</td>\n",
              "    </tr>\n",
              "    <tr>\n",
              "      <th>191</th>\n",
              "      <td>1</td>\n",
              "      <td>0</td>\n",
              "      <td>0</td>\n",
              "      <td>0</td>\n",
              "      <td>0</td>\n",
              "    </tr>\n",
              "    <tr>\n",
              "      <th>192</th>\n",
              "      <td>1</td>\n",
              "      <td>0</td>\n",
              "      <td>0</td>\n",
              "      <td>0</td>\n",
              "      <td>0</td>\n",
              "    </tr>\n",
              "  </tbody>\n",
              "</table>\n",
              "<p>193 rows × 5 columns</p>\n",
              "</div>"
            ],
            "text/plain": [
              "     AF  AS  EU  OC  SA\n",
              "0     0   1   0   0   0\n",
              "1     0   0   1   0   0\n",
              "2     1   0   0   0   0\n",
              "3     0   0   1   0   0\n",
              "4     1   0   0   0   0\n",
              "..   ..  ..  ..  ..  ..\n",
              "188   0   0   0   0   1\n",
              "189   0   1   0   0   0\n",
              "190   0   1   0   0   0\n",
              "191   1   0   0   0   0\n",
              "192   1   0   0   0   0\n",
              "\n",
              "[193 rows x 5 columns]"
            ]
          },
          "execution_count": 223,
          "metadata": {},
          "output_type": "execute_result"
        }
      ],
      "source": [
        "pd.get_dummies(col)"
      ]
    },
    {
      "cell_type": "code",
      "execution_count": null,
      "id": "0ecc49cd",
      "metadata": {
        "id": "0ecc49cd"
      },
      "outputs": [],
      "source": [
        ""
      ]
    }
  ],
  "metadata": {
    "kernelspec": {
      "display_name": "Python 3 (ipykernel)",
      "language": "python",
      "name": "python3"
    },
    "language_info": {
      "codemirror_mode": {
        "name": "ipython",
        "version": 3
      },
      "file_extension": ".py",
      "mimetype": "text/x-python",
      "name": "python",
      "nbconvert_exporter": "python",
      "pygments_lexer": "ipython3",
      "version": "3.7.13"
    },
    "colab": {
      "name": "label_encoding.ipynb",
      "provenance": [],
      "include_colab_link": true
    }
  },
  "nbformat": 4,
  "nbformat_minor": 5
}