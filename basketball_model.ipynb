{
  "nbformat": 4,
  "nbformat_minor": 0,
  "metadata": {
    "colab": {
      "name": "basketball_model.ipynb",
      "provenance": [],
      "collapsed_sections": [],
      "mount_file_id": "1bv_ofbKcBTo-IWHLlEPoGMEATieucasL",
      "authorship_tag": "ABX9TyO2gFrz9tFo/wVMkN1Ekp3/",
      "include_colab_link": true
    },
    "kernelspec": {
      "name": "python3",
      "display_name": "Python 3"
    },
    "language_info": {
      "name": "python"
    }
  },
  "cells": [
    {
      "cell_type": "markdown",
      "metadata": {
        "id": "view-in-github",
        "colab_type": "text"
      },
      "source": [
        "<a href=\"https://colab.research.google.com/github/Shin-Sangseok/Google_colab_practice/blob/main/basketball_model.ipynb\" target=\"_parent\"><img src=\"https://colab.research.google.com/assets/colab-badge.svg\" alt=\"Open In Colab\"/></a>"
      ]
    },
    {
      "cell_type": "code",
      "execution_count": 91,
      "metadata": {
        "id": "daJZDTyxbyQS"
      },
      "outputs": [],
      "source": [
        "\n",
        "# 주요 라이브러리 import\n",
        "import warnings\n",
        "warnings.filterwarnings(action='ignore')\n",
        "import time\n",
        "from IPython.display import Image\n",
        "import pandas as pd\n",
        "import numpy as np\n",
        "\n",
        "import matplotlib.pyplot as plt\n",
        "import seaborn as sns\n",
        "\n",
        "from sklearn.model_selection import train_test_split\n",
        "from sklearn.model_selection import GridSearchCV\n",
        "from sklearn.model_selection import cross_val_score\n",
        "from sklearn.metrics import *\n",
        "\n",
        "from matplotlib import rc, font_manager\n",
        "import matplotlib.font_manager as fm\n",
        "from sklearn.preprocessing import StandardScaler\n",
        "\n",
        "from sklearn.preprocessing import MinMaxScaler\n",
        "\n",
        "# 디렉토리 및 파일 이름에 맞추어 변경\n",
        "#font_location = '/Library/Fonts/Arial Unicode.ttf'#윈도우안에있는 폰트파일주소.\n",
        "# font_location = './NanumGothic.ttf'\n",
        "#font_name = fm.FontProperties(fname=font_location).get_name()\n",
        "#rc('font', family=font_name)"
      ]
    },
    {
      "cell_type": "code",
      "source": [
        "#train, test\n",
        "#train = pd.read_csv('https://raw.githubsercontent.com/wikibook/machine-learning/2.0/data/csv/basketball_train.csv')\n",
        "#test = pd.read_csv('https://raw.githubsercontent.com/wikibook/machine-learning/2.0/data/csv/basketball_test.csv')"
      ],
      "metadata": {
        "id": "4sV_rrnVb49X"
      },
      "execution_count": 92,
      "outputs": []
    },
    {
      "cell_type": "code",
      "source": [
        "df = pd.read_csv('/content/drive/MyDrive/python-data/basketball_stat.csv', encoding = 'utf-8')\n",
        "df.head()"
      ],
      "metadata": {
        "colab": {
          "base_uri": "https://localhost:8080/",
          "height": 206
        },
        "id": "SVkOiT3vsTpF",
        "outputId": "aa6acd5b-cc65-4658-9ca3-68a92f32773e"
      },
      "execution_count": 93,
      "outputs": [
        {
          "output_type": "execute_result",
          "data": {
            "text/plain": [
              "           Player Pos   3P   2P  TRB  AST  STL  BLK\n",
              "0    Alex Abrines  SG  1.4  0.6  1.3  0.6  0.5  0.1\n",
              "1    Steven Adams   C  0.0  4.7  7.7  1.1  1.1  1.0\n",
              "2   Alexis Ajinca   C  0.0  2.3  4.5  0.3  0.5  0.6\n",
              "3  Chris Andersen   C  0.0  0.8  2.6  0.4  0.4  0.6\n",
              "4     Will Barton  SG  1.5  3.5  4.3  3.4  0.8  0.5"
            ],
            "text/html": [
              "\n",
              "  <div id=\"df-64ee718e-d337-4162-a688-a655fc037766\">\n",
              "    <div class=\"colab-df-container\">\n",
              "      <div>\n",
              "<style scoped>\n",
              "    .dataframe tbody tr th:only-of-type {\n",
              "        vertical-align: middle;\n",
              "    }\n",
              "\n",
              "    .dataframe tbody tr th {\n",
              "        vertical-align: top;\n",
              "    }\n",
              "\n",
              "    .dataframe thead th {\n",
              "        text-align: right;\n",
              "    }\n",
              "</style>\n",
              "<table border=\"1\" class=\"dataframe\">\n",
              "  <thead>\n",
              "    <tr style=\"text-align: right;\">\n",
              "      <th></th>\n",
              "      <th>Player</th>\n",
              "      <th>Pos</th>\n",
              "      <th>3P</th>\n",
              "      <th>2P</th>\n",
              "      <th>TRB</th>\n",
              "      <th>AST</th>\n",
              "      <th>STL</th>\n",
              "      <th>BLK</th>\n",
              "    </tr>\n",
              "  </thead>\n",
              "  <tbody>\n",
              "    <tr>\n",
              "      <th>0</th>\n",
              "      <td>Alex Abrines</td>\n",
              "      <td>SG</td>\n",
              "      <td>1.4</td>\n",
              "      <td>0.6</td>\n",
              "      <td>1.3</td>\n",
              "      <td>0.6</td>\n",
              "      <td>0.5</td>\n",
              "      <td>0.1</td>\n",
              "    </tr>\n",
              "    <tr>\n",
              "      <th>1</th>\n",
              "      <td>Steven Adams</td>\n",
              "      <td>C</td>\n",
              "      <td>0.0</td>\n",
              "      <td>4.7</td>\n",
              "      <td>7.7</td>\n",
              "      <td>1.1</td>\n",
              "      <td>1.1</td>\n",
              "      <td>1.0</td>\n",
              "    </tr>\n",
              "    <tr>\n",
              "      <th>2</th>\n",
              "      <td>Alexis Ajinca</td>\n",
              "      <td>C</td>\n",
              "      <td>0.0</td>\n",
              "      <td>2.3</td>\n",
              "      <td>4.5</td>\n",
              "      <td>0.3</td>\n",
              "      <td>0.5</td>\n",
              "      <td>0.6</td>\n",
              "    </tr>\n",
              "    <tr>\n",
              "      <th>3</th>\n",
              "      <td>Chris Andersen</td>\n",
              "      <td>C</td>\n",
              "      <td>0.0</td>\n",
              "      <td>0.8</td>\n",
              "      <td>2.6</td>\n",
              "      <td>0.4</td>\n",
              "      <td>0.4</td>\n",
              "      <td>0.6</td>\n",
              "    </tr>\n",
              "    <tr>\n",
              "      <th>4</th>\n",
              "      <td>Will Barton</td>\n",
              "      <td>SG</td>\n",
              "      <td>1.5</td>\n",
              "      <td>3.5</td>\n",
              "      <td>4.3</td>\n",
              "      <td>3.4</td>\n",
              "      <td>0.8</td>\n",
              "      <td>0.5</td>\n",
              "    </tr>\n",
              "  </tbody>\n",
              "</table>\n",
              "</div>\n",
              "      <button class=\"colab-df-convert\" onclick=\"convertToInteractive('df-64ee718e-d337-4162-a688-a655fc037766')\"\n",
              "              title=\"Convert this dataframe to an interactive table.\"\n",
              "              style=\"display:none;\">\n",
              "        \n",
              "  <svg xmlns=\"http://www.w3.org/2000/svg\" height=\"24px\"viewBox=\"0 0 24 24\"\n",
              "       width=\"24px\">\n",
              "    <path d=\"M0 0h24v24H0V0z\" fill=\"none\"/>\n",
              "    <path d=\"M18.56 5.44l.94 2.06.94-2.06 2.06-.94-2.06-.94-.94-2.06-.94 2.06-2.06.94zm-11 1L8.5 8.5l.94-2.06 2.06-.94-2.06-.94L8.5 2.5l-.94 2.06-2.06.94zm10 10l.94 2.06.94-2.06 2.06-.94-2.06-.94-.94-2.06-.94 2.06-2.06.94z\"/><path d=\"M17.41 7.96l-1.37-1.37c-.4-.4-.92-.59-1.43-.59-.52 0-1.04.2-1.43.59L10.3 9.45l-7.72 7.72c-.78.78-.78 2.05 0 2.83L4 21.41c.39.39.9.59 1.41.59.51 0 1.02-.2 1.41-.59l7.78-7.78 2.81-2.81c.8-.78.8-2.07 0-2.86zM5.41 20L4 18.59l7.72-7.72 1.47 1.35L5.41 20z\"/>\n",
              "  </svg>\n",
              "      </button>\n",
              "      \n",
              "  <style>\n",
              "    .colab-df-container {\n",
              "      display:flex;\n",
              "      flex-wrap:wrap;\n",
              "      gap: 12px;\n",
              "    }\n",
              "\n",
              "    .colab-df-convert {\n",
              "      background-color: #E8F0FE;\n",
              "      border: none;\n",
              "      border-radius: 50%;\n",
              "      cursor: pointer;\n",
              "      display: none;\n",
              "      fill: #1967D2;\n",
              "      height: 32px;\n",
              "      padding: 0 0 0 0;\n",
              "      width: 32px;\n",
              "    }\n",
              "\n",
              "    .colab-df-convert:hover {\n",
              "      background-color: #E2EBFA;\n",
              "      box-shadow: 0px 1px 2px rgba(60, 64, 67, 0.3), 0px 1px 3px 1px rgba(60, 64, 67, 0.15);\n",
              "      fill: #174EA6;\n",
              "    }\n",
              "\n",
              "    [theme=dark] .colab-df-convert {\n",
              "      background-color: #3B4455;\n",
              "      fill: #D2E3FC;\n",
              "    }\n",
              "\n",
              "    [theme=dark] .colab-df-convert:hover {\n",
              "      background-color: #434B5C;\n",
              "      box-shadow: 0px 1px 3px 1px rgba(0, 0, 0, 0.15);\n",
              "      filter: drop-shadow(0px 1px 2px rgba(0, 0, 0, 0.3));\n",
              "      fill: #FFFFFF;\n",
              "    }\n",
              "  </style>\n",
              "\n",
              "      <script>\n",
              "        const buttonEl =\n",
              "          document.querySelector('#df-64ee718e-d337-4162-a688-a655fc037766 button.colab-df-convert');\n",
              "        buttonEl.style.display =\n",
              "          google.colab.kernel.accessAllowed ? 'block' : 'none';\n",
              "\n",
              "        async function convertToInteractive(key) {\n",
              "          const element = document.querySelector('#df-64ee718e-d337-4162-a688-a655fc037766');\n",
              "          const dataTable =\n",
              "            await google.colab.kernel.invokeFunction('convertToInteractive',\n",
              "                                                     [key], {});\n",
              "          if (!dataTable) return;\n",
              "\n",
              "          const docLinkHtml = 'Like what you see? Visit the ' +\n",
              "            '<a target=\"_blank\" href=https://colab.research.google.com/notebooks/data_table.ipynb>data table notebook</a>'\n",
              "            + ' to learn more about interactive tables.';\n",
              "          element.innerHTML = '';\n",
              "          dataTable['output_type'] = 'display_data';\n",
              "          await google.colab.output.renderOutput(dataTable, element);\n",
              "          const docLink = document.createElement('div');\n",
              "          docLink.innerHTML = docLinkHtml;\n",
              "          element.appendChild(docLink);\n",
              "        }\n",
              "      </script>\n",
              "    </div>\n",
              "  </div>\n",
              "  "
            ]
          },
          "metadata": {},
          "execution_count": 93
        }
      ]
    },
    {
      "cell_type": "code",
      "source": [
        "sns.lmplot('STL', '2P', data = df, fit_reg = False, \n",
        "                scatter_kws = {'s': 150}, \n",
        "                markers = ['o','x'], \n",
        "                hue = 'Pos'\n",
        ")\n",
        "plt.title('STL and 2P')"
      ],
      "metadata": {
        "colab": {
          "base_uri": "https://localhost:8080/",
          "height": 403
        },
        "id": "ivBBbj4GeP4A",
        "outputId": "8789ff10-9650-48e2-b94b-dd24f4d77026"
      },
      "execution_count": 94,
      "outputs": [
        {
          "output_type": "execute_result",
          "data": {
            "text/plain": [
              "Text(0.5, 1.0, 'STL and 2P')"
            ]
          },
          "metadata": {},
          "execution_count": 94
        },
        {
          "output_type": "display_data",
          "data": {
            "text/plain": [
              "<Figure size 410x360 with 1 Axes>"
            ],
            "image/png": "[encoded data removed]"
          },
          "metadata": {
            "needs_background": "light"
          }
        }
      ]
    },
    {
      "cell_type": "code",
      "source": [
        "sns.lmplot('AST', '2P', data = df, fit_reg = False,\n",
        "              scatter_kws = {'s': 150}, \n",
        "              markers = ['o','x'], \n",
        "           hue = 'Pos'\n",
        "      )\n",
        "plt.title('AST and SP')"
      ],
      "metadata": {
        "colab": {
          "base_uri": "https://localhost:8080/",
          "height": 403
        },
        "id": "Qm-aR1TVjXBW",
        "outputId": "e3f0aebe-8ccb-4f2d-faed-b94d96526b06"
      },
      "execution_count": 95,
      "outputs": [
        {
          "output_type": "execute_result",
          "data": {
            "text/plain": [
              "Text(0.5, 1.0, 'AST and SP')"
            ]
          },
          "metadata": {},
          "execution_count": 95
        },
        {
          "output_type": "display_data",
          "data": {
            "text/plain": [
              "<Figure size 410x360 with 1 Axes>"
            ],
            "image/png": "[encoded data removed]"
          },
          "metadata": {
            "needs_background": "light"
          }
        }
      ]
    },
    {
      "cell_type": "code",
      "source": [
        "sns.lmplot('3P','BLK', data = df, fit_reg = False, \n",
        "           scatter_kws = {'s': 150}, \n",
        "           markers = ['o','x'], \n",
        "           hue = 'Pos'\n",
        "  )\n",
        "plt.title('3P and BLK')"
      ],
      "metadata": {
        "colab": {
          "base_uri": "https://localhost:8080/",
          "height": 403
        },
        "id": "hkCwrM9ljW8I",
        "outputId": "105817ed-749b-47b3-96f7-5b33336d74bf"
      },
      "execution_count": 96,
      "outputs": [
        {
          "output_type": "execute_result",
          "data": {
            "text/plain": [
              "Text(0.5, 1.0, '3P and BLK')"
            ]
          },
          "metadata": {},
          "execution_count": 96
        },
        {
          "output_type": "display_data",
          "data": {
            "text/plain": [
              "<Figure size 410x360 with 1 Axes>"
            ],
            "image/png": "[encoded data removed]"
          },
          "metadata": {
            "needs_background": "light"
          }
        }
      ]
    },
    {
      "cell_type": "code",
      "source": [
        "sns.lmplot('3P', 'TRB', data = df, fit_reg = False, \n",
        "              scatter_kws = {'s': 150}, \n",
        "              markers = ['o','x'], \n",
        "              hue = 'Pos' \n",
        "          )\n",
        "plt.title('3P and TRB')"
      ],
      "metadata": {
        "colab": {
          "base_uri": "https://localhost:8080/",
          "height": 403
        },
        "id": "ezAZzxPajW5o",
        "outputId": "52b8983b-beb0-441c-bc94-8f1c5f14e197"
      },
      "execution_count": 97,
      "outputs": [
        {
          "output_type": "execute_result",
          "data": {
            "text/plain": [
              "Text(0.5, 1.0, '3P and TRB')"
            ]
          },
          "metadata": {},
          "execution_count": 97
        },
        {
          "output_type": "display_data",
          "data": {
            "text/plain": [
              "<Figure size 410x360 with 1 Axes>"
            ],
            "image/png": "[encoded data removed]"
          },
          "metadata": {
            "needs_background": "light"
          }
        }
      ]
    },
    {
      "cell_type": "code",
      "source": [
        "df.columns"
      ],
      "metadata": {
        "colab": {
          "base_uri": "https://localhost:8080/"
        },
        "id": "xUDT1XViuSB5",
        "outputId": "4d4ef0b0-8732-4c1b-c219-4b83e26864df"
      },
      "execution_count": 98,
      "outputs": [
        {
          "output_type": "execute_result",
          "data": {
            "text/plain": [
              "Index(['Player', 'Pos', '3P', '2P', 'TRB', 'AST', 'STL', 'BLK'], dtype='object')"
            ]
          },
          "metadata": {},
          "execution_count": 98
        }
      ]
    },
    {
      "cell_type": "code",
      "source": [
        "df.drop(['2P', 'AST', 'STL'], axis = 1, inplace =True)"
      ],
      "metadata": {
        "id": "Prm_xeL9jW2Q"
      },
      "execution_count": 99,
      "outputs": []
    },
    {
      "cell_type": "code",
      "source": [
        "df.columns"
      ],
      "metadata": {
        "colab": {
          "base_uri": "https://localhost:8080/"
        },
        "id": "_Bcj0OZnurRq",
        "outputId": "d196b331-46fb-4ec3-ba44-e270a2d376b4"
      },
      "execution_count": 100,
      "outputs": [
        {
          "output_type": "execute_result",
          "data": {
            "text/plain": [
              "Index(['Player', 'Pos', '3P', 'TRB', 'BLK'], dtype='object')"
            ]
          },
          "metadata": {},
          "execution_count": 100
        }
      ]
    },
    {
      "cell_type": "code",
      "source": [
        "df.head()"
      ],
      "metadata": {
        "colab": {
          "base_uri": "https://localhost:8080/",
          "height": 206
        },
        "id": "fjeRyuJcutOK",
        "outputId": "a5a6dc5f-8c5f-46cb-d762-052c6345fb90"
      },
      "execution_count": 101,
      "outputs": [
        {
          "output_type": "execute_result",
          "data": {
            "text/plain": [
              "           Player Pos   3P  TRB  BLK\n",
              "0    Alex Abrines  SG  1.4  1.3  0.1\n",
              "1    Steven Adams   C  0.0  7.7  1.0\n",
              "2   Alexis Ajinca   C  0.0  4.5  0.6\n",
              "3  Chris Andersen   C  0.0  2.6  0.6\n",
              "4     Will Barton  SG  1.5  4.3  0.5"
            ],
            "text/html": [
              "\n",
              "  <div id=\"df-b103e39c-3050-4731-8cff-9bc5eebb6092\">\n",
              "    <div class=\"colab-df-container\">\n",
              "      <div>\n",
              "<style scoped>\n",
              "    .dataframe tbody tr th:only-of-type {\n",
              "        vertical-align: middle;\n",
              "    }\n",
              "\n",
              "    .dataframe tbody tr th {\n",
              "        vertical-align: top;\n",
              "    }\n",
              "\n",
              "    .dataframe thead th {\n",
              "        text-align: right;\n",
              "    }\n",
              "</style>\n",
              "<table border=\"1\" class=\"dataframe\">\n",
              "  <thead>\n",
              "    <tr style=\"text-align: right;\">\n",
              "      <th></th>\n",
              "      <th>Player</th>\n",
              "      <th>Pos</th>\n",
              "      <th>3P</th>\n",
              "      <th>TRB</th>\n",
              "      <th>BLK</th>\n",
              "    </tr>\n",
              "  </thead>\n",
              "  <tbody>\n",
              "    <tr>\n",
              "      <th>0</th>\n",
              "      <td>Alex Abrines</td>\n",
              "      <td>SG</td>\n",
              "      <td>1.4</td>\n",
              "      <td>1.3</td>\n",
              "      <td>0.1</td>\n",
              "    </tr>\n",
              "    <tr>\n",
              "      <th>1</th>\n",
              "      <td>Steven Adams</td>\n",
              "      <td>C</td>\n",
              "      <td>0.0</td>\n",
              "      <td>7.7</td>\n",
              "      <td>1.0</td>\n",
              "    </tr>\n",
              "    <tr>\n",
              "      <th>2</th>\n",
              "      <td>Alexis Ajinca</td>\n",
              "      <td>C</td>\n",
              "      <td>0.0</td>\n",
              "      <td>4.5</td>\n",
              "      <td>0.6</td>\n",
              "    </tr>\n",
              "    <tr>\n",
              "      <th>3</th>\n",
              "      <td>Chris Andersen</td>\n",
              "      <td>C</td>\n",
              "      <td>0.0</td>\n",
              "      <td>2.6</td>\n",
              "      <td>0.6</td>\n",
              "    </tr>\n",
              "    <tr>\n",
              "      <th>4</th>\n",
              "      <td>Will Barton</td>\n",
              "      <td>SG</td>\n",
              "      <td>1.5</td>\n",
              "      <td>4.3</td>\n",
              "      <td>0.5</td>\n",
              "    </tr>\n",
              "  </tbody>\n",
              "</table>\n",
              "</div>\n",
              "      <button class=\"colab-df-convert\" onclick=\"convertToInteractive('df-b103e39c-3050-4731-8cff-9bc5eebb6092')\"\n",
              "              title=\"Convert this dataframe to an interactive table.\"\n",
              "              style=\"display:none;\">\n",
              "        \n",
              "  <svg xmlns=\"http://www.w3.org/2000/svg\" height=\"24px\"viewBox=\"0 0 24 24\"\n",
              "       width=\"24px\">\n",
              "    <path d=\"M0 0h24v24H0V0z\" fill=\"none\"/>\n",
              "    <path d=\"M18.56 5.44l.94 2.06.94-2.06 2.06-.94-2.06-.94-.94-2.06-.94 2.06-2.06.94zm-11 1L8.5 8.5l.94-2.06 2.06-.94-2.06-.94L8.5 2.5l-.94 2.06-2.06.94zm10 10l.94 2.06.94-2.06 2.06-.94-2.06-.94-.94-2.06-.94 2.06-2.06.94z\"/><path d=\"M17.41 7.96l-1.37-1.37c-.4-.4-.92-.59-1.43-.59-.52 0-1.04.2-1.43.59L10.3 9.45l-7.72 7.72c-.78.78-.78 2.05 0 2.83L4 21.41c.39.39.9.59 1.41.59.51 0 1.02-.2 1.41-.59l7.78-7.78 2.81-2.81c.8-.78.8-2.07 0-2.86zM5.41 20L4 18.59l7.72-7.72 1.47 1.35L5.41 20z\"/>\n",
              "  </svg>\n",
              "      </button>\n",
              "      \n",
              "  <style>\n",
              "    .colab-df-container {\n",
              "      display:flex;\n",
              "      flex-wrap:wrap;\n",
              "      gap: 12px;\n",
              "    }\n",
              "\n",
              "    .colab-df-convert {\n",
              "      background-color: #E8F0FE;\n",
              "      border: none;\n",
              "      border-radius: 50%;\n",
              "      cursor: pointer;\n",
              "      display: none;\n",
              "      fill: #1967D2;\n",
              "      height: 32px;\n",
              "      padding: 0 0 0 0;\n",
              "      width: 32px;\n",
              "    }\n",
              "\n",
              "    .colab-df-convert:hover {\n",
              "      background-color: #E2EBFA;\n",
              "      box-shadow: 0px 1px 2px rgba(60, 64, 67, 0.3), 0px 1px 3px 1px rgba(60, 64, 67, 0.15);\n",
              "      fill: #174EA6;\n",
              "    }\n",
              "\n",
              "    [theme=dark] .colab-df-convert {\n",
              "      background-color: #3B4455;\n",
              "      fill: #D2E3FC;\n",
              "    }\n",
              "\n",
              "    [theme=dark] .colab-df-convert:hover {\n",
              "      background-color: #434B5C;\n",
              "      box-shadow: 0px 1px 3px 1px rgba(0, 0, 0, 0.15);\n",
              "      filter: drop-shadow(0px 1px 2px rgba(0, 0, 0, 0.3));\n",
              "      fill: #FFFFFF;\n",
              "    }\n",
              "  </style>\n",
              "\n",
              "      <script>\n",
              "        const buttonEl =\n",
              "          document.querySelector('#df-b103e39c-3050-4731-8cff-9bc5eebb6092 button.colab-df-convert');\n",
              "        buttonEl.style.display =\n",
              "          google.colab.kernel.accessAllowed ? 'block' : 'none';\n",
              "\n",
              "        async function convertToInteractive(key) {\n",
              "          const element = document.querySelector('#df-b103e39c-3050-4731-8cff-9bc5eebb6092');\n",
              "          const dataTable =\n",
              "            await google.colab.kernel.invokeFunction('convertToInteractive',\n",
              "                                                     [key], {});\n",
              "          if (!dataTable) return;\n",
              "\n",
              "          const docLinkHtml = 'Like what you see? Visit the ' +\n",
              "            '<a target=\"_blank\" href=https://colab.research.google.com/notebooks/data_table.ipynb>data table notebook</a>'\n",
              "            + ' to learn more about interactive tables.';\n",
              "          element.innerHTML = '';\n",
              "          dataTable['output_type'] = 'display_data';\n",
              "          await google.colab.output.renderOutput(dataTable, element);\n",
              "          const docLink = document.createElement('div');\n",
              "          docLink.innerHTML = docLinkHtml;\n",
              "          element.appendChild(docLink);\n",
              "        }\n",
              "      </script>\n",
              "    </div>\n",
              "  </div>\n",
              "  "
            ]
          },
          "metadata": {},
          "execution_count": 101
        }
      ]
    },
    {
      "cell_type": "code",
      "source": [
        "X_train, X_test, y_train, y_test = train_test_split(\n",
        "                                df.iloc[:,2:], \n",
        "                                df.iloc[:,1], \n",
        "                                test_size = 0.2, \n",
        "                                random_state = 42 \n",
        "\n",
        "\n",
        ")"
      ],
      "metadata": {
        "id": "uF5neknpuvZy"
      },
      "execution_count": 102,
      "outputs": []
    },
    {
      "cell_type": "markdown",
      "source": [
        ""
      ],
      "metadata": {
        "id": "dmti3W4wgsUH"
      }
    },
    {
      "cell_type": "code",
      "source": [
        "#모델 선정=>cross-validation(교차 검증)\n",
        "#knn, svm, decision tree \n",
        "from sklearn.neighbors import KNeighborsClassifier\n",
        "from sklearn.svm import SVC\n",
        "from sklearn.tree import DecisionTreeClassifier"
      ],
      "metadata": {
        "id": "AMFYHi0ugLAw"
      },
      "execution_count": 103,
      "outputs": []
    },
    {
      "cell_type": "code",
      "source": [
        "model_list = [] \n",
        "knn = KNeighborsClassifier()\n",
        "svm = SVC() \n",
        "dt = DecisionTreeClassifier()\n",
        "model_list = [knn, svm, dt] \n"
      ],
      "metadata": {
        "id": "-g4KDEpBkSkC"
      },
      "execution_count": 104,
      "outputs": []
    },
    {
      "cell_type": "code",
      "source": [
        "model_list "
      ],
      "metadata": {
        "colab": {
          "base_uri": "https://localhost:8080/"
        },
        "id": "YGxPcnMmkShA",
        "outputId": "f77a4b59-6204-4f14-dc1b-e19165f11920"
      },
      "execution_count": 105,
      "outputs": [
        {
          "output_type": "execute_result",
          "data": {
            "text/plain": [
              "[KNeighborsClassifier(), SVC(), DecisionTreeClassifier()]"
            ]
          },
          "metadata": {},
          "execution_count": 105
        }
      ]
    },
    {
      "cell_type": "code",
      "source": [
        "def print_cv(model, train, test, k):\n",
        "   scores = cross_val_score(model, train, test, cv = k) \n",
        "   print('----------교차 검증(cv) 리스트 결과-------------', scores) #avg나 mean이나 비슷하다 \n",
        "   mean_scores = np.mean(scores)\n",
        "   print('----------교차 검증(cv) 평균 결과----------', mean_scores)\n",
        "   return scores, mean_scores \n",
        "   \n",
        "   ##함수의 결과로 여러 개의 데이터를 return 할 수 있다. \n",
        "   ##튜플로 묶어서 반환하게 된다.(scores, mean_scores)\n",
        "   "
      ],
      "metadata": {
        "id": "mX8QX-cxkSdI"
      },
      "execution_count": 106,
      "outputs": []
    },
    {
      "cell_type": "code",
      "source": [
        " #cv_result = print_cv() ##cv_result는 tuple이 저장  (scores, mean_scores)\n",
        " #index_0 = cv_result[0]\n",
        " #index_1 = cv_result[1]"
      ],
      "metadata": {
        "id": "z5r_Vs6AkSSg"
      },
      "execution_count": 107,
      "outputs": []
    },
    {
      "cell_type": "code",
      "source": [
        "#index_0, index_1 = print_cv() "
      ],
      "metadata": {
        "id": "srCdUxi8kSMA"
      },
      "execution_count": 108,
      "outputs": []
    },
    {
      "cell_type": "code",
      "source": [
        "#k = 5 , 전체 몇 번을 교차검증을 하게 될까요? \n",
        "#model_n : 3, k_n = 5, total_n : 15  "
      ],
      "metadata": {
        "id": "iv879SYfnWDj"
      },
      "execution_count": 109,
      "outputs": []
    },
    {
      "cell_type": "code",
      "source": [
        "model_names = [\"KNeighborsClassifier\",\"SVC\",\"DecisionTreeClassifier\"] \n",
        "sc_list = [] \n",
        "mean_sc_list = [] \n",
        "for model in model_list: \n",
        "  sc, mean_sc = print_cv(model, X_train, y_train, 5)\n",
        "  sc_list.append(sc)\n",
        "  mean_sc_list.append(mean_sc)\n",
        "\n",
        "print('******************************************************')\n",
        "print('-------------전체 모델의 교차 검증 이름 리스트 -----')\n",
        "print(model_names)\n",
        "print('-------------전체 모델의 교차 검증 결과 리스트 -----')\n",
        "print(sc_list)\n",
        "print('-------------전체 모델의 교차 검증 결과  평균 -----')\n",
        "print(mean_sc_list)"
      ],
      "metadata": {
        "colab": {
          "base_uri": "https://localhost:8080/"
        },
        "id": "2MZLuSs4nWKx",
        "outputId": "4dba708b-5906-40d2-edf8-019bbe4668c6"
      },
      "execution_count": 110,
      "outputs": [
        {
          "output_type": "stream",
          "name": "stdout",
          "text": [
            "----------교차 검증(cv) 리스트 결과------------- [0.9375 0.8125 0.8125 0.875  1.    ]\n",
            "----------교차 검증(cv) 평균 결과---------- 0.8875\n",
            "----------교차 검증(cv) 리스트 결과------------- [0.875  0.875  0.8125 0.9375 1.    ]\n",
            "----------교차 검증(cv) 평균 결과---------- 0.9\n",
            "----------교차 검증(cv) 리스트 결과------------- [0.9375 1.     0.875  0.9375 1.    ]\n",
            "----------교차 검증(cv) 평균 결과---------- 0.95\n",
            "******************************************************\n",
            "-------------전체 모델의 교차 검증 이름 리스트 -----\n",
            "['KNeighborsClassifier', 'SVC', 'DecisionTreeClassifier']\n",
            "-------------전체 모델의 교차 검증 결과 리스트 -----\n",
            "[array([0.9375, 0.8125, 0.8125, 0.875 , 1.    ]), array([0.875 , 0.875 , 0.8125, 0.9375, 1.    ]), array([0.9375, 1.    , 0.875 , 0.9375, 1.    ])]\n",
            "-------------전체 모델의 교차 검증 결과  평균 -----\n",
            "[0.8875, 0.9, 0.95]\n"
          ]
        }
      ]
    },
    {
      "cell_type": "code",
      "source": [
        "##교차검증 결과 Decision Tree를 사용해서 Test해보기로 결정 "
      ],
      "metadata": {
        "id": "s12MKsX2nWOS"
      },
      "execution_count": 111,
      "outputs": []
    },
    {
      "cell_type": "code",
      "source": [
        "#시각화해서 비교해보자 \n",
        "plt.hist(mean_sc_list)\n"
      ],
      "metadata": {
        "colab": {
          "base_uri": "https://localhost:8080/",
          "height": 338
        },
        "id": "Jn_Tx2JGnWWx",
        "outputId": "6651ce78-517f-4395-9cd4-7b9f3906c2f3"
      },
      "execution_count": 112,
      "outputs": [
        {
          "output_type": "execute_result",
          "data": {
            "text/plain": [
              "(array([1., 0., 1., 0., 0., 0., 0., 0., 0., 1.]),\n",
              " array([0.8875 , 0.89375, 0.9    , 0.90625, 0.9125 , 0.91875, 0.925  ,\n",
              "        0.93125, 0.9375 , 0.94375, 0.95   ]),\n",
              " <a list of 10 Patch objects>)"
            ]
          },
          "metadata": {},
          "execution_count": 112
        },
        {
          "output_type": "display_data",
          "data": {
            "text/plain": [
              "<Figure size 432x288 with 1 Axes>"
            ],
            "image/png": "[encoded data removed]"
          },
          "metadata": {
            "needs_background": "light"
          }
        }
      ]
    },
    {
      "cell_type": "code",
      "source": [
        "#하이퍼 파라메터 => grid search "
      ],
      "metadata": {
        "id": "03C5QVMOgK-Q"
      },
      "execution_count": 113,
      "outputs": []
    },
    {
      "cell_type": "markdown",
      "source": [
        "[** DecisionTreeClassifier**]\n",
        "\n",
        "<img src = \"https://raw.githubusercontent.com/aliciawill/python-data/25c2ec82e609b64febcf4fa7e78c66f89f3db15e/data12/dt_params2.png\" width = \"400\" height=\"400\">"
      ],
      "metadata": {
        "id": "Qyeilhqg5kDL"
      }
    },
    {
      "cell_type": "code",
      "source": [
        "def grid_search(model, params, k):\n",
        " gs_model =  GridSearchCV(model, params, cv=k)\n",
        " gs_model.fit(X_train, y_train) \n",
        " print(gs_model.best_estimator_) #최적의 파라미터가 적용된 모델 객체 \n",
        " print(gs_model.best_score_) #최적의 파라미터가 적용된 모델로 학습한 정확도 결과 \n",
        " print(gs_model.best_params_)#그리드 서치를 통해 찾은 최적의 파라미터 \n",
        " print(gs_model) #grid_search 객체 "
      ],
      "metadata": {
        "id": "DqWvCy23qo9p"
      },
      "execution_count": 114,
      "outputs": []
    },
    {
      "cell_type": "code",
      "source": [
        "params = { #하이퍼파라미터 설정으로 받을 수 있는 모든 경우의 수 =>여기서는 4*3*2 = 24\n",
        "    'max_depth': [3,5,7,10], #key:하이퍼파라미터명, values는 list타입이어야 함. \n",
        "    'random_state': [1,3,5], \n",
        "    'criterion':['gini','entropy'] #혼란스러운 정도(분류의 정도)를 계산하는 기준 \n",
        "}"
      ],
      "metadata": {
        "id": "WdZH6wcdu7lB"
      },
      "execution_count": 115,
      "outputs": []
    },
    {
      "cell_type": "code",
      "source": [
        "#함수의 모든 파라미터를 보고 싶으면 함수명 쓰고 shift + tab  \n",
        "grid_search(dt, params, 5) #grid_search의 모든 경우의 수는 24 *5 "
      ],
      "metadata": {
        "colab": {
          "base_uri": "https://localhost:8080/"
        },
        "id": "iwnoOCfpzAM6",
        "outputId": "7a033ccc-f0bf-4f54-add9-b0bbaebe8114"
      },
      "execution_count": 116,
      "outputs": [
        {
          "output_type": "stream",
          "name": "stdout",
          "text": [
            "DecisionTreeClassifier(max_depth=3, random_state=1)\n",
            "0.95\n",
            "{'criterion': 'gini', 'max_depth': 3, 'random_state': 1}\n",
            "GridSearchCV(cv=5, estimator=DecisionTreeClassifier(),\n",
            "             param_grid={'criterion': ['gini', 'entropy'],\n",
            "                         'max_depth': [3, 5, 7, 10],\n",
            "                         'random_state': [1, 3, 5]})\n"
          ]
        }
      ]
    },
    {
      "cell_type": "code",
      "source": [
        "#그리드 서치를 통해서 찾은 \n",
        "#최적의 파라미터는 {'criterion': 'gini', 'max_depth': 3, 'random_state': 1}"
      ],
      "metadata": {
        "id": "ktSUHOJt4Zjs"
      },
      "execution_count": 117,
      "outputs": []
    },
    {
      "cell_type": "code",
      "source": [
        "#최적의 하이퍼 파라미터 모델 객체 생성\n",
        "#fit() \n",
        "dt_gs = DecisionTreeClassifier(criterion='gini', max_depth = 3, random_state = 1)\n",
        "dt_gs.fit(X_train, y_train)"
      ],
      "metadata": {
        "colab": {
          "base_uri": "https://localhost:8080/"
        },
        "id": "dH31UPJA4qQt",
        "outputId": "226030e0-7586-4705-9e08-c0190ac343a8"
      },
      "execution_count": 119,
      "outputs": [
        {
          "output_type": "execute_result",
          "data": {
            "text/plain": [
              "DecisionTreeClassifier(max_depth=3, random_state=1)"
            ]
          },
          "metadata": {},
          "execution_count": 119
        }
      ]
    },
    {
      "cell_type": "code",
      "source": [
        "##테스트 데이터로 검증해보자 \n",
        "def test_validation(model, X_test, y_test):\n",
        "  predict_result = model.predict(X_test)\n",
        "  acc = accuracy_score(y_test, predict_result)\n",
        "  print('accuracy>>', acc)\n",
        "  cf = confusion_matrix(y_test, predict_result)\n",
        "  print(\"confusion_matrix >>\\n\", cf)\n",
        "  ## confusion matrix는 binary classification인 경우에는 보기가 괜찮으나, \n",
        "  ## multi class classification인 경우에는 보기가 힘들다. 이럴 때는 classification_report를 사용 \n",
        "  c_report  = classification_report(y_test, predict_result)\n",
        "  print('confusion matrix>>\\n', c_report)"
      ],
      "metadata": {
        "id": "-wSvg8DQ7lPs"
      },
      "execution_count": 138,
      "outputs": []
    },
    {
      "cell_type": "code",
      "source": [
        "y_test.value_counts()"
      ],
      "metadata": {
        "colab": {
          "base_uri": "https://localhost:8080/"
        },
        "id": "bFzp0Ejq7mE7",
        "outputId": "48314fc6-9ee1-4365-d892-4957a2fd713a"
      },
      "execution_count": 139,
      "outputs": [
        {
          "output_type": "execute_result",
          "data": {
            "text/plain": [
              "C     10\n",
              "SG    10\n",
              "Name: Pos, dtype: int64"
            ]
          },
          "metadata": {},
          "execution_count": 139
        }
      ]
    },
    {
      "cell_type": "code",
      "source": [
        "test_validation(dt_gs, X_test, y_test)"
      ],
      "metadata": {
        "colab": {
          "base_uri": "https://localhost:8080/"
        },
        "id": "cL6Mt01p7lXV",
        "outputId": "94c8ddd9-ad9b-4bd2-e718-5b83c9246f5e"
      },
      "execution_count": 140,
      "outputs": [
        {
          "output_type": "stream",
          "name": "stdout",
          "text": [
            "accuracy>> 0.95\n",
            "confusion_matrix >>\n",
            " [[10  0]\n",
            " [ 1  9]]\n",
            "confusion matrix>>\n",
            "               precision    recall  f1-score   support\n",
            "\n",
            "           C       0.91      1.00      0.95        10\n",
            "          SG       1.00      0.90      0.95        10\n",
            "\n",
            "    accuracy                           0.95        20\n",
            "   macro avg       0.95      0.95      0.95        20\n",
            "weighted avg       0.95      0.95      0.95        20\n",
            "\n"
          ]
        }
      ]
    },
    {
      "cell_type": "code",
      "source": [
        "#실제 C인데 예측(c, sg), 실제(sg)--> 예측(sg, c),\n",
        "#이진분류(binary classification)인 경우 \n",
        "#예측할 수 있는 경우의 수는 4가지\n",
        "#4가지를 표 형태로 정리해주는 것이 confusion_matrix \n",
        "#첫 번째 행/열은 C, 두번째 행/열은 SG, abc순으로 행/열이 결정 \n",
        "#c는 10개를 다 맞춤. sg는 9개를 맞추고 한 개를 c로 예측(틀림)\n",
        "#acc = 10+9/10+9+1"
      ],
      "metadata": {
        "id": "7cBzMukD7mHs"
      },
      "execution_count": 141,
      "outputs": []
    },
    {
      "cell_type": "code",
      "source": [
        ""
      ],
      "metadata": {
        "id": "0DyFZCLl7pQG"
      },
      "execution_count": 141,
      "outputs": []
    },
    {
      "cell_type": "code",
      "source": [
        ""
      ],
      "metadata": {
        "id": "nVfxrcn37pVF"
      },
      "execution_count": 141,
      "outputs": []
    },
    {
      "cell_type": "code",
      "source": [
        ""
      ],
      "metadata": {
        "id": "yN28TiHS7pXv"
      },
      "execution_count": null,
      "outputs": []
    },
    {
      "cell_type": "code",
      "source": [
        ""
      ],
      "metadata": {
        "id": "woKkt4mS7paW"
      },
      "execution_count": null,
      "outputs": []
    },
    {
      "cell_type": "code",
      "source": [
        ""
      ],
      "metadata": {
        "id": "wr1UpCfD7pcd"
      },
      "execution_count": null,
      "outputs": []
    },
    {
      "cell_type": "code",
      "source": [
        ""
      ],
      "metadata": {
        "id": "U99pKuRC7pfE"
      },
      "execution_count": null,
      "outputs": []
    },
    {
      "cell_type": "code",
      "source": [
        ""
      ],
      "metadata": {
        "id": "lFml8byf7phM"
      },
      "execution_count": null,
      "outputs": []
    },
    {
      "cell_type": "code",
      "source": [
        ""
      ],
      "metadata": {
        "id": "shutCpUB7pj0"
      },
      "execution_count": null,
      "outputs": []
    },
    {
      "cell_type": "code",
      "source": [
        ""
      ],
      "metadata": {
        "id": "Ggl8MP047pmW"
      },
      "execution_count": null,
      "outputs": []
    },
    {
      "cell_type": "code",
      "source": [
        ""
      ],
      "metadata": {
        "id": "n0RIi1aF7po1"
      },
      "execution_count": null,
      "outputs": []
    },
    {
      "cell_type": "code",
      "source": [
        ""
      ],
      "metadata": {
        "id": "J3B7_yli7prU"
      },
      "execution_count": null,
      "outputs": []
    },
    {
      "cell_type": "code",
      "source": [
        ""
      ],
      "metadata": {
        "id": "nU02708m7ptl"
      },
      "execution_count": null,
      "outputs": []
    },
    {
      "cell_type": "code",
      "source": [
        ""
      ],
      "metadata": {
        "id": "FBSSKthB7pwF"
      },
      "execution_count": null,
      "outputs": []
    },
    {
      "cell_type": "code",
      "source": [
        ""
      ],
      "metadata": {
        "id": "y8H60oFf7py2"
      },
      "execution_count": null,
      "outputs": []
    }
  ]
}