{
  "nbformat": 4,
  "nbformat_minor": 0,
  "metadata": {
    "colab": {
      "name": "자연어.ipynb",
      "provenance": [],
      "collapsed_sections": [],
      "mount_file_id": "19kZdUHp4QfYofborz4APvG5ZUqh49MnT",
      "authorship_tag": "ABX9TyMqitBXIe02YgABdZkhYqXY",
      "include_colab_link": true
    },
    "kernelspec": {
      "name": "python3",
      "display_name": "Python 3"
    },
    "language_info": {
      "name": "python"
    }
  },
  "cells": [
    {
      "cell_type": "markdown",
      "metadata": {
        "id": "view-in-github",
        "colab_type": "text"
      },
      "source": [
        "<a href=\"https://colab.research.google.com/github/Shin-Sangseok/Google_colab_practice/blob/main/%EC%9E%90%EC%97%B0%EC%96%B4.ipynb\" target=\"_parent\"><img src=\"https://colab.research.google.com/assets/colab-badge.svg\" alt=\"Open In Colab\"/></a>"
      ]
    },
    {
      "cell_type": "code",
      "source": [
        "pip install konlpy"
      ],
      "metadata": {
        "colab": {
          "base_uri": "https://localhost:8080/"
        },
        "id": "VplQ1FZGnl0P",
        "outputId": "bc71734c-bfb9-46b6-9e54-c7e8dacb0da0"
      },
      "execution_count": 1,
      "outputs": [
        {
          "output_type": "stream",
          "name": "stdout",
          "text": [
            "Requirement already satisfied: konlpy in /usr/local/lib/python3.7/dist-packages (0.6.0)\n",
            "Requirement already satisfied: numpy>=1.6 in /usr/local/lib/python3.7/dist-packages (from konlpy) (1.21.6)\n",
            "Requirement already satisfied: lxml>=4.1.0 in /usr/local/lib/python3.7/dist-packages (from konlpy) (4.2.6)\n",
            "Requirement already satisfied: JPype1>=0.7.0 in /usr/local/lib/python3.7/dist-packages (from konlpy) (1.3.0)\n",
            "Requirement already satisfied: typing-extensions in /usr/local/lib/python3.7/dist-packages (from JPype1>=0.7.0->konlpy) (4.2.0)\n"
          ]
        }
      ]
    },
    {
      "cell_type": "code",
      "source": [
        "import matplotlib.pyplot as plt \n",
        "from matplotlib import rc, font_manager\n",
        "import matplotlib.font_manager as fm \n",
        "\n",
        "!sudo apt-get install -y fonts-nanum\n",
        "!sudo fc-cache -fv\n",
        "!rm ~/.cache/matplotlib -rf\n",
        "import matplotlib.pyplot as plt\n"
      ],
      "metadata": {
        "colab": {
          "base_uri": "https://localhost:8080/"
        },
        "id": "TB_z_AAgoWnk",
        "outputId": "a60a63d5-946c-43e9-b11f-9efaaedef889"
      },
      "execution_count": 2,
      "outputs": [
        {
          "output_type": "stream",
          "name": "stdout",
          "text": [
            "Reading package lists... Done\n",
            "Building dependency tree       \n",
            "Reading state information... Done\n",
            "fonts-nanum is already the newest version (20170925-1).\n",
            "The following packages were automatically installed and are no longer required:\n",
            "  libnvidia-common-460 nsight-compute-2020.2.0\n",
            "Use 'sudo apt autoremove' to remove them.\n",
            "0 upgraded, 0 newly installed, 0 to remove and 42 not upgraded.\n",
            "/usr/share/fonts: caching, new cache contents: 0 fonts, 1 dirs\n",
            "/usr/share/fonts/truetype: caching, new cache contents: 0 fonts, 3 dirs\n",
            "/usr/share/fonts/truetype/humor-sans: caching, new cache contents: 1 fonts, 0 dirs\n",
            "/usr/share/fonts/truetype/liberation: caching, new cache contents: 16 fonts, 0 dirs\n",
            "/usr/share/fonts/truetype/nanum: caching, new cache contents: 10 fonts, 0 dirs\n",
            "/usr/local/share/fonts: caching, new cache contents: 0 fonts, 0 dirs\n",
            "/root/.local/share/fonts: skipping, no such directory\n",
            "/root/.fonts: skipping, no such directory\n",
            "/var/cache/fontconfig: cleaning cache directory\n",
            "/root/.cache/fontconfig: not cleaning non-existent cache directory\n",
            "/root/.fontconfig: not cleaning non-existent cache directory\n",
            "fc-cache: succeeded\n"
          ]
        }
      ]
    },
    {
      "cell_type": "code",
      "source": [
        "# 디렉토리 및 파일 이름에 맞추어 변경\n",
        "fm.get_fontconfig_fonts()\n",
        "\n",
        "font_location = '/content/content/MyDrive/NanumSquareRoundEB.ttf'\n",
        "plt.rc('font', family='NanumGothic') # For Windows\n",
        "\n"
      ],
      "metadata": {
        "id": "dO9IUg99pxBQ"
      },
      "execution_count": 3,
      "outputs": []
    },
    {
      "cell_type": "code",
      "source": [
        "from konlpy.tag import Okt"
      ],
      "metadata": {
        "id": "4MV5OGhOno05"
      },
      "execution_count": 3,
      "outputs": []
    },
    {
      "cell_type": "code",
      "source": [
        "from google.colab import drive\n",
        "drive.mount('/content/drive')"
      ],
      "metadata": {
        "colab": {
          "base_uri": "https://localhost:8080/"
        },
        "id": "8kLN75Vkoebj",
        "outputId": "963bdef7-ff6d-4abd-b275-83b70fa1d8be"
      },
      "execution_count": 4,
      "outputs": [
        {
          "output_type": "stream",
          "name": "stdout",
          "text": [
            "Drive already mounted at /content/drive; to attempt to forcibly remount, call drive.mount(\"/content/drive\", force_remount=True).\n"
          ]
        }
      ]
    },
    {
      "cell_type": "code",
      "source": [
        "from konlpy.tag import Okt"
      ],
      "metadata": {
        "id": "mjAuml2yqwFq"
      },
      "execution_count": 6,
      "outputs": []
    },
    {
      "cell_type": "code",
      "source": [
        "t = Okt()"
      ],
      "metadata": {
        "id": "pebBeLkcljlg"
      },
      "execution_count": 7,
      "outputs": []
    },
    {
      "cell_type": "code",
      "source": [
        "tokens_ko = t.nouns(\"나는 가방에 들어갈거야..가방..가방...진짜야..진짜..진짜..진짜..진짜..오늘은 수요일이야..오늘\")\n",
        "tokens_ko"
      ],
      "metadata": {
        "colab": {
          "base_uri": "https://localhost:8080/"
        },
        "id": "dJ426C6AlkS6",
        "outputId": "d7159fc4-4bb2-4962-86e5-12a36d83bbaf"
      },
      "execution_count": 8,
      "outputs": [
        {
          "output_type": "execute_result",
          "data": {
            "text/plain": [
              "['나', '가방', '가방', '가방', '진짜', '진짜', '진짜', '진짜', '진짜', '오늘', '수요일', '오늘']"
            ]
          },
          "metadata": {},
          "execution_count": 8
        }
      ]
    },
    {
      "cell_type": "code",
      "source": [
        "import matplotlib as mpl\n",
        "import matplotlib.pyplot as plt\n",
        "import matplotlib.font_manager as fm  # 폰트 관련 용도\n",
        " \n",
        "%config InlineBackend.figure_format = 'retina'\n",
        " \n",
        "#!apt -qq -y install fonts-nanum\n",
        "# 여기까지하고 런타임 다시 시작!!-----> 이 셀부터 설치빼고 다시 실행"
      ],
      "metadata": {
        "id": "Om_SINgolojY"
      },
      "execution_count": 9,
      "outputs": []
    },
    {
      "cell_type": "code",
      "source": [
        "import nltk \n",
        "ko = nltk.Text(tokens_ko, name = 'test')"
      ],
      "metadata": {
        "id": "NGWYbwEDmLYL"
      },
      "execution_count": 10,
      "outputs": []
    },
    {
      "cell_type": "code",
      "source": [
        "plt.figure(figsize = (14,6))\n",
        "ko.plot(5) #빈도수 상위 갯수 \n",
        "plt.show()"
      ],
      "metadata": {
        "colab": {
          "base_uri": "https://localhost:8080/",
          "height": 406
        },
        "id": "9vSXkYfFmQNR",
        "outputId": "113b071f-3817-408a-e5f3-e4c6f00f07e2"
      },
      "execution_count": 11,
      "outputs": [
        {
          "output_type": "display_data",
          "data": {
            "text/plain": [
              "<Figure size 1008x432 with 1 Axes>"
            ],
            "image/png": "[encoded data removed]"
          },
          "metadata": {
            "image/png": {
              "width": 831,
              "height": 389
            },
            "needs_background": "light"
          }
        }
      ]
    },
    {
      "cell_type": "code",
      "source": [
        "musk = \"\"\"2월 테슬라 결제 비트코인으로 →5월 환경에 악영향 끼쳐서 결제 중단\n",
        "━\n",
        "= 엘론 머스크 스페이스X 최고경영자(CEO).  (C) AFP=뉴스1\n",
        "\n",
        "= 엘론 머스크 스페이스X 최고경영자(CEO). (C) AFP=뉴스1\n",
        "\n",
        "일론 머스크 테슬라 최고경영자(CEO)가 또다시 트위터로 가상자산(암호화폐) 시장을 뒤흔들었다. 이번엔 '불장'(상승랠리)가 아니라 '찬물'이다.\n",
        "13일 오전 7시30분(한국시간) 머스크는 자신의 트위터를 통해 \"비트코인의 테슬라 결제를 중단한다\"고 선언했다.\n",
        "\n",
        "테슬라가 미국 증권거래위원회(SEC)에 \"15억 달러 규모(1조7000억)비트코인을 구매했고 향후 테슬라 자동차 판매를 위한 결제수단으로 비트코인을 사용할 수 있도록 할 계획\"이라고 밝힌지 불과 3개월만이다.\n",
        "\n",
        "머스크가 밝힌 비트코인 결제 중단 이유는 환경 이슈다. 비트코인이 전기를 너무 많이 먹어 환경에 악영향을 미친다는 이유다.\n",
        "\n",
        "그는 비트코인 채굴에 드는 전기로 화석연료, 특히 석탄의 사용이 급격하게 증가하고 있다며 또 암호화폐의 많은 부분에서 좋은 아이디어지만 환경에 악영향을 미친다고 주장했다.\n",
        "\n",
        "이에 따라 테슬라는 비트코인 채굴에 지속가능한 에너지가 사용될 때가지 전기차 결제를 중단한다고 선언했다.\n",
        "\n",
        "특히 머스크는 \"우리는 비트코인 사용되는 에너지의 1% 이하를 사용하는 다른 암호화폐를 찾고 있다\"며 비트코인이 아닌 다른 암호화폐로 옮길 가능성을 내비쳤다.\n",
        "\n",
        "━\n",
        "테슬라, 구매한 비트코인 매각해 1억달러 차익...머스크 \"개인보유는 안팔았다\" 해명에도 비판 쏟아져\n",
        "━\n",
        "\n",
        "(서울=뉴스1) 허경 기자 = 테슬라의 배터리 기술·투자 설명회인 '배터리 데이'가 하루 앞으로 다가오면서 국내 배터리 업체들도 혁신적인 기술이 대거 공개될지 숨죽이며 주목하고 있다. 한국 업체들의 강력한 경쟁자가 될 수 있다는 관측이 나오는 가운데, 장기적으로는 기회가 될 것이란 의견도 나온다.  22일 업계에 따르면 테슬라는 오는 23일 오전 5시30분(현지시간 22일 오후 1시30분) 주주총회를 개최한 직후 '배터리 데이'를 열 예정이다.사진은 이날 서울 청담동의 테슬라 매장. 2020.9.22/뉴스1\n",
        "\n",
        "(서울=뉴스1) 허경 기자 = 테슬라의 배터리 기술·투자 설명회인 '배터리 데이'가 하루 앞으로 다가오면서 국내 배터리 업체들도 혁신적인 기술이 대거 공개될지 숨죽이며 주목하고 있다. 한국 업체들의 강력한 경쟁자가 될 수 있다는 관측이 나오는 가운데, 장기적으로는 기회가 될 것이란 의견도 나온다. 22일 업계에 따르면 테슬라는 오는 23일 오전 5시30분(현지시간 22일 오후 1시30분) 주주총회를 개최한 직후 '배터리 데이'를 열 예정이다.사진은 이날 서울 청담동의 테슬라 매장. 2020.9.22/뉴스1\n",
        "머스크와 테슬라의 '뒤통수'는 이번이 처음이 아니다.\n",
        "테슬라가 보유 중이던 비트코인을 몇개월만에 매각한 것으로 뒤늦게 확인되면서 이에 대한 비판이 일었다.\n",
        "\n",
        "지난달 26일 테슬라는 실적발표와 함께 \"매입했던 15억 달러 어치 비트코인 중 10%를 2억2700만달러에 매각해 1억1000만달러(1220억원) 이익을 얻었다\"고 밝혔다.\n",
        "\n",
        "당시 잭 커크혼 테슬라 최고재무책임자(CFO)\"당장 이익을 위해 비트코인을 매수하지는 않았지만 필요가 있어 일부를 매각했다\"고 부연했다.\n",
        "\n",
        "앞선 2월 테슬라가 15억달러(약 1조7000억원)규모의 비트코인을 매입했다고 발표하던 당시 테슬라 측은 \"향후 자산의 일부를 디지털 자산에 더 투자할 수 있다\"며 \"비트코인을 장기 무형자산으로 회계처리 하고 분기별로 가상화폐 보유 현황을 분석할 것\"이라고 까지 밝혔다.\n",
        "특히 머스크는 그동안 비트코인을 직접 홍보하고 본인을 '비트코인의 지지자'라며 주변에 비트코인 매수를 독려해왔다. 올해 초부터는 자신의 트위터 자기소개란에 비트코인이라는 단어를 넣기까지 했다.\n",
        "\n",
        "올해 초부터 비트코인이 상승랠리는 이어가는 데는 머스크와 테슬라의 '비트코인 공개 홍보' 덕분이라는 분석이 나올 정도였다.\n",
        "\n",
        "하지만 테슬라가 비트코인 매입을 발표하며 투자 독려를 하던 1분기 동안 비트코인 일부를 매각했다는 사실이 알려지며 머스크는 비판의 중심이 됐다. 머스크는 즉각 반박 트윗을 올려 \"내가 개인적으로 보유한 비트코인은 팔지 않았다\"며 \"테슬라가 비트코인 일부를 매각한 것은 비트코인이 현금으로서 자산 유동성의 가치를 보유하고 있다는 점을 증명하기 위한 것\"이라고 전했다.\n",
        "\n",
        "━\n",
        "머스크, 도지코인 '희망고문'…SNL에선 \"내가 도지 파더(아버지)\" vs 방송 끝나곤 \"도지코인은 사기\"\n",
        "━\n",
        "\n",
        "\n",
        "머스크가 최근 가장 많이 언급하는 암호화폐는 비트코인보다 도지코인이다.\n",
        "도지코인은 온라인에서 인기를 끈 시바견 밈(meme) '도지'를 본 따 만들어진 암호화폐로 지난 2013년 12월 빌리마커스와 잭슨 팔머에 의해 만들어졌다.\n",
        "\n",
        "도지코인이 유명해진 것은 일론 머스크 테슬라 최고경영자(CEO)가 도지코인을 가장 좋아하는 암호화폐 중 하나로 언급하면서다. 머스크 CEO는 도지코인을 \"우리 모두의 암호화폐\"라고 지칭하며 응원했다. 떄로 \"작은 X(아들)를 위해 도지코인을 샀다\" \"도지코인을 달 위에 놓을 것\" 등의 홍보성 발언을 종종 했다.\n",
        "\n",
        "특히 지난달 미국 최대 암호화폐 거래사이트 '코인베이스'의 나스닥 상장을 앞두고 도지코인이 폭등했다. 코인베이스는 도지코인을 한 차례 거부한 바 있었다. 당시 트위터 이용자가 머스크에게 \"도지코인에게 더 쉽게 접근(투자)할 수 있도록 코인베이스가 도지코인을 상장시켜야 한다고 보는가\"라는 질문을 트윗으로 남겼는데 머스크가 \"그렇다\"고 답변을 남긴 것.\n",
        "\n",
        "이후 70~80원대 거래되던 도지코인 가격이 급등하기 시작했다.\n",
        "\n",
        "머스크는 며칠 뒤 또 트위터에 스페인 화가 호안 미로의 '달을 향해 짖는 개'(Dog Barking at the Moon) 사진을 게시하며 \"Doge Barking at the Moon.\"(달은 향해 짖는 도지(개))라는 트위터를 남겼다.\n",
        "\n",
        "꾸준히 오른 도지코인은 500원대까지 돌파했다. 지난달 27일(현지 시각) 밤 머스크가 다시금 자신의 트윗에 \"도지파더(Dodgefather) SNL 5월8일\"이라는 짧은 글을 남기면서 잠잠하던 도지코인은 다시 출렁이기 시작했다. 미국 NBC방송 코미디쇼 '새터데이 나이트 라이브'(SNL) 출연을 예고하는 글이었다.\n",
        "\n",
        "하지만 정작 머스크 출연 이후 도지코인은 9일(현지시간) 한때 35% 이상 급락했다. 머스크는 SNL의 한 코너에서 자신을 '도지코인의 아버지'라 소개하며 도지코인이 \"미래의 화폐\", \"세계를 장악할 금융수단\"이라 했다.\n",
        "\n",
        "이런 설명에도 진행자가 \"그래서 사기(hustle) 아니냐\"고 재차 묻자 머스크는 마지못해 대답한다는 표정으로 \"맞다. 사기\"라고 했다. '농담'으로 나온 발언이나 이 방송 전 73센트를 넘어서며 사상 최고가를 돌파한 도지코인 가격은 방송 후 47센트대까지 급락했다.\"\"\""
      ],
      "metadata": {
        "id": "75vA8cElmukP"
      },
      "execution_count": 12,
      "outputs": []
    },
    {
      "cell_type": "code",
      "source": [
        "tokens_musk = t.nouns(musk)\n",
        "tokens_musk"
      ],
      "metadata": {
        "colab": {
          "base_uri": "https://localhost:8080/"
        },
        "id": "4lnBJV8ynT2S",
        "outputId": "5f0d33ec-1b34-4b49-bb36-cf9e30f2172c"
      },
      "execution_count": 13,
      "outputs": [
        {
          "output_type": "execute_result",
          "data": {
            "text/plain": [
              "['테슬라',\n",
              " '결제',\n",
              " '비트코인',\n",
              " '환경',\n",
              " '악',\n",
              " '영향',\n",
              " '결제',\n",
              " '중단',\n",
              " '엘론',\n",
              " '머스크',\n",
              " '스페이스',\n",
              " '최고경영자',\n",
              " '뉴스',\n",
              " '엘론',\n",
              " '머스크',\n",
              " '스페이스',\n",
              " '최고경영자',\n",
              " '뉴스',\n",
              " '론',\n",
              " '머스크',\n",
              " '테슬라',\n",
              " '최고경영자',\n",
              " '트위터',\n",
              " '가상',\n",
              " '자산',\n",
              " '암호',\n",
              " '화폐',\n",
              " '시장',\n",
              " '뒤',\n",
              " '이번',\n",
              " '불',\n",
              " '상승',\n",
              " '랠리',\n",
              " '찬물',\n",
              " '오전',\n",
              " '한국',\n",
              " '시간',\n",
              " '머스크',\n",
              " '자신',\n",
              " '트위터',\n",
              " '통해',\n",
              " '비트코인',\n",
              " '테슬라',\n",
              " '결제',\n",
              " '중단',\n",
              " '고',\n",
              " '선언',\n",
              " '테슬라',\n",
              " '미국',\n",
              " '증권',\n",
              " '거래',\n",
              " '위원회',\n",
              " '달러',\n",
              " '규모',\n",
              " '비트코인',\n",
              " '구매',\n",
              " '향후',\n",
              " '테슬라',\n",
              " '자동차',\n",
              " '판매',\n",
              " '위',\n",
              " '결제',\n",
              " '수단',\n",
              " '비트코인',\n",
              " '사용',\n",
              " '수',\n",
              " '계획',\n",
              " '불과',\n",
              " '개월',\n",
              " '머스크',\n",
              " '비트코인',\n",
              " '결제',\n",
              " '중단',\n",
              " '이유',\n",
              " '환경',\n",
              " '이슈',\n",
              " '비트코인',\n",
              " '전기',\n",
              " '환경',\n",
              " '악',\n",
              " '영향',\n",
              " '이유',\n",
              " '그',\n",
              " '비트코인',\n",
              " '채굴',\n",
              " '전기',\n",
              " '화석연료',\n",
              " '석탄',\n",
              " '사용',\n",
              " '증가',\n",
              " '또',\n",
              " '암호',\n",
              " '화폐',\n",
              " '부분',\n",
              " '아이디어',\n",
              " '환경',\n",
              " '악',\n",
              " '영향',\n",
              " '주장',\n",
              " '이',\n",
              " '테슬라',\n",
              " '비트코인',\n",
              " '채굴',\n",
              " '지속',\n",
              " '에너지',\n",
              " '사용',\n",
              " '때',\n",
              " '가지',\n",
              " '전기차',\n",
              " '결제',\n",
              " '중단',\n",
              " '선언',\n",
              " '머스크',\n",
              " '우리',\n",
              " '비트코인',\n",
              " '사용',\n",
              " '에너지',\n",
              " '이하',\n",
              " '사용',\n",
              " '다른',\n",
              " '암호',\n",
              " '화폐',\n",
              " '며',\n",
              " '비트코인',\n",
              " '다른',\n",
              " '암호',\n",
              " '화폐',\n",
              " '가능성',\n",
              " '내비',\n",
              " '테슬라',\n",
              " '구매',\n",
              " '비트코인',\n",
              " '매각',\n",
              " '차익',\n",
              " '머스크',\n",
              " '개인',\n",
              " '보유',\n",
              " '해명',\n",
              " '비판',\n",
              " '서울',\n",
              " '뉴스',\n",
              " '경',\n",
              " '기자',\n",
              " '테슬라',\n",
              " '배터리',\n",
              " '기술',\n",
              " '투자',\n",
              " '설명',\n",
              " '회',\n",
              " '배터리',\n",
              " '데이',\n",
              " '하루',\n",
              " '앞',\n",
              " '국내',\n",
              " '배터리',\n",
              " '업체',\n",
              " '혁신',\n",
              " '기술',\n",
              " '대거',\n",
              " '공개',\n",
              " '숨죽',\n",
              " '주목',\n",
              " '한국',\n",
              " '업체',\n",
              " '경쟁자',\n",
              " '수',\n",
              " '관측',\n",
              " '가운데',\n",
              " '장기',\n",
              " '기회',\n",
              " '것',\n",
              " '의견',\n",
              " '업계',\n",
              " '테슬라',\n",
              " '오전',\n",
              " '현지',\n",
              " '시간',\n",
              " '오후',\n",
              " '주주총회',\n",
              " '개최',\n",
              " '직후',\n",
              " '배터리',\n",
              " '데이',\n",
              " '를',\n",
              " '열',\n",
              " '예정',\n",
              " '사진',\n",
              " '날',\n",
              " '서울',\n",
              " '청담동',\n",
              " '테슬라',\n",
              " '매장',\n",
              " '뉴스',\n",
              " '서울',\n",
              " '뉴스',\n",
              " '경',\n",
              " '기자',\n",
              " '테슬라',\n",
              " '배터리',\n",
              " '기술',\n",
              " '투자',\n",
              " '설명',\n",
              " '회',\n",
              " '배터리',\n",
              " '데이',\n",
              " '하루',\n",
              " '앞',\n",
              " '국내',\n",
              " '배터리',\n",
              " '업체',\n",
              " '혁신',\n",
              " '기술',\n",
              " '대거',\n",
              " '공개',\n",
              " '숨죽',\n",
              " '주목',\n",
              " '한국',\n",
              " '업체',\n",
              " '경쟁자',\n",
              " '수',\n",
              " '관측',\n",
              " '가운데',\n",
              " '장기',\n",
              " '기회',\n",
              " '것',\n",
              " '의견',\n",
              " '업계',\n",
              " '테슬라',\n",
              " '오전',\n",
              " '현지',\n",
              " '시간',\n",
              " '오후',\n",
              " '주주총회',\n",
              " '개최',\n",
              " '직후',\n",
              " '배터리',\n",
              " '데이',\n",
              " '를',\n",
              " '열',\n",
              " '예정',\n",
              " '사진',\n",
              " '날',\n",
              " '서울',\n",
              " '청담동',\n",
              " '테슬라',\n",
              " '매장',\n",
              " '뉴스',\n",
              " '머스크',\n",
              " '테슬라',\n",
              " '뒤통수',\n",
              " '이번',\n",
              " '처음',\n",
              " '테슬라',\n",
              " '보유',\n",
              " '중',\n",
              " '비트코인',\n",
              " '몇개',\n",
              " '월',\n",
              " '매각',\n",
              " '것',\n",
              " '확인',\n",
              " '이',\n",
              " '대한',\n",
              " '비판',\n",
              " '지난달',\n",
              " '테슬라',\n",
              " '실적',\n",
              " '발표',\n",
              " '매입',\n",
              " '달러',\n",
              " '어치',\n",
              " '비트코인',\n",
              " '중',\n",
              " '를',\n",
              " '매각',\n",
              " '이익',\n",
              " '고',\n",
              " '당시',\n",
              " '잭',\n",
              " '커크',\n",
              " '혼',\n",
              " '테슬라',\n",
              " '최고재',\n",
              " '무책임',\n",
              " '당장',\n",
              " '이익',\n",
              " '위해',\n",
              " '비트코인',\n",
              " '매수',\n",
              " '필요',\n",
              " '일부',\n",
              " '매각',\n",
              " '고',\n",
              " '부연',\n",
              " '테슬라',\n",
              " '약',\n",
              " '규모',\n",
              " '비트코인',\n",
              " '매입',\n",
              " '발표',\n",
              " '당시',\n",
              " '테슬라',\n",
              " '측은',\n",
              " '향후',\n",
              " '자산',\n",
              " '일부',\n",
              " '디지털',\n",
              " '자산',\n",
              " '더',\n",
              " '투자',\n",
              " '수',\n",
              " '며',\n",
              " '비트코인',\n",
              " '장기',\n",
              " '무형',\n",
              " '자산',\n",
              " '회계',\n",
              " '처리',\n",
              " '분기',\n",
              " '별로',\n",
              " '가상',\n",
              " '화폐',\n",
              " '보유',\n",
              " '현황',\n",
              " '분석',\n",
              " '것',\n",
              " '머스크',\n",
              " '그동안',\n",
              " '비트코인',\n",
              " '직접',\n",
              " '홍보',\n",
              " '본인',\n",
              " '비트코인',\n",
              " '지지자',\n",
              " '라며',\n",
              " '주변',\n",
              " '비트코인',\n",
              " '매수',\n",
              " '독려',\n",
              " '올해',\n",
              " '초',\n",
              " '자신',\n",
              " '트위터',\n",
              " '자기',\n",
              " '소개',\n",
              " '란',\n",
              " '비트코인',\n",
              " '단어',\n",
              " '넣기',\n",
              " '올해',\n",
              " '초',\n",
              " '비트코인',\n",
              " '상승',\n",
              " '랠리',\n",
              " '어가',\n",
              " '데',\n",
              " '머스크',\n",
              " '테슬라',\n",
              " '비트코인',\n",
              " '공개',\n",
              " '홍보',\n",
              " '덕분',\n",
              " '분석',\n",
              " '정도',\n",
              " '테슬라',\n",
              " '비트코인',\n",
              " '매입',\n",
              " '발표',\n",
              " '투자',\n",
              " '독려',\n",
              " '동안',\n",
              " '비트코인',\n",
              " '일부',\n",
              " '매각',\n",
              " '사실',\n",
              " '머스크',\n",
              " '비판',\n",
              " '중심',\n",
              " '머스크',\n",
              " '즉각',\n",
              " '반박',\n",
              " '트윗',\n",
              " '내',\n",
              " '개인',\n",
              " '보유',\n",
              " '비트코인',\n",
              " '팔지',\n",
              " '며',\n",
              " '테슬라',\n",
              " '비트코인',\n",
              " '일부',\n",
              " '매각',\n",
              " '것',\n",
              " '비트코인',\n",
              " '현금',\n",
              " '자산',\n",
              " '유동성',\n",
              " '가치',\n",
              " '보유',\n",
              " '점',\n",
              " '증명',\n",
              " '위',\n",
              " '것',\n",
              " '전',\n",
              " '머스크',\n",
              " '도지',\n",
              " '코인',\n",
              " '희망고문',\n",
              " '내',\n",
              " '도지',\n",
              " '아버지',\n",
              " '방송',\n",
              " '도지',\n",
              " '코인',\n",
              " '사기',\n",
              " '머스크',\n",
              " '최근',\n",
              " '가장',\n",
              " '언급',\n",
              " '암호',\n",
              " '화폐',\n",
              " '비트코인',\n",
              " '도지',\n",
              " '코인',\n",
              " '도지',\n",
              " '코인',\n",
              " '온라인',\n",
              " '인기',\n",
              " '끈',\n",
              " '시바견',\n",
              " '밈',\n",
              " '도지',\n",
              " '를',\n",
              " '암호',\n",
              " '화폐',\n",
              " '지난',\n",
              " '스',\n",
              " '잭슨',\n",
              " '머',\n",
              " '도지',\n",
              " '코인',\n",
              " '것',\n",
              " '론',\n",
              " '머스크',\n",
              " '테슬라',\n",
              " '최고경영자',\n",
              " '도지',\n",
              " '코인',\n",
              " '가장',\n",
              " '암호',\n",
              " '화폐',\n",
              " '중',\n",
              " '하나로',\n",
              " '언급',\n",
              " '머스크',\n",
              " '도지',\n",
              " '코인',\n",
              " '우리',\n",
              " '모두',\n",
              " '암호',\n",
              " '화폐',\n",
              " '지칭',\n",
              " '응원',\n",
              " '떄',\n",
              " '아들',\n",
              " '를',\n",
              " '위해',\n",
              " '도지',\n",
              " '코인',\n",
              " '도지',\n",
              " '코인',\n",
              " '달',\n",
              " '위',\n",
              " '것',\n",
              " '등',\n",
              " '홍보',\n",
              " '발언',\n",
              " '종종',\n",
              " '지난달',\n",
              " '미국',\n",
              " '최대',\n",
              " '암호',\n",
              " '화폐',\n",
              " '거래',\n",
              " '사이트',\n",
              " '코인',\n",
              " '베이스',\n",
              " '의',\n",
              " '나스닥',\n",
              " '상장',\n",
              " '도지',\n",
              " '코인',\n",
              " '폭등',\n",
              " '코인',\n",
              " '베이스',\n",
              " '도지',\n",
              " '코인',\n",
              " '차례',\n",
              " '거부',\n",
              " '바',\n",
              " '당시',\n",
              " '트위터',\n",
              " '이용자',\n",
              " '머스크',\n",
              " '도지',\n",
              " '코인',\n",
              " '더',\n",
              " '접근',\n",
              " '투자',\n",
              " '수',\n",
              " '코인',\n",
              " '베이스',\n",
              " '도지',\n",
              " '코인',\n",
              " '상장',\n",
              " '질문',\n",
              " '트윗',\n",
              " '머스크',\n",
              " '고',\n",
              " '답변',\n",
              " '것',\n",
              " '이후',\n",
              " '거래',\n",
              " '도지',\n",
              " '코인',\n",
              " '가격',\n",
              " '급등',\n",
              " '시작',\n",
              " '머스크',\n",
              " '며칠',\n",
              " '뒤',\n",
              " '또',\n",
              " '트위터',\n",
              " '스페인',\n",
              " '화가',\n",
              " '호안',\n",
              " '미로',\n",
              " '달',\n",
              " '향',\n",
              " '개',\n",
              " '사진',\n",
              " '게시',\n",
              " '달',\n",
              " '향',\n",
              " '도지',\n",
              " '개',\n",
              " '트위터',\n",
              " '오른',\n",
              " '도지',\n",
              " '코인',\n",
              " '돌파',\n",
              " '지난달',\n",
              " '현지',\n",
              " '시각',\n",
              " '밤',\n",
              " '머스크',\n",
              " '다시금',\n",
              " '자신',\n",
              " '트윗',\n",
              " '도지',\n",
              " '글',\n",
              " '도지',\n",
              " '코인',\n",
              " '다시',\n",
              " '시작',\n",
              " '미국',\n",
              " '방송',\n",
              " '코미디',\n",
              " '쇼',\n",
              " '새터데이',\n",
              " '나이트',\n",
              " '라이브',\n",
              " '출연',\n",
              " '예고',\n",
              " '글',\n",
              " '정작',\n",
              " '머스크',\n",
              " '출연',\n",
              " '이후',\n",
              " '도지',\n",
              " '코인',\n",
              " '현지',\n",
              " '시간',\n",
              " '이상',\n",
              " '급락',\n",
              " '머스크',\n",
              " '의',\n",
              " '코너',\n",
              " '자신',\n",
              " '도지',\n",
              " '코인',\n",
              " '아버지',\n",
              " '소개',\n",
              " '도지',\n",
              " '코인',\n",
              " '미래',\n",
              " '화폐',\n",
              " '세계',\n",
              " '장악',\n",
              " '금융',\n",
              " '수단',\n",
              " '설명',\n",
              " '진행자',\n",
              " '사기',\n",
              " '고',\n",
              " '재차',\n",
              " '머스크',\n",
              " '대답',\n",
              " '표정',\n",
              " '사기',\n",
              " '농담',\n",
              " '발언',\n",
              " '이',\n",
              " '방송',\n",
              " '전',\n",
              " '센트',\n",
              " '사상',\n",
              " '최고',\n",
              " '돌파',\n",
              " '도지',\n",
              " '코인',\n",
              " '가격',\n",
              " '방송',\n",
              " '후',\n",
              " '센트',\n",
              " '급락']"
            ]
          },
          "metadata": {},
          "execution_count": 13
        }
      ]
    },
    {
      "cell_type": "code",
      "source": [
        "musk_ko = nltk.Text(tokens_musk, name=\"test\")"
      ],
      "metadata": {
        "id": "d9vHxWFAn1bF"
      },
      "execution_count": 14,
      "outputs": []
    },
    {
      "cell_type": "code",
      "source": [
        "plt.figure(figsize=(16,8))\n",
        "musk_ko.plot(50)\n",
        "plt.show()"
      ],
      "metadata": {
        "colab": {
          "base_uri": "https://localhost:8080/",
          "height": 533
        },
        "id": "oviSC5sIn8Sf",
        "outputId": "a6c43bde-024e-47ac-9055-969162f2138f"
      },
      "execution_count": 15,
      "outputs": [
        {
          "output_type": "display_data",
          "data": {
            "text/plain": [
              "<Figure size 1152x576 with 1 Axes>"
            ],
            "image/png": "[encoded data removed]"
          },
          "metadata": {
            "image/png": {
              "width": 939,
              "height": 516
            },
            "needs_background": "light"
          }
        }
      ]
    },
    {
      "cell_type": "code",
      "source": [
        "from wordcloud import WordCloud"
      ],
      "metadata": {
        "id": "qmY7GhRZn-0A"
      },
      "execution_count": 16,
      "outputs": []
    },
    {
      "cell_type": "code",
      "source": [
        "data = ko.vocab().most_common(200)"
      ],
      "metadata": {
        "id": "pXNfVgGVrQ0V"
      },
      "execution_count": 17,
      "outputs": []
    },
    {
      "cell_type": "code",
      "source": [
        "data"
      ],
      "metadata": {
        "colab": {
          "base_uri": "https://localhost:8080/"
        },
        "id": "Vk8srv-PrTFC",
        "outputId": "ccaa3306-8e9d-4854-e86a-d766be895e94"
      },
      "execution_count": 18,
      "outputs": [
        {
          "output_type": "execute_result",
          "data": {
            "text/plain": [
              "[('진짜', 5), ('가방', 3), ('오늘', 2), ('나', 1), ('수요일', 1)]"
            ]
          },
          "metadata": {},
          "execution_count": 18
        }
      ]
    },
    {
      "cell_type": "code",
      "source": [
        "path = '/usr/share/fonts/truetype/nanum/NanumBarunGothic.ttf'\n",
        "wc = WordCloud(font_path=path, relative_scaling=0.2, \n",
        "               background_color='white').generate_from_frequencies(dict(data))"
      ],
      "metadata": {
        "id": "9tJjcSrfrULk"
      },
      "execution_count": 19,
      "outputs": []
    },
    {
      "cell_type": "code",
      "source": [
        "plt.figure()\n",
        "plt.imshow(wc)\n",
        "plt.axis('off')\n",
        "plt.show()"
      ],
      "metadata": {
        "colab": {
          "base_uri": "https://localhost:8080/",
          "height": 198
        },
        "id": "bJqE7YAtrWb6",
        "outputId": "581437ef-48ad-48f7-d6d4-6856b580de18"
      },
      "execution_count": 20,
      "outputs": [
        {
          "output_type": "display_data",
          "data": {
            "text/plain": [
              "<Figure size 432x288 with 1 Axes>"
            ],
            "image/png": "[encoded data removed]"
          },
          "metadata": {
            "image/png": {
              "width": 349,
              "height": 181
            },
            "needs_background": "light"
          }
        }
      ]
    }
  ]
}