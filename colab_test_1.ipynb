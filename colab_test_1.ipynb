{
 "cells": [
  {
   "cell_type": "markdown",
   "metadata": {
    "colab_type": "text",
    "id": "view-in-github"
   },
   "source": [
    "<a href=\"https://colab.research.google.com/github/Shin-Sangseok/Google_colab_practice/blob/main/colab_test_1.ipynb\" target=\"_parent\"><img src=\"https://colab.research.google.com/assets/colab-badge.svg\" alt=\"Open In Colab\"/></a>"
   ]
  },
  {
   "cell_type": "code",
   "execution_count": 160,
   "metadata": {
    "colab": {
     "base_uri": "https://localhost:8080/"
    },
    "id": "fDWwyuYWUWoC",
    "outputId": "4236ba52-0979-4a4c-edca-c659097dfcdc"
   },
   "outputs": [
    {
     "name": "stdout",
     "output_type": "stream",
     "text": [
      "test\n"
     ]
    }
   ],
   "source": [
    "print('test')"
   ]
  },
  {
   "cell_type": "code",
   "execution_count": 161,
   "metadata": {
    "id": "pU4tfyU-UfUj"
   },
   "outputs": [],
   "source": [
    "import pandas as pd"
   ]
  },
  {
   "cell_type": "code",
   "execution_count": 162,
   "metadata": {
    "id": "W2mbkXBiX2Jf"
   },
   "outputs": [],
   "source": [
    "import numpy as np  "
   ]
  },
  {
   "cell_type": "code",
   "execution_count": 163,
   "metadata": {
    "colab": {
     "base_uri": "https://localhost:8080/",
     "height": 300
    },
    "id": "EakQ9848X4QH",
    "outputId": "00a67d5a-91a3-43a9-9112-b88af5a9efa2"
   },
   "outputs": [
    {
     "data": {
      "text/html": [
       "<div>\n",
       "<style scoped>\n",
       "    .dataframe tbody tr th:only-of-type {\n",
       "        vertical-align: middle;\n",
       "    }\n",
       "\n",
       "    .dataframe tbody tr th {\n",
       "        vertical-align: top;\n",
       "    }\n",
       "\n",
       "    .dataframe thead th {\n",
       "        text-align: right;\n",
       "    }\n",
       "</style>\n",
       "<table border=\"1\" class=\"dataframe\">\n",
       "  <thead>\n",
       "    <tr style=\"text-align: right;\">\n",
       "      <th></th>\n",
       "      <th>Name</th>\n",
       "      <th>Born</th>\n",
       "      <th>Died</th>\n",
       "      <th>Age</th>\n",
       "      <th>Occupation</th>\n",
       "    </tr>\n",
       "  </thead>\n",
       "  <tbody>\n",
       "    <tr>\n",
       "      <td>0</td>\n",
       "      <td>Rosaline Franklin</td>\n",
       "      <td>1920-07-25</td>\n",
       "      <td>1958-04-16</td>\n",
       "      <td>37</td>\n",
       "      <td>Chemist</td>\n",
       "    </tr>\n",
       "    <tr>\n",
       "      <td>1</td>\n",
       "      <td>William Gosset</td>\n",
       "      <td>1876-06-13</td>\n",
       "      <td>1937-10-16</td>\n",
       "      <td>61</td>\n",
       "      <td>Statistician</td>\n",
       "    </tr>\n",
       "    <tr>\n",
       "      <td>2</td>\n",
       "      <td>Florence Nightingale</td>\n",
       "      <td>1820-05-12</td>\n",
       "      <td>1910-08-13</td>\n",
       "      <td>90</td>\n",
       "      <td>Nurse</td>\n",
       "    </tr>\n",
       "    <tr>\n",
       "      <td>3</td>\n",
       "      <td>Marie Curie</td>\n",
       "      <td>1867-11-07</td>\n",
       "      <td>1934-07-04</td>\n",
       "      <td>66</td>\n",
       "      <td>Chemist</td>\n",
       "    </tr>\n",
       "    <tr>\n",
       "      <td>4</td>\n",
       "      <td>Rachel Carson</td>\n",
       "      <td>1907-05-27</td>\n",
       "      <td>1964-04-14</td>\n",
       "      <td>56</td>\n",
       "      <td>Biologist</td>\n",
       "    </tr>\n",
       "    <tr>\n",
       "      <td>5</td>\n",
       "      <td>John Snow</td>\n",
       "      <td>1813-03-15</td>\n",
       "      <td>1858-06-16</td>\n",
       "      <td>45</td>\n",
       "      <td>Physician</td>\n",
       "    </tr>\n",
       "    <tr>\n",
       "      <td>6</td>\n",
       "      <td>Alan Turing</td>\n",
       "      <td>1912-06-23</td>\n",
       "      <td>1954-06-07</td>\n",
       "      <td>41</td>\n",
       "      <td>Computer Scientist</td>\n",
       "    </tr>\n",
       "    <tr>\n",
       "      <td>7</td>\n",
       "      <td>Johann Gauss</td>\n",
       "      <td>1777-04-30</td>\n",
       "      <td>1855-02-23</td>\n",
       "      <td>77</td>\n",
       "      <td>Mathematician</td>\n",
       "    </tr>\n",
       "  </tbody>\n",
       "</table>\n",
       "</div>"
      ],
      "text/plain": [
       "                   Name        Born        Died  Age          Occupation\n",
       "0     Rosaline Franklin  1920-07-25  1958-04-16   37             Chemist\n",
       "1        William Gosset  1876-06-13  1937-10-16   61        Statistician\n",
       "2  Florence Nightingale  1820-05-12  1910-08-13   90               Nurse\n",
       "3           Marie Curie  1867-11-07  1934-07-04   66             Chemist\n",
       "4         Rachel Carson  1907-05-27  1964-04-14   56           Biologist\n",
       "5             John Snow  1813-03-15  1858-06-16   45           Physician\n",
       "6           Alan Turing  1912-06-23  1954-06-07   41  Computer Scientist\n",
       "7          Johann Gauss  1777-04-30  1855-02-23   77       Mathematician"
      ]
     },
     "execution_count": 163,
     "metadata": {},
     "output_type": "execute_result"
    }
   ],
   "source": [
    "df = pd.read_csv(r'C:\\Users\\hi\\colab\\scientists.csv')\n",
    "df"
   ]
  },
  {
   "cell_type": "code",
   "execution_count": 164,
   "metadata": {
    "id": "zSDtSsicYCE3"
   },
   "outputs": [],
   "source": [
    "#google drive에서 파일을 읽어오는 경우 "
   ]
  },
  {
   "cell_type": "code",
   "execution_count": 165,
   "metadata": {
    "id": "c5qhvrE_ZrKQ"
   },
   "outputs": [],
   "source": [
    "#from google.colab import drive\n",
    "#colab이 설치되어있는 리눅스에 구글 드라이브를 연결해야함 \n",
    "#연결 == mount(마운트)"
   ]
  },
  {
   "cell_type": "code",
   "execution_count": 166,
   "metadata": {
    "colab": {
     "base_uri": "https://localhost:8080/"
    },
    "id": "TvxJk41baGZm",
    "outputId": "d95b5bec-603b-4f9c-8a87-e0f862be204b"
   },
   "outputs": [],
   "source": [
    "#drive.mount('/content/drive')"
   ]
  },
  {
   "cell_type": "code",
   "execution_count": 167,
   "metadata": {
    "colab": {
     "base_uri": "https://localhost:8080/",
     "height": 300
    },
    "id": "iozSZS-raJkO",
    "outputId": "5011c995-cdd2-430b-c6a3-a5b808bf1d36"
   },
   "outputs": [
    {
     "data": {
      "text/html": [
       "<div>\n",
       "<style scoped>\n",
       "    .dataframe tbody tr th:only-of-type {\n",
       "        vertical-align: middle;\n",
       "    }\n",
       "\n",
       "    .dataframe tbody tr th {\n",
       "        vertical-align: top;\n",
       "    }\n",
       "\n",
       "    .dataframe thead th {\n",
       "        text-align: right;\n",
       "    }\n",
       "</style>\n",
       "<table border=\"1\" class=\"dataframe\">\n",
       "  <thead>\n",
       "    <tr style=\"text-align: right;\">\n",
       "      <th></th>\n",
       "      <th>Name</th>\n",
       "      <th>Born</th>\n",
       "      <th>Died</th>\n",
       "      <th>Age</th>\n",
       "      <th>Occupation</th>\n",
       "    </tr>\n",
       "  </thead>\n",
       "  <tbody>\n",
       "    <tr>\n",
       "      <td>0</td>\n",
       "      <td>Rosaline Franklin</td>\n",
       "      <td>1920-07-25</td>\n",
       "      <td>1958-04-16</td>\n",
       "      <td>37</td>\n",
       "      <td>Chemist</td>\n",
       "    </tr>\n",
       "    <tr>\n",
       "      <td>1</td>\n",
       "      <td>William Gosset</td>\n",
       "      <td>1876-06-13</td>\n",
       "      <td>1937-10-16</td>\n",
       "      <td>61</td>\n",
       "      <td>Statistician</td>\n",
       "    </tr>\n",
       "    <tr>\n",
       "      <td>2</td>\n",
       "      <td>Florence Nightingale</td>\n",
       "      <td>1820-05-12</td>\n",
       "      <td>1910-08-13</td>\n",
       "      <td>90</td>\n",
       "      <td>Nurse</td>\n",
       "    </tr>\n",
       "    <tr>\n",
       "      <td>3</td>\n",
       "      <td>Marie Curie</td>\n",
       "      <td>1867-11-07</td>\n",
       "      <td>1934-07-04</td>\n",
       "      <td>66</td>\n",
       "      <td>Chemist</td>\n",
       "    </tr>\n",
       "    <tr>\n",
       "      <td>4</td>\n",
       "      <td>Rachel Carson</td>\n",
       "      <td>1907-05-27</td>\n",
       "      <td>1964-04-14</td>\n",
       "      <td>56</td>\n",
       "      <td>Biologist</td>\n",
       "    </tr>\n",
       "    <tr>\n",
       "      <td>5</td>\n",
       "      <td>John Snow</td>\n",
       "      <td>1813-03-15</td>\n",
       "      <td>1858-06-16</td>\n",
       "      <td>45</td>\n",
       "      <td>Physician</td>\n",
       "    </tr>\n",
       "    <tr>\n",
       "      <td>6</td>\n",
       "      <td>Alan Turing</td>\n",
       "      <td>1912-06-23</td>\n",
       "      <td>1954-06-07</td>\n",
       "      <td>41</td>\n",
       "      <td>Computer Scientist</td>\n",
       "    </tr>\n",
       "    <tr>\n",
       "      <td>7</td>\n",
       "      <td>Johann Gauss</td>\n",
       "      <td>1777-04-30</td>\n",
       "      <td>1855-02-23</td>\n",
       "      <td>77</td>\n",
       "      <td>Mathematician</td>\n",
       "    </tr>\n",
       "  </tbody>\n",
       "</table>\n",
       "</div>"
      ],
      "text/plain": [
       "                   Name        Born        Died  Age          Occupation\n",
       "0     Rosaline Franklin  1920-07-25  1958-04-16   37             Chemist\n",
       "1        William Gosset  1876-06-13  1937-10-16   61        Statistician\n",
       "2  Florence Nightingale  1820-05-12  1910-08-13   90               Nurse\n",
       "3           Marie Curie  1867-11-07  1934-07-04   66             Chemist\n",
       "4         Rachel Carson  1907-05-27  1964-04-14   56           Biologist\n",
       "5             John Snow  1813-03-15  1858-06-16   45           Physician\n",
       "6           Alan Turing  1912-06-23  1954-06-07   41  Computer Scientist\n",
       "7          Johann Gauss  1777-04-30  1855-02-23   77       Mathematician"
      ]
     },
     "execution_count": 167,
     "metadata": {},
     "output_type": "execute_result"
    }
   ],
   "source": [
    "df2= pd.read_csv(r'C:\\Users\\hi\\colab\\scientists.csv')\n",
    "df2"
   ]
  },
  {
   "cell_type": "code",
   "execution_count": 168,
   "metadata": {
    "colab": {
     "base_uri": "https://localhost:8080/"
    },
    "id": "1EQNUerpjqDl",
    "outputId": "ff833f39-f901-47ed-d0b2-8da3692709cc"
   },
   "outputs": [
    {
     "data": {
      "text/plain": [
       "DatetimeIndex(['2019-03-01', '2019-03-02', '2019-03-03', '2019-03-04',\n",
       "               '2019-03-05', '2019-03-06'],\n",
       "              dtype='datetime64[ns]', freq='D')"
      ]
     },
     "execution_count": 168,
     "metadata": {},
     "output_type": "execute_result"
    }
   ],
   "source": [
    "dates = pd.date_range('20190301', periods=6)\n",
    "dates"
   ]
  },
  {
   "cell_type": "code",
   "execution_count": 169,
   "metadata": {
    "colab": {
     "base_uri": "https://localhost:8080/"
    },
    "id": "fq3XopDdipO-",
    "outputId": "535ad3ea-2550-401b-d3a8-4bf54974a867"
   },
   "outputs": [
    {
     "data": {
      "text/plain": [
       "array([[ 1.46932707, -0.92654893, -2.08425927,  1.82300861],\n",
       "       [ 0.07193121,  0.25372815, -1.31135632, -0.15206135],\n",
       "       [ 0.92045879,  1.36379659,  1.35070282,  0.55800929],\n",
       "       [-1.12028277, -0.69169911,  1.16095787,  0.72092395],\n",
       "       [ 0.30186257,  0.97158253,  0.87116022,  0.33747336],\n",
       "       [ 0.45740299,  0.00605798,  1.03970866,  1.08706778]])"
      ]
     },
     "execution_count": 169,
     "metadata": {},
     "output_type": "execute_result"
    }
   ],
   "source": [
    "np.random.randn(6,4)"
   ]
  },
  {
   "cell_type": "code",
   "execution_count": 170,
   "metadata": {
    "colab": {
     "base_uri": "https://localhost:8080/",
     "height": 238
    },
    "id": "fHrbp_6HbPbW",
    "outputId": "53e1d7e0-ce66-48bb-922e-a79dcbec58f9"
   },
   "outputs": [
    {
     "data": {
      "text/html": [
       "<div>\n",
       "<style scoped>\n",
       "    .dataframe tbody tr th:only-of-type {\n",
       "        vertical-align: middle;\n",
       "    }\n",
       "\n",
       "    .dataframe tbody tr th {\n",
       "        vertical-align: top;\n",
       "    }\n",
       "\n",
       "    .dataframe thead th {\n",
       "        text-align: right;\n",
       "    }\n",
       "</style>\n",
       "<table border=\"1\" class=\"dataframe\">\n",
       "  <thead>\n",
       "    <tr style=\"text-align: right;\">\n",
       "      <th></th>\n",
       "      <th>A</th>\n",
       "      <th>B</th>\n",
       "      <th>C</th>\n",
       "      <th>D</th>\n",
       "    </tr>\n",
       "  </thead>\n",
       "  <tbody>\n",
       "    <tr>\n",
       "      <td>0</td>\n",
       "      <td>-2.897259</td>\n",
       "      <td>-1.073626</td>\n",
       "      <td>-0.078208</td>\n",
       "      <td>-0.612798</td>\n",
       "    </tr>\n",
       "    <tr>\n",
       "      <td>1</td>\n",
       "      <td>-0.180808</td>\n",
       "      <td>-0.041345</td>\n",
       "      <td>1.967930</td>\n",
       "      <td>1.052217</td>\n",
       "    </tr>\n",
       "    <tr>\n",
       "      <td>2</td>\n",
       "      <td>0.653966</td>\n",
       "      <td>2.009792</td>\n",
       "      <td>0.590649</td>\n",
       "      <td>-0.945848</td>\n",
       "    </tr>\n",
       "    <tr>\n",
       "      <td>3</td>\n",
       "      <td>0.658682</td>\n",
       "      <td>-0.571509</td>\n",
       "      <td>-0.039555</td>\n",
       "      <td>0.225020</td>\n",
       "    </tr>\n",
       "    <tr>\n",
       "      <td>4</td>\n",
       "      <td>1.291013</td>\n",
       "      <td>1.117327</td>\n",
       "      <td>0.059455</td>\n",
       "      <td>1.017059</td>\n",
       "    </tr>\n",
       "    <tr>\n",
       "      <td>5</td>\n",
       "      <td>-1.834897</td>\n",
       "      <td>2.043658</td>\n",
       "      <td>-0.567503</td>\n",
       "      <td>-1.569837</td>\n",
       "    </tr>\n",
       "  </tbody>\n",
       "</table>\n",
       "</div>"
      ],
      "text/plain": [
       "          A         B         C         D\n",
       "0 -2.897259 -1.073626 -0.078208 -0.612798\n",
       "1 -0.180808 -0.041345  1.967930  1.052217\n",
       "2  0.653966  2.009792  0.590649 -0.945848\n",
       "3  0.658682 -0.571509 -0.039555  0.225020\n",
       "4  1.291013  1.117327  0.059455  1.017059\n",
       "5 -1.834897  2.043658 -0.567503 -1.569837"
      ]
     },
     "execution_count": 170,
     "metadata": {},
     "output_type": "execute_result"
    }
   ],
   "source": [
    "df = pd.DataFrame(np.random.randn(6,4), columns=['A','B','C','D'])\n",
    "#df = df.DataFrame(ndarray(values), columns = ['컬럼명', '컬럼명'...])\n",
    "df"
   ]
  },
  {
   "cell_type": "code",
   "execution_count": 171,
   "metadata": {
    "colab": {
     "base_uri": "https://localhost:8080/",
     "height": 238
    },
    "id": "2Dtgq8-0iq0d",
    "outputId": "6fcf9d6b-5b9d-4407-a6a1-32b1d2c42eb4"
   },
   "outputs": [
    {
     "data": {
      "text/html": [
       "<div>\n",
       "<style scoped>\n",
       "    .dataframe tbody tr th:only-of-type {\n",
       "        vertical-align: middle;\n",
       "    }\n",
       "\n",
       "    .dataframe tbody tr th {\n",
       "        vertical-align: top;\n",
       "    }\n",
       "\n",
       "    .dataframe thead th {\n",
       "        text-align: right;\n",
       "    }\n",
       "</style>\n",
       "<table border=\"1\" class=\"dataframe\">\n",
       "  <thead>\n",
       "    <tr style=\"text-align: right;\">\n",
       "      <th></th>\n",
       "      <th>A</th>\n",
       "      <th>B</th>\n",
       "      <th>C</th>\n",
       "      <th>D</th>\n",
       "    </tr>\n",
       "  </thead>\n",
       "  <tbody>\n",
       "    <tr>\n",
       "      <td>2019-03-01</td>\n",
       "      <td>-0.232375</td>\n",
       "      <td>0.450098</td>\n",
       "      <td>-0.080049</td>\n",
       "      <td>0.358225</td>\n",
       "    </tr>\n",
       "    <tr>\n",
       "      <td>2019-03-02</td>\n",
       "      <td>0.473501</td>\n",
       "      <td>2.031230</td>\n",
       "      <td>-0.844802</td>\n",
       "      <td>0.506166</td>\n",
       "    </tr>\n",
       "    <tr>\n",
       "      <td>2019-03-03</td>\n",
       "      <td>0.022535</td>\n",
       "      <td>0.509934</td>\n",
       "      <td>0.534216</td>\n",
       "      <td>-1.432281</td>\n",
       "    </tr>\n",
       "    <tr>\n",
       "      <td>2019-03-04</td>\n",
       "      <td>0.395268</td>\n",
       "      <td>-0.343806</td>\n",
       "      <td>-0.628395</td>\n",
       "      <td>-0.398094</td>\n",
       "    </tr>\n",
       "    <tr>\n",
       "      <td>2019-03-05</td>\n",
       "      <td>1.736742</td>\n",
       "      <td>-0.598615</td>\n",
       "      <td>0.349504</td>\n",
       "      <td>0.582914</td>\n",
       "    </tr>\n",
       "    <tr>\n",
       "      <td>2019-03-06</td>\n",
       "      <td>-0.434374</td>\n",
       "      <td>-1.695443</td>\n",
       "      <td>1.149313</td>\n",
       "      <td>-2.068056</td>\n",
       "    </tr>\n",
       "  </tbody>\n",
       "</table>\n",
       "</div>"
      ],
      "text/plain": [
       "                   A         B         C         D\n",
       "2019-03-01 -0.232375  0.450098 -0.080049  0.358225\n",
       "2019-03-02  0.473501  2.031230 -0.844802  0.506166\n",
       "2019-03-03  0.022535  0.509934  0.534216 -1.432281\n",
       "2019-03-04  0.395268 -0.343806 -0.628395 -0.398094\n",
       "2019-03-05  1.736742 -0.598615  0.349504  0.582914\n",
       "2019-03-06 -0.434374 -1.695443  1.149313 -2.068056"
      ]
     },
     "execution_count": 171,
     "metadata": {},
     "output_type": "execute_result"
    }
   ],
   "source": [
    "df2 = pd.DataFrame(np.random.randn(6,4),index = dates, columns=['A','B','C','D'])\n",
    "df2"
   ]
  },
  {
   "cell_type": "code",
   "execution_count": 172,
   "metadata": {
    "colab": {
     "base_uri": "https://localhost:8080/"
    },
    "id": "fhtnGNPZjmZE",
    "outputId": "8e860f7c-34af-4791-8b5f-e2b252b5bf9e"
   },
   "outputs": [
    {
     "data": {
      "text/plain": [
       "pandas.core.frame.DataFrame"
      ]
     },
     "execution_count": 172,
     "metadata": {},
     "output_type": "execute_result"
    }
   ],
   "source": [
    "type(df2)"
   ]
  },
  {
   "cell_type": "code",
   "execution_count": 173,
   "metadata": {
    "colab": {
     "base_uri": "https://localhost:8080/"
    },
    "id": "6q5NjpUxkLqc",
    "outputId": "4612167b-6290-4449-b231-46815313e521"
   },
   "outputs": [
    {
     "data": {
      "text/plain": [
       "DatetimeIndex(['2019-03-01', '2019-03-02', '2019-03-03', '2019-03-04',\n",
       "               '2019-03-05', '2019-03-06'],\n",
       "              dtype='datetime64[ns]', freq='D')"
      ]
     },
     "execution_count": 173,
     "metadata": {},
     "output_type": "execute_result"
    }
   ],
   "source": [
    "df2.index"
   ]
  },
  {
   "cell_type": "code",
   "execution_count": 174,
   "metadata": {
    "colab": {
     "base_uri": "https://localhost:8080/"
    },
    "id": "8Q662CMVkW_k",
    "outputId": "386b9705-6530-44d1-b1b9-3687fabf4d21"
   },
   "outputs": [
    {
     "data": {
      "text/plain": [
       "DatetimeIndex(['2019-03-01', '2019-03-02', '2019-03-03', '2019-03-04',\n",
       "               '2019-03-05', '2019-03-06'],\n",
       "              dtype='datetime64[ns]', freq='D')"
      ]
     },
     "execution_count": 174,
     "metadata": {},
     "output_type": "execute_result"
    }
   ],
   "source": [
    "in1 = df2.index\n",
    "in1 "
   ]
  },
  {
   "cell_type": "code",
   "execution_count": 175,
   "metadata": {
    "colab": {
     "base_uri": "https://localhost:8080/"
    },
    "id": "eqF4WUHUkZr0",
    "outputId": "6757aebd-fae3-4bb6-d1f6-cd37033d8953"
   },
   "outputs": [
    {
     "data": {
      "text/plain": [
       "Timestamp('2019-03-01 00:00:00', freq='D')"
      ]
     },
     "execution_count": 175,
     "metadata": {},
     "output_type": "execute_result"
    }
   ],
   "source": [
    "in1[0]"
   ]
  },
  {
   "cell_type": "code",
   "execution_count": 176,
   "metadata": {
    "colab": {
     "base_uri": "https://localhost:8080/"
    },
    "id": "nwECSUbpkbzU",
    "outputId": "109353e2-0ea6-4aad-c17d-7a9e75a06598"
   },
   "outputs": [
    {
     "data": {
      "text/plain": [
       "RangeIndex(start=0, stop=6, step=1)"
      ]
     },
     "execution_count": 176,
     "metadata": {},
     "output_type": "execute_result"
    }
   ],
   "source": [
    "df.index"
   ]
  },
  {
   "cell_type": "code",
   "execution_count": 177,
   "metadata": {
    "colab": {
     "base_uri": "https://localhost:8080/"
    },
    "id": "drMD1Z13kiAV",
    "outputId": "56ecb1c6-1305-473a-97c9-f66fcdfca85b"
   },
   "outputs": [
    {
     "data": {
      "text/plain": [
       "RangeIndex(start=0, stop=6, step=1)"
      ]
     },
     "execution_count": 177,
     "metadata": {},
     "output_type": "execute_result"
    }
   ],
   "source": [
    "in2 = df.index\n",
    "in2"
   ]
  },
  {
   "cell_type": "code",
   "execution_count": 178,
   "metadata": {
    "colab": {
     "base_uri": "https://localhost:8080/"
    },
    "id": "juvNOexDknwz",
    "outputId": "4590b399-4cb5-45e8-a80b-42697451a9fd"
   },
   "outputs": [
    {
     "data": {
      "text/plain": [
       "2"
      ]
     },
     "execution_count": 178,
     "metadata": {},
     "output_type": "execute_result"
    }
   ],
   "source": [
    "in2[2] \n",
    "#리스트를 가지고 만든 여러가지 객체들은 리스트처럼 똑같이 다루어도 크게 문제가 발생하지 않는다. "
   ]
  },
  {
   "cell_type": "code",
   "execution_count": 179,
   "metadata": {
    "colab": {
     "base_uri": "https://localhost:8080/"
    },
    "id": "5k_mDFRikoXb",
    "outputId": "358f76ed-e709-43a0-a9bd-38bc0cdfea4d"
   },
   "outputs": [
    {
     "data": {
      "text/plain": [
       "Timestamp('2019-03-01 00:00:00', freq='D')"
      ]
     },
     "execution_count": 179,
     "metadata": {},
     "output_type": "execute_result"
    }
   ],
   "source": [
    "ts1 = in1[0]\n",
    "ts1 "
   ]
  },
  {
   "cell_type": "code",
   "execution_count": 180,
   "metadata": {
    "colab": {
     "base_uri": "https://localhost:8080/",
     "height": 35
    },
    "id": "Hr4PLGgqlLR0",
    "outputId": "9839e7d2-d056-44b1-d38d-e0a25a30e1c6"
   },
   "outputs": [
    {
     "data": {
      "text/plain": [
       "'2019-03-01 00:00:00'"
      ]
     },
     "execution_count": 180,
     "metadata": {},
     "output_type": "execute_result"
    }
   ],
   "source": [
    "str(ts1)"
   ]
  },
  {
   "cell_type": "code",
   "execution_count": 181,
   "metadata": {
    "colab": {
     "base_uri": "https://localhost:8080/"
    },
    "id": "o0-XUQJtlOSs",
    "outputId": "a1387abe-2863-41dd-c43c-aa45e59ef5dd"
   },
   "outputs": [
    {
     "data": {
      "text/plain": [
       "0   -2.897259\n",
       "1   -0.180808\n",
       "2    0.653966\n",
       "3    0.658682\n",
       "4    1.291013\n",
       "5   -1.834897\n",
       "Name: A, dtype: float64"
      ]
     },
     "execution_count": 181,
     "metadata": {},
     "output_type": "execute_result"
    }
   ],
   "source": [
    "df['A']"
   ]
  },
  {
   "cell_type": "code",
   "execution_count": 182,
   "metadata": {
    "colab": {
     "base_uri": "https://localhost:8080/"
    },
    "id": "OzEYvXXXla3L",
    "outputId": "b41ad23a-a364-4ada-eaf1-676b74401348"
   },
   "outputs": [
    {
     "data": {
      "text/plain": [
       "pandas.core.series.Series"
      ]
     },
     "execution_count": 182,
     "metadata": {},
     "output_type": "execute_result"
    }
   ],
   "source": [
    "type(df['A'])"
   ]
  },
  {
   "cell_type": "code",
   "execution_count": 183,
   "metadata": {
    "colab": {
     "base_uri": "https://localhost:8080/"
    },
    "id": "F1l8jOTzluKu",
    "outputId": "8a3ae27f-af4d-4307-9b65-52b006524317"
   },
   "outputs": [
    {
     "data": {
      "text/plain": [
       "0   -2.897259\n",
       "1   -0.180808\n",
       "2    0.653966\n",
       "3    0.658682\n",
       "4    1.291013\n",
       "5   -1.834897\n",
       "Name: A, dtype: float64"
      ]
     },
     "execution_count": 183,
     "metadata": {},
     "output_type": "execute_result"
    }
   ],
   "source": [
    "a = df['A']\n",
    "a"
   ]
  },
  {
   "cell_type": "code",
   "execution_count": 184,
   "metadata": {
    "colab": {
     "base_uri": "https://localhost:8080/"
    },
    "id": "ZfD7CRXtleNU",
    "outputId": "d87174e9-b78d-4d23-cb4b-b48be51bc9dd"
   },
   "outputs": [
    {
     "data": {
      "text/plain": [
       "-2.8972585132096245"
      ]
     },
     "execution_count": 184,
     "metadata": {},
     "output_type": "execute_result"
    }
   ],
   "source": [
    "a[0]"
   ]
  },
  {
   "cell_type": "code",
   "execution_count": 185,
   "metadata": {
    "colab": {
     "base_uri": "https://localhost:8080/"
    },
    "id": "CLW2lMX_l4Nv",
    "outputId": "53b9589e-afa7-4923-93f0-08f26f79b4ec"
   },
   "outputs": [
    {
     "data": {
      "text/plain": [
       "-0.18080837483520235"
      ]
     },
     "execution_count": 185,
     "metadata": {},
     "output_type": "execute_result"
    }
   ],
   "source": [
    "a[1]"
   ]
  },
  {
   "cell_type": "code",
   "execution_count": 186,
   "metadata": {
    "colab": {
     "base_uri": "https://localhost:8080/"
    },
    "id": "QwCt_9rfls_s",
    "outputId": "15f49f57-1106-4daf-fa2f-8093a6051264"
   },
   "outputs": [
    {
     "data": {
      "text/plain": [
       "array([[-0.23237477,  0.45009827, -0.0800487 ,  0.3582249 ],\n",
       "       [ 0.47350057,  2.03123019, -0.8448024 ,  0.50616598],\n",
       "       [ 0.02253494,  0.50993361,  0.5342158 , -1.43228107],\n",
       "       [ 0.39526846, -0.34380606, -0.62839527, -0.39809397],\n",
       "       [ 1.73674224, -0.5986149 ,  0.3495039 ,  0.58291445],\n",
       "       [-0.43437396, -1.69544303,  1.14931304, -2.06805647]])"
      ]
     },
     "execution_count": 186,
     "metadata": {},
     "output_type": "execute_result"
    }
   ],
   "source": [
    "df2.values"
   ]
  },
  {
   "cell_type": "code",
   "execution_count": 187,
   "metadata": {
    "colab": {
     "base_uri": "https://localhost:8080/",
     "height": 300
    },
    "id": "ICkScYIRmAMt",
    "outputId": "0407ba44-9364-45ca-d2ec-fb1216f4bfb6"
   },
   "outputs": [
    {
     "data": {
      "text/html": [
       "<div>\n",
       "<style scoped>\n",
       "    .dataframe tbody tr th:only-of-type {\n",
       "        vertical-align: middle;\n",
       "    }\n",
       "\n",
       "    .dataframe tbody tr th {\n",
       "        vertical-align: top;\n",
       "    }\n",
       "\n",
       "    .dataframe thead th {\n",
       "        text-align: right;\n",
       "    }\n",
       "</style>\n",
       "<table border=\"1\" class=\"dataframe\">\n",
       "  <thead>\n",
       "    <tr style=\"text-align: right;\">\n",
       "      <th></th>\n",
       "      <th>A</th>\n",
       "      <th>B</th>\n",
       "      <th>C</th>\n",
       "      <th>D</th>\n",
       "    </tr>\n",
       "  </thead>\n",
       "  <tbody>\n",
       "    <tr>\n",
       "      <td>count</td>\n",
       "      <td>6.000000</td>\n",
       "      <td>6.000000</td>\n",
       "      <td>6.000000</td>\n",
       "      <td>6.000000</td>\n",
       "    </tr>\n",
       "    <tr>\n",
       "      <td>mean</td>\n",
       "      <td>0.326883</td>\n",
       "      <td>0.058900</td>\n",
       "      <td>0.079964</td>\n",
       "      <td>-0.408521</td>\n",
       "    </tr>\n",
       "    <tr>\n",
       "      <td>std</td>\n",
       "      <td>0.774440</td>\n",
       "      <td>1.258473</td>\n",
       "      <td>0.749009</td>\n",
       "      <td>1.114428</td>\n",
       "    </tr>\n",
       "    <tr>\n",
       "      <td>min</td>\n",
       "      <td>-0.434374</td>\n",
       "      <td>-1.695443</td>\n",
       "      <td>-0.844802</td>\n",
       "      <td>-2.068056</td>\n",
       "    </tr>\n",
       "    <tr>\n",
       "      <td>25%</td>\n",
       "      <td>-0.168647</td>\n",
       "      <td>-0.534913</td>\n",
       "      <td>-0.491309</td>\n",
       "      <td>-1.173734</td>\n",
       "    </tr>\n",
       "    <tr>\n",
       "      <td>50%</td>\n",
       "      <td>0.208902</td>\n",
       "      <td>0.053146</td>\n",
       "      <td>0.134728</td>\n",
       "      <td>-0.019935</td>\n",
       "    </tr>\n",
       "    <tr>\n",
       "      <td>75%</td>\n",
       "      <td>0.453943</td>\n",
       "      <td>0.494975</td>\n",
       "      <td>0.488038</td>\n",
       "      <td>0.469181</td>\n",
       "    </tr>\n",
       "    <tr>\n",
       "      <td>max</td>\n",
       "      <td>1.736742</td>\n",
       "      <td>2.031230</td>\n",
       "      <td>1.149313</td>\n",
       "      <td>0.582914</td>\n",
       "    </tr>\n",
       "  </tbody>\n",
       "</table>\n",
       "</div>"
      ],
      "text/plain": [
       "              A         B         C         D\n",
       "count  6.000000  6.000000  6.000000  6.000000\n",
       "mean   0.326883  0.058900  0.079964 -0.408521\n",
       "std    0.774440  1.258473  0.749009  1.114428\n",
       "min   -0.434374 -1.695443 -0.844802 -2.068056\n",
       "25%   -0.168647 -0.534913 -0.491309 -1.173734\n",
       "50%    0.208902  0.053146  0.134728 -0.019935\n",
       "75%    0.453943  0.494975  0.488038  0.469181\n",
       "max    1.736742  2.031230  1.149313  0.582914"
      ]
     },
     "execution_count": 187,
     "metadata": {},
     "output_type": "execute_result"
    }
   ],
   "source": [
    "df2.describe()"
   ]
  },
  {
   "cell_type": "code",
   "execution_count": 188,
   "metadata": {
    "colab": {
     "base_uri": "https://localhost:8080/",
     "height": 238
    },
    "id": "u-94Ra96mEcj",
    "outputId": "0933121c-9d41-4d23-8b7b-536baaeef849"
   },
   "outputs": [
    {
     "data": {
      "text/html": [
       "<div>\n",
       "<style scoped>\n",
       "    .dataframe tbody tr th:only-of-type {\n",
       "        vertical-align: middle;\n",
       "    }\n",
       "\n",
       "    .dataframe tbody tr th {\n",
       "        vertical-align: top;\n",
       "    }\n",
       "\n",
       "    .dataframe thead th {\n",
       "        text-align: right;\n",
       "    }\n",
       "</style>\n",
       "<table border=\"1\" class=\"dataframe\">\n",
       "  <thead>\n",
       "    <tr style=\"text-align: right;\">\n",
       "      <th></th>\n",
       "      <th>A</th>\n",
       "      <th>B</th>\n",
       "      <th>C</th>\n",
       "      <th>D</th>\n",
       "    </tr>\n",
       "  </thead>\n",
       "  <tbody>\n",
       "    <tr>\n",
       "      <td>2019-03-01</td>\n",
       "      <td>-0.232375</td>\n",
       "      <td>0.450098</td>\n",
       "      <td>-0.080049</td>\n",
       "      <td>0.358225</td>\n",
       "    </tr>\n",
       "    <tr>\n",
       "      <td>2019-03-02</td>\n",
       "      <td>0.473501</td>\n",
       "      <td>2.031230</td>\n",
       "      <td>-0.844802</td>\n",
       "      <td>0.506166</td>\n",
       "    </tr>\n",
       "    <tr>\n",
       "      <td>2019-03-03</td>\n",
       "      <td>0.022535</td>\n",
       "      <td>0.509934</td>\n",
       "      <td>0.534216</td>\n",
       "      <td>-1.432281</td>\n",
       "    </tr>\n",
       "    <tr>\n",
       "      <td>2019-03-04</td>\n",
       "      <td>0.395268</td>\n",
       "      <td>-0.343806</td>\n",
       "      <td>-0.628395</td>\n",
       "      <td>-0.398094</td>\n",
       "    </tr>\n",
       "    <tr>\n",
       "      <td>2019-03-05</td>\n",
       "      <td>1.736742</td>\n",
       "      <td>-0.598615</td>\n",
       "      <td>0.349504</td>\n",
       "      <td>0.582914</td>\n",
       "    </tr>\n",
       "    <tr>\n",
       "      <td>2019-03-06</td>\n",
       "      <td>-0.434374</td>\n",
       "      <td>-1.695443</td>\n",
       "      <td>1.149313</td>\n",
       "      <td>-2.068056</td>\n",
       "    </tr>\n",
       "  </tbody>\n",
       "</table>\n",
       "</div>"
      ],
      "text/plain": [
       "                   A         B         C         D\n",
       "2019-03-01 -0.232375  0.450098 -0.080049  0.358225\n",
       "2019-03-02  0.473501  2.031230 -0.844802  0.506166\n",
       "2019-03-03  0.022535  0.509934  0.534216 -1.432281\n",
       "2019-03-04  0.395268 -0.343806 -0.628395 -0.398094\n",
       "2019-03-05  1.736742 -0.598615  0.349504  0.582914\n",
       "2019-03-06 -0.434374 -1.695443  1.149313 -2.068056"
      ]
     },
     "execution_count": 188,
     "metadata": {},
     "output_type": "execute_result"
    }
   ],
   "source": [
    "df2.sort_index()"
   ]
  },
  {
   "cell_type": "code",
   "execution_count": 189,
   "metadata": {
    "colab": {
     "base_uri": "https://localhost:8080/",
     "height": 238
    },
    "id": "Zj82Gw4pmR4s",
    "outputId": "be49dd8a-a682-48a2-8773-ea2a17d15be1"
   },
   "outputs": [
    {
     "data": {
      "text/html": [
       "<div>\n",
       "<style scoped>\n",
       "    .dataframe tbody tr th:only-of-type {\n",
       "        vertical-align: middle;\n",
       "    }\n",
       "\n",
       "    .dataframe tbody tr th {\n",
       "        vertical-align: top;\n",
       "    }\n",
       "\n",
       "    .dataframe thead th {\n",
       "        text-align: right;\n",
       "    }\n",
       "</style>\n",
       "<table border=\"1\" class=\"dataframe\">\n",
       "  <thead>\n",
       "    <tr style=\"text-align: right;\">\n",
       "      <th></th>\n",
       "      <th>A</th>\n",
       "      <th>B</th>\n",
       "      <th>C</th>\n",
       "      <th>D</th>\n",
       "    </tr>\n",
       "  </thead>\n",
       "  <tbody>\n",
       "    <tr>\n",
       "      <td>2019-03-06</td>\n",
       "      <td>-0.434374</td>\n",
       "      <td>-1.695443</td>\n",
       "      <td>1.149313</td>\n",
       "      <td>-2.068056</td>\n",
       "    </tr>\n",
       "    <tr>\n",
       "      <td>2019-03-05</td>\n",
       "      <td>1.736742</td>\n",
       "      <td>-0.598615</td>\n",
       "      <td>0.349504</td>\n",
       "      <td>0.582914</td>\n",
       "    </tr>\n",
       "    <tr>\n",
       "      <td>2019-03-04</td>\n",
       "      <td>0.395268</td>\n",
       "      <td>-0.343806</td>\n",
       "      <td>-0.628395</td>\n",
       "      <td>-0.398094</td>\n",
       "    </tr>\n",
       "    <tr>\n",
       "      <td>2019-03-03</td>\n",
       "      <td>0.022535</td>\n",
       "      <td>0.509934</td>\n",
       "      <td>0.534216</td>\n",
       "      <td>-1.432281</td>\n",
       "    </tr>\n",
       "    <tr>\n",
       "      <td>2019-03-02</td>\n",
       "      <td>0.473501</td>\n",
       "      <td>2.031230</td>\n",
       "      <td>-0.844802</td>\n",
       "      <td>0.506166</td>\n",
       "    </tr>\n",
       "    <tr>\n",
       "      <td>2019-03-01</td>\n",
       "      <td>-0.232375</td>\n",
       "      <td>0.450098</td>\n",
       "      <td>-0.080049</td>\n",
       "      <td>0.358225</td>\n",
       "    </tr>\n",
       "  </tbody>\n",
       "</table>\n",
       "</div>"
      ],
      "text/plain": [
       "                   A         B         C         D\n",
       "2019-03-06 -0.434374 -1.695443  1.149313 -2.068056\n",
       "2019-03-05  1.736742 -0.598615  0.349504  0.582914\n",
       "2019-03-04  0.395268 -0.343806 -0.628395 -0.398094\n",
       "2019-03-03  0.022535  0.509934  0.534216 -1.432281\n",
       "2019-03-02  0.473501  2.031230 -0.844802  0.506166\n",
       "2019-03-01 -0.232375  0.450098 -0.080049  0.358225"
      ]
     },
     "execution_count": 189,
     "metadata": {},
     "output_type": "execute_result"
    }
   ],
   "source": [
    "df2.sort_index(ascending=False)"
   ]
  },
  {
   "cell_type": "code",
   "execution_count": 190,
   "metadata": {
    "colab": {
     "base_uri": "https://localhost:8080/",
     "height": 238
    },
    "id": "jBsWEuHimaGU",
    "outputId": "28466278-1ab8-4933-f971-bee43a3f9792"
   },
   "outputs": [
    {
     "data": {
      "text/html": [
       "<div>\n",
       "<style scoped>\n",
       "    .dataframe tbody tr th:only-of-type {\n",
       "        vertical-align: middle;\n",
       "    }\n",
       "\n",
       "    .dataframe tbody tr th {\n",
       "        vertical-align: top;\n",
       "    }\n",
       "\n",
       "    .dataframe thead th {\n",
       "        text-align: right;\n",
       "    }\n",
       "</style>\n",
       "<table border=\"1\" class=\"dataframe\">\n",
       "  <thead>\n",
       "    <tr style=\"text-align: right;\">\n",
       "      <th></th>\n",
       "      <th>A</th>\n",
       "      <th>B</th>\n",
       "      <th>C</th>\n",
       "      <th>D</th>\n",
       "    </tr>\n",
       "  </thead>\n",
       "  <tbody>\n",
       "    <tr>\n",
       "      <td>2019-03-06</td>\n",
       "      <td>-0.434374</td>\n",
       "      <td>-1.695443</td>\n",
       "      <td>1.149313</td>\n",
       "      <td>-2.068056</td>\n",
       "    </tr>\n",
       "    <tr>\n",
       "      <td>2019-03-01</td>\n",
       "      <td>-0.232375</td>\n",
       "      <td>0.450098</td>\n",
       "      <td>-0.080049</td>\n",
       "      <td>0.358225</td>\n",
       "    </tr>\n",
       "    <tr>\n",
       "      <td>2019-03-03</td>\n",
       "      <td>0.022535</td>\n",
       "      <td>0.509934</td>\n",
       "      <td>0.534216</td>\n",
       "      <td>-1.432281</td>\n",
       "    </tr>\n",
       "    <tr>\n",
       "      <td>2019-03-04</td>\n",
       "      <td>0.395268</td>\n",
       "      <td>-0.343806</td>\n",
       "      <td>-0.628395</td>\n",
       "      <td>-0.398094</td>\n",
       "    </tr>\n",
       "    <tr>\n",
       "      <td>2019-03-02</td>\n",
       "      <td>0.473501</td>\n",
       "      <td>2.031230</td>\n",
       "      <td>-0.844802</td>\n",
       "      <td>0.506166</td>\n",
       "    </tr>\n",
       "    <tr>\n",
       "      <td>2019-03-05</td>\n",
       "      <td>1.736742</td>\n",
       "      <td>-0.598615</td>\n",
       "      <td>0.349504</td>\n",
       "      <td>0.582914</td>\n",
       "    </tr>\n",
       "  </tbody>\n",
       "</table>\n",
       "</div>"
      ],
      "text/plain": [
       "                   A         B         C         D\n",
       "2019-03-06 -0.434374 -1.695443  1.149313 -2.068056\n",
       "2019-03-01 -0.232375  0.450098 -0.080049  0.358225\n",
       "2019-03-03  0.022535  0.509934  0.534216 -1.432281\n",
       "2019-03-04  0.395268 -0.343806 -0.628395 -0.398094\n",
       "2019-03-02  0.473501  2.031230 -0.844802  0.506166\n",
       "2019-03-05  1.736742 -0.598615  0.349504  0.582914"
      ]
     },
     "execution_count": 190,
     "metadata": {},
     "output_type": "execute_result"
    }
   ],
   "source": [
    "df2.sort_values(by='A')"
   ]
  },
  {
   "cell_type": "code",
   "execution_count": 191,
   "metadata": {
    "colab": {
     "base_uri": "https://localhost:8080/",
     "height": 238
    },
    "id": "1Go6zp1nmqYL",
    "outputId": "5dd090de-1937-4ae7-c3b5-957022662f48"
   },
   "outputs": [
    {
     "data": {
      "text/html": [
       "<div>\n",
       "<style scoped>\n",
       "    .dataframe tbody tr th:only-of-type {\n",
       "        vertical-align: middle;\n",
       "    }\n",
       "\n",
       "    .dataframe tbody tr th {\n",
       "        vertical-align: top;\n",
       "    }\n",
       "\n",
       "    .dataframe thead th {\n",
       "        text-align: right;\n",
       "    }\n",
       "</style>\n",
       "<table border=\"1\" class=\"dataframe\">\n",
       "  <thead>\n",
       "    <tr style=\"text-align: right;\">\n",
       "      <th></th>\n",
       "      <th>A</th>\n",
       "      <th>B</th>\n",
       "      <th>C</th>\n",
       "      <th>D</th>\n",
       "    </tr>\n",
       "  </thead>\n",
       "  <tbody>\n",
       "    <tr>\n",
       "      <td>2019-03-05</td>\n",
       "      <td>1.736742</td>\n",
       "      <td>-0.598615</td>\n",
       "      <td>0.349504</td>\n",
       "      <td>0.582914</td>\n",
       "    </tr>\n",
       "    <tr>\n",
       "      <td>2019-03-02</td>\n",
       "      <td>0.473501</td>\n",
       "      <td>2.031230</td>\n",
       "      <td>-0.844802</td>\n",
       "      <td>0.506166</td>\n",
       "    </tr>\n",
       "    <tr>\n",
       "      <td>2019-03-04</td>\n",
       "      <td>0.395268</td>\n",
       "      <td>-0.343806</td>\n",
       "      <td>-0.628395</td>\n",
       "      <td>-0.398094</td>\n",
       "    </tr>\n",
       "    <tr>\n",
       "      <td>2019-03-03</td>\n",
       "      <td>0.022535</td>\n",
       "      <td>0.509934</td>\n",
       "      <td>0.534216</td>\n",
       "      <td>-1.432281</td>\n",
       "    </tr>\n",
       "    <tr>\n",
       "      <td>2019-03-01</td>\n",
       "      <td>-0.232375</td>\n",
       "      <td>0.450098</td>\n",
       "      <td>-0.080049</td>\n",
       "      <td>0.358225</td>\n",
       "    </tr>\n",
       "    <tr>\n",
       "      <td>2019-03-06</td>\n",
       "      <td>-0.434374</td>\n",
       "      <td>-1.695443</td>\n",
       "      <td>1.149313</td>\n",
       "      <td>-2.068056</td>\n",
       "    </tr>\n",
       "  </tbody>\n",
       "</table>\n",
       "</div>"
      ],
      "text/plain": [
       "                   A         B         C         D\n",
       "2019-03-05  1.736742 -0.598615  0.349504  0.582914\n",
       "2019-03-02  0.473501  2.031230 -0.844802  0.506166\n",
       "2019-03-04  0.395268 -0.343806 -0.628395 -0.398094\n",
       "2019-03-03  0.022535  0.509934  0.534216 -1.432281\n",
       "2019-03-01 -0.232375  0.450098 -0.080049  0.358225\n",
       "2019-03-06 -0.434374 -1.695443  1.149313 -2.068056"
      ]
     },
     "execution_count": 191,
     "metadata": {},
     "output_type": "execute_result"
    }
   ],
   "source": [
    "df2.sort_values(by='A', ascending=False)"
   ]
  },
  {
   "cell_type": "code",
   "execution_count": 192,
   "metadata": {
    "colab": {
     "base_uri": "https://localhost:8080/",
     "height": 238
    },
    "id": "2PaakHA3mxVr",
    "outputId": "724da99b-9992-4f77-8e08-14da7953e762"
   },
   "outputs": [
    {
     "data": {
      "text/html": [
       "<div>\n",
       "<style scoped>\n",
       "    .dataframe tbody tr th:only-of-type {\n",
       "        vertical-align: middle;\n",
       "    }\n",
       "\n",
       "    .dataframe tbody tr th {\n",
       "        vertical-align: top;\n",
       "    }\n",
       "\n",
       "    .dataframe thead th {\n",
       "        text-align: right;\n",
       "    }\n",
       "</style>\n",
       "<table border=\"1\" class=\"dataframe\">\n",
       "  <thead>\n",
       "    <tr style=\"text-align: right;\">\n",
       "      <th></th>\n",
       "      <th>A</th>\n",
       "      <th>B</th>\n",
       "      <th>C</th>\n",
       "      <th>D</th>\n",
       "    </tr>\n",
       "  </thead>\n",
       "  <tbody>\n",
       "    <tr>\n",
       "      <td>2019-03-01</td>\n",
       "      <td>-0.232375</td>\n",
       "      <td>0.450098</td>\n",
       "      <td>-0.080049</td>\n",
       "      <td>0.358225</td>\n",
       "    </tr>\n",
       "    <tr>\n",
       "      <td>2019-03-02</td>\n",
       "      <td>0.473501</td>\n",
       "      <td>2.031230</td>\n",
       "      <td>-0.844802</td>\n",
       "      <td>0.506166</td>\n",
       "    </tr>\n",
       "    <tr>\n",
       "      <td>2019-03-03</td>\n",
       "      <td>0.022535</td>\n",
       "      <td>0.509934</td>\n",
       "      <td>0.534216</td>\n",
       "      <td>-1.432281</td>\n",
       "    </tr>\n",
       "    <tr>\n",
       "      <td>2019-03-04</td>\n",
       "      <td>0.395268</td>\n",
       "      <td>-0.343806</td>\n",
       "      <td>-0.628395</td>\n",
       "      <td>-0.398094</td>\n",
       "    </tr>\n",
       "    <tr>\n",
       "      <td>2019-03-05</td>\n",
       "      <td>1.736742</td>\n",
       "      <td>-0.598615</td>\n",
       "      <td>0.349504</td>\n",
       "      <td>0.582914</td>\n",
       "    </tr>\n",
       "    <tr>\n",
       "      <td>2019-03-06</td>\n",
       "      <td>-0.434374</td>\n",
       "      <td>-1.695443</td>\n",
       "      <td>1.149313</td>\n",
       "      <td>-2.068056</td>\n",
       "    </tr>\n",
       "  </tbody>\n",
       "</table>\n",
       "</div>"
      ],
      "text/plain": [
       "                   A         B         C         D\n",
       "2019-03-01 -0.232375  0.450098 -0.080049  0.358225\n",
       "2019-03-02  0.473501  2.031230 -0.844802  0.506166\n",
       "2019-03-03  0.022535  0.509934  0.534216 -1.432281\n",
       "2019-03-04  0.395268 -0.343806 -0.628395 -0.398094\n",
       "2019-03-05  1.736742 -0.598615  0.349504  0.582914\n",
       "2019-03-06 -0.434374 -1.695443  1.149313 -2.068056"
      ]
     },
     "execution_count": 192,
     "metadata": {},
     "output_type": "execute_result"
    }
   ],
   "source": [
    "df3 = df2.copy()\n",
    "df3"
   ]
  },
  {
   "cell_type": "code",
   "execution_count": 193,
   "metadata": {
    "colab": {
     "base_uri": "https://localhost:8080/",
     "height": 238
    },
    "id": "rAmZdev6qOh1",
    "outputId": "1de3a44f-f786-41e9-b7d0-bee89bcdb4b7"
   },
   "outputs": [
    {
     "data": {
      "text/html": [
       "<div>\n",
       "<style scoped>\n",
       "    .dataframe tbody tr th:only-of-type {\n",
       "        vertical-align: middle;\n",
       "    }\n",
       "\n",
       "    .dataframe tbody tr th {\n",
       "        vertical-align: top;\n",
       "    }\n",
       "\n",
       "    .dataframe thead th {\n",
       "        text-align: right;\n",
       "    }\n",
       "</style>\n",
       "<table border=\"1\" class=\"dataframe\">\n",
       "  <thead>\n",
       "    <tr style=\"text-align: right;\">\n",
       "      <th></th>\n",
       "      <th>A</th>\n",
       "      <th>B</th>\n",
       "      <th>C</th>\n",
       "      <th>D</th>\n",
       "    </tr>\n",
       "  </thead>\n",
       "  <tbody>\n",
       "    <tr>\n",
       "      <td>2019-03-06</td>\n",
       "      <td>-0.434374</td>\n",
       "      <td>-1.695443</td>\n",
       "      <td>1.149313</td>\n",
       "      <td>-2.068056</td>\n",
       "    </tr>\n",
       "    <tr>\n",
       "      <td>2019-03-05</td>\n",
       "      <td>1.736742</td>\n",
       "      <td>-0.598615</td>\n",
       "      <td>0.349504</td>\n",
       "      <td>0.582914</td>\n",
       "    </tr>\n",
       "    <tr>\n",
       "      <td>2019-03-04</td>\n",
       "      <td>0.395268</td>\n",
       "      <td>-0.343806</td>\n",
       "      <td>-0.628395</td>\n",
       "      <td>-0.398094</td>\n",
       "    </tr>\n",
       "    <tr>\n",
       "      <td>2019-03-01</td>\n",
       "      <td>-0.232375</td>\n",
       "      <td>0.450098</td>\n",
       "      <td>-0.080049</td>\n",
       "      <td>0.358225</td>\n",
       "    </tr>\n",
       "    <tr>\n",
       "      <td>2019-03-03</td>\n",
       "      <td>0.022535</td>\n",
       "      <td>0.509934</td>\n",
       "      <td>0.534216</td>\n",
       "      <td>-1.432281</td>\n",
       "    </tr>\n",
       "    <tr>\n",
       "      <td>2019-03-02</td>\n",
       "      <td>0.473501</td>\n",
       "      <td>2.031230</td>\n",
       "      <td>-0.844802</td>\n",
       "      <td>0.506166</td>\n",
       "    </tr>\n",
       "  </tbody>\n",
       "</table>\n",
       "</div>"
      ],
      "text/plain": [
       "                   A         B         C         D\n",
       "2019-03-06 -0.434374 -1.695443  1.149313 -2.068056\n",
       "2019-03-05  1.736742 -0.598615  0.349504  0.582914\n",
       "2019-03-04  0.395268 -0.343806 -0.628395 -0.398094\n",
       "2019-03-01 -0.232375  0.450098 -0.080049  0.358225\n",
       "2019-03-03  0.022535  0.509934  0.534216 -1.432281\n",
       "2019-03-02  0.473501  2.031230 -0.844802  0.506166"
      ]
     },
     "execution_count": 193,
     "metadata": {},
     "output_type": "execute_result"
    }
   ],
   "source": [
    "# df3를 B로 정렬해주세요 \n",
    "# df3의 내용이 변경되어야 합니다.\n",
    "df3 = df3.sort_values(by='B')\n",
    "df3"
   ]
  },
  {
   "cell_type": "code",
   "execution_count": 194,
   "metadata": {
    "colab": {
     "base_uri": "https://localhost:8080/",
     "height": 238
    },
    "id": "nH6V7tggn3l7",
    "outputId": "89c503b6-40e8-4ede-ccee-df3100f3ef8a"
   },
   "outputs": [
    {
     "data": {
      "text/html": [
       "<div>\n",
       "<style scoped>\n",
       "    .dataframe tbody tr th:only-of-type {\n",
       "        vertical-align: middle;\n",
       "    }\n",
       "\n",
       "    .dataframe tbody tr th {\n",
       "        vertical-align: top;\n",
       "    }\n",
       "\n",
       "    .dataframe thead th {\n",
       "        text-align: right;\n",
       "    }\n",
       "</style>\n",
       "<table border=\"1\" class=\"dataframe\">\n",
       "  <thead>\n",
       "    <tr style=\"text-align: right;\">\n",
       "      <th></th>\n",
       "      <th>B</th>\n",
       "      <th>C</th>\n",
       "    </tr>\n",
       "  </thead>\n",
       "  <tbody>\n",
       "    <tr>\n",
       "      <td>2019-03-06</td>\n",
       "      <td>-1.695443</td>\n",
       "      <td>1.149313</td>\n",
       "    </tr>\n",
       "    <tr>\n",
       "      <td>2019-03-05</td>\n",
       "      <td>-0.598615</td>\n",
       "      <td>0.349504</td>\n",
       "    </tr>\n",
       "    <tr>\n",
       "      <td>2019-03-04</td>\n",
       "      <td>-0.343806</td>\n",
       "      <td>-0.628395</td>\n",
       "    </tr>\n",
       "    <tr>\n",
       "      <td>2019-03-01</td>\n",
       "      <td>0.450098</td>\n",
       "      <td>-0.080049</td>\n",
       "    </tr>\n",
       "    <tr>\n",
       "      <td>2019-03-03</td>\n",
       "      <td>0.509934</td>\n",
       "      <td>0.534216</td>\n",
       "    </tr>\n",
       "    <tr>\n",
       "      <td>2019-03-02</td>\n",
       "      <td>2.031230</td>\n",
       "      <td>-0.844802</td>\n",
       "    </tr>\n",
       "  </tbody>\n",
       "</table>\n",
       "</div>"
      ],
      "text/plain": [
       "                   B         C\n",
       "2019-03-06 -1.695443  1.149313\n",
       "2019-03-05 -0.598615  0.349504\n",
       "2019-03-04 -0.343806 -0.628395\n",
       "2019-03-01  0.450098 -0.080049\n",
       "2019-03-03  0.509934  0.534216\n",
       "2019-03-02  2.031230 -0.844802"
      ]
     },
     "execution_count": 194,
     "metadata": {},
     "output_type": "execute_result"
    }
   ],
   "source": [
    "#변경된 df3에서 b, c만 추출 \n",
    "df3bc=df3[['B','C']] #밖의 대괄호는 추출의 의미 안의 대괄호는 묶어주는 의미 \n",
    "df3bc"
   ]
  },
  {
   "cell_type": "code",
   "execution_count": 195,
   "metadata": {
    "colab": {
     "base_uri": "https://localhost:8080/"
    },
    "id": "wrOSLEXdn8WT",
    "outputId": "99e836e0-dc61-40d5-9556-0197790523bd"
   },
   "outputs": [
    {
     "data": {
      "text/plain": [
       "1.0"
      ]
     },
     "execution_count": 195,
     "metadata": {},
     "output_type": "execute_result"
    }
   ],
   "source": [
    "#df3의 첫번째 행 첫번째 열의 값을 1로 수정\n",
    "df3.iloc[0,0]=1 \n",
    "df3.iloc[0,0]\n",
    "\n"
   ]
  },
  {
   "cell_type": "code",
   "execution_count": 196,
   "metadata": {
    "colab": {
     "base_uri": "https://localhost:8080/",
     "height": 143
    },
    "id": "PpB0-3Hdrc0T",
    "outputId": "3fc5b470-f3df-4925-ddfa-10a72ebb3e8d"
   },
   "outputs": [
    {
     "data": {
      "text/html": [
       "<div>\n",
       "<style scoped>\n",
       "    .dataframe tbody tr th:only-of-type {\n",
       "        vertical-align: middle;\n",
       "    }\n",
       "\n",
       "    .dataframe tbody tr th {\n",
       "        vertical-align: top;\n",
       "    }\n",
       "\n",
       "    .dataframe thead th {\n",
       "        text-align: right;\n",
       "    }\n",
       "</style>\n",
       "<table border=\"1\" class=\"dataframe\">\n",
       "  <thead>\n",
       "    <tr style=\"text-align: right;\">\n",
       "      <th></th>\n",
       "      <th>A</th>\n",
       "      <th>B</th>\n",
       "      <th>C</th>\n",
       "      <th>D</th>\n",
       "    </tr>\n",
       "  </thead>\n",
       "  <tbody>\n",
       "    <tr>\n",
       "      <td>2019-03-06</td>\n",
       "      <td>1.000000</td>\n",
       "      <td>-1.695443</td>\n",
       "      <td>1.149313</td>\n",
       "      <td>-2.068056</td>\n",
       "    </tr>\n",
       "    <tr>\n",
       "      <td>2019-03-05</td>\n",
       "      <td>1.736742</td>\n",
       "      <td>-0.598615</td>\n",
       "      <td>0.349504</td>\n",
       "      <td>0.582914</td>\n",
       "    </tr>\n",
       "    <tr>\n",
       "      <td>2019-03-04</td>\n",
       "      <td>0.395268</td>\n",
       "      <td>-0.343806</td>\n",
       "      <td>-0.628395</td>\n",
       "      <td>-0.398094</td>\n",
       "    </tr>\n",
       "  </tbody>\n",
       "</table>\n",
       "</div>"
      ],
      "text/plain": [
       "                   A         B         C         D\n",
       "2019-03-06  1.000000 -1.695443  1.149313 -2.068056\n",
       "2019-03-05  1.736742 -0.598615  0.349504  0.582914\n",
       "2019-03-04  0.395268 -0.343806 -0.628395 -0.398094"
      ]
     },
     "execution_count": 196,
     "metadata": {},
     "output_type": "execute_result"
    }
   ],
   "source": [
    "#df3에서 0행에서 2행까지 추출 \n",
    "df3.iloc[0:3] #df.iloc[추출범위]=>행으로 취급! \n",
    "#df3.iloc[0:3,:] 이렇게 생략 된 것. \n",
    "#df3.iloc[:,0:2] #df3.iloc[추출범위 행, 추출범위 열]=>열로 추출 가능! \n",
    "#열은 하나만 쓸 수 없다. "
   ]
  },
  {
   "cell_type": "code",
   "execution_count": 197,
   "metadata": {
    "colab": {
     "base_uri": "https://localhost:8080/"
    },
    "id": "S-5BwZsnuO6S",
    "outputId": "8788cf06-1551-4b66-ebd8-f207d7418903"
   },
   "outputs": [
    {
     "data": {
      "text/plain": [
       "pandas.core.series.Series"
      ]
     },
     "execution_count": 197,
     "metadata": {},
     "output_type": "execute_result"
    }
   ],
   "source": [
    "#df3에서 2019-03-01, A열의 값을 추출 \n",
    "type(df3.loc['2019-03-01','A'])"
   ]
  },
  {
   "cell_type": "code",
   "execution_count": 198,
   "metadata": {
    "colab": {
     "base_uri": "https://localhost:8080/",
     "height": 81
    },
    "id": "ixWq51KKuO3a",
    "outputId": "7b05ba5f-90df-4510-fb73-a99153a95e0f"
   },
   "outputs": [
    {
     "data": {
      "text/html": [
       "<div>\n",
       "<style scoped>\n",
       "    .dataframe tbody tr th:only-of-type {\n",
       "        vertical-align: middle;\n",
       "    }\n",
       "\n",
       "    .dataframe tbody tr th {\n",
       "        vertical-align: top;\n",
       "    }\n",
       "\n",
       "    .dataframe thead th {\n",
       "        text-align: right;\n",
       "    }\n",
       "</style>\n",
       "<table border=\"1\" class=\"dataframe\">\n",
       "  <thead>\n",
       "    <tr style=\"text-align: right;\">\n",
       "      <th></th>\n",
       "      <th>A</th>\n",
       "      <th>B</th>\n",
       "    </tr>\n",
       "  </thead>\n",
       "  <tbody>\n",
       "    <tr>\n",
       "      <td>2019-03-01</td>\n",
       "      <td>-0.232375</td>\n",
       "      <td>0.450098</td>\n",
       "    </tr>\n",
       "  </tbody>\n",
       "</table>\n",
       "</div>"
      ],
      "text/plain": [
       "                   A         B\n",
       "2019-03-01 -0.232375  0.450098"
      ]
     },
     "execution_count": 198,
     "metadata": {},
     "output_type": "execute_result"
    }
   ],
   "source": [
    "#df3에서 2019-03-01, A열 ,B열의 값을 추출 \n",
    "df3.loc['2019-03-01',['A','B']]"
   ]
  },
  {
   "cell_type": "code",
   "execution_count": 199,
   "metadata": {
    "colab": {
     "base_uri": "https://localhost:8080/"
    },
    "id": "QVxaQUltuO07",
    "outputId": "ad03dfaf-11d8-4585-e3eb-e6ba86a886e3"
   },
   "outputs": [
    {
     "data": {
      "text/plain": [
       "2019-03-06    1.000000\n",
       "2019-03-05    1.736742\n",
       "2019-03-04    0.395268\n",
       "2019-03-01   -0.232375\n",
       "2019-03-03    0.022535\n",
       "2019-03-02    0.473501\n",
       "Name: A, dtype: float64"
      ]
     },
     "execution_count": 199,
     "metadata": {},
     "output_type": "execute_result"
    }
   ],
   "source": [
    "#df3에서 A열의 전체 행을 추출 \n",
    "df3.loc[:,'A']"
   ]
  },
  {
   "cell_type": "code",
   "execution_count": 200,
   "metadata": {
    "colab": {
     "base_uri": "https://localhost:8080/",
     "height": 238
    },
    "id": "kvPtTUOkuOx0",
    "outputId": "d447ffce-afe0-414a-ea0a-c1454b3af6b9"
   },
   "outputs": [
    {
     "data": {
      "text/html": [
       "<div>\n",
       "<style scoped>\n",
       "    .dataframe tbody tr th:only-of-type {\n",
       "        vertical-align: middle;\n",
       "    }\n",
       "\n",
       "    .dataframe tbody tr th {\n",
       "        vertical-align: top;\n",
       "    }\n",
       "\n",
       "    .dataframe thead th {\n",
       "        text-align: right;\n",
       "    }\n",
       "</style>\n",
       "<table border=\"1\" class=\"dataframe\">\n",
       "  <thead>\n",
       "    <tr style=\"text-align: right;\">\n",
       "      <th></th>\n",
       "      <th>A</th>\n",
       "      <th>C</th>\n",
       "    </tr>\n",
       "  </thead>\n",
       "  <tbody>\n",
       "    <tr>\n",
       "      <td>2019-03-06</td>\n",
       "      <td>1.000000</td>\n",
       "      <td>1.149313</td>\n",
       "    </tr>\n",
       "    <tr>\n",
       "      <td>2019-03-05</td>\n",
       "      <td>1.736742</td>\n",
       "      <td>0.349504</td>\n",
       "    </tr>\n",
       "    <tr>\n",
       "      <td>2019-03-04</td>\n",
       "      <td>0.395268</td>\n",
       "      <td>-0.628395</td>\n",
       "    </tr>\n",
       "    <tr>\n",
       "      <td>2019-03-01</td>\n",
       "      <td>-0.232375</td>\n",
       "      <td>-0.080049</td>\n",
       "    </tr>\n",
       "    <tr>\n",
       "      <td>2019-03-03</td>\n",
       "      <td>0.022535</td>\n",
       "      <td>0.534216</td>\n",
       "    </tr>\n",
       "    <tr>\n",
       "      <td>2019-03-02</td>\n",
       "      <td>0.473501</td>\n",
       "      <td>-0.844802</td>\n",
       "    </tr>\n",
       "  </tbody>\n",
       "</table>\n",
       "</div>"
      ],
      "text/plain": [
       "                   A         C\n",
       "2019-03-06  1.000000  1.149313\n",
       "2019-03-05  1.736742  0.349504\n",
       "2019-03-04  0.395268 -0.628395\n",
       "2019-03-01 -0.232375 -0.080049\n",
       "2019-03-03  0.022535  0.534216\n",
       "2019-03-02  0.473501 -0.844802"
      ]
     },
     "execution_count": 200,
     "metadata": {},
     "output_type": "execute_result"
    }
   ],
   "source": [
    "#df3에서 A,C열의 전체 행을 추출\n",
    "df3.loc[:,['A','C']]\n",
    "#loc, iloc의 결과가 1행 인경우 ,Series로 리턴 \n",
    "#loc, iloc의 결과가 여러 행이면, DataFrame으로 리턴 "
   ]
  },
  {
   "cell_type": "code",
   "execution_count": 201,
   "metadata": {
    "colab": {
     "base_uri": "https://localhost:8080/"
    },
    "id": "dShcocIly49l",
    "outputId": "05827560-0029-413d-d290-f23275b183e4"
   },
   "outputs": [
    {
     "name": "stdout",
     "output_type": "stream",
     "text": [
      "<class 'pandas.core.series.Series'>\n"
     ]
    },
    {
     "data": {
      "text/plain": [
       "0.3495039017468092"
      ]
     },
     "execution_count": 201,
     "metadata": {},
     "output_type": "execute_result"
    }
   ],
   "source": [
    "#A열을 추출하여 2번째 값을 추출 \n",
    "print(type(df3.loc[:,'A']))\n",
    "df3.loc[:,'A']\n",
    "#df3.loc[:,'A'].to_list() \n",
    "\n",
    "#d53에서 2019-03-01, A열의 값을 추출하여 1번째 값 추출 \n",
    "\n",
    "#결과가 1행인 경우, Series(list처럼 다루면 된다)\n",
    "\n",
    "#A열과 C열을 추출하여 1번째행 1번째 열의 값 추출 \n",
    "#결과가 2행 이상인 경우, DataFrame임 (df로 다루면 된다 )\n",
    "\n",
    "c = df3.loc[:,['A','C']]\n",
    "c.iloc[1,1]\n"
   ]
  },
  {
   "cell_type": "code",
   "execution_count": 202,
   "metadata": {
    "colab": {
     "base_uri": "https://localhost:8080/"
    },
    "id": "13QDiY_QuOui",
    "outputId": "8d4b7bbb-3285-4bb6-e0fa-eadb88c4922b"
   },
   "outputs": [
    {
     "data": {
      "text/plain": [
       "A    1.000000\n",
       "B   -1.695443\n",
       "C    1.149313\n",
       "D   -2.068056\n",
       "Name: 2019-03-06 00:00:00, dtype: float64"
      ]
     },
     "execution_count": 202,
     "metadata": {},
     "output_type": "execute_result"
    }
   ],
   "source": [
    "#df3에서 0번 행렬 추출 \n",
    "df3.iloc[0,:]"
   ]
  },
  {
   "cell_type": "code",
   "execution_count": 203,
   "metadata": {
    "colab": {
     "base_uri": "https://localhost:8080/"
    },
    "id": "qYL0tUOs2E4i",
    "outputId": "1a20fd8d-5f18-47f7-9488-7637219cded6"
   },
   "outputs": [
    {
     "data": {
      "text/plain": [
       "pandas.core.series.Series"
      ]
     },
     "execution_count": 203,
     "metadata": {},
     "output_type": "execute_result"
    }
   ],
   "source": [
    "type(df3.iloc[0,:])"
   ]
  },
  {
   "cell_type": "code",
   "execution_count": 204,
   "metadata": {
    "colab": {
     "base_uri": "https://localhost:8080/"
    },
    "id": "vLPiHLOSuOr3",
    "outputId": "8050fadb-863e-4145-8e7a-cc0be66dca1c"
   },
   "outputs": [
    {
     "data": {
      "text/plain": [
       "(6, 4)"
      ]
     },
     "execution_count": 204,
     "metadata": {},
     "output_type": "execute_result"
    }
   ],
   "source": [
    "#df3의 행렬의 크기를 추출 \n",
    "df3.shape"
   ]
  },
  {
   "cell_type": "code",
   "execution_count": 205,
   "metadata": {
    "colab": {
     "base_uri": "https://localhost:8080/",
     "height": 175
    },
    "id": "eUUN5VK52S5K",
    "outputId": "577b09d6-6b43-4617-a73d-ac31e421b4fc"
   },
   "outputs": [
    {
     "data": {
      "text/html": [
       "<div>\n",
       "<style scoped>\n",
       "    .dataframe tbody tr th:only-of-type {\n",
       "        vertical-align: middle;\n",
       "    }\n",
       "\n",
       "    .dataframe tbody tr th {\n",
       "        vertical-align: top;\n",
       "    }\n",
       "\n",
       "    .dataframe thead th {\n",
       "        text-align: right;\n",
       "    }\n",
       "</style>\n",
       "<table border=\"1\" class=\"dataframe\">\n",
       "  <thead>\n",
       "    <tr style=\"text-align: right;\">\n",
       "      <th></th>\n",
       "      <th>2019-03-06</th>\n",
       "      <th>2019-03-05</th>\n",
       "      <th>2019-03-04</th>\n",
       "      <th>2019-03-01</th>\n",
       "      <th>2019-03-03</th>\n",
       "      <th>2019-03-02</th>\n",
       "    </tr>\n",
       "  </thead>\n",
       "  <tbody>\n",
       "    <tr>\n",
       "      <td>A</td>\n",
       "      <td>1.000000</td>\n",
       "      <td>1.736742</td>\n",
       "      <td>0.395268</td>\n",
       "      <td>-0.232375</td>\n",
       "      <td>0.022535</td>\n",
       "      <td>0.473501</td>\n",
       "    </tr>\n",
       "    <tr>\n",
       "      <td>B</td>\n",
       "      <td>-1.695443</td>\n",
       "      <td>-0.598615</td>\n",
       "      <td>-0.343806</td>\n",
       "      <td>0.450098</td>\n",
       "      <td>0.509934</td>\n",
       "      <td>2.031230</td>\n",
       "    </tr>\n",
       "    <tr>\n",
       "      <td>C</td>\n",
       "      <td>1.149313</td>\n",
       "      <td>0.349504</td>\n",
       "      <td>-0.628395</td>\n",
       "      <td>-0.080049</td>\n",
       "      <td>0.534216</td>\n",
       "      <td>-0.844802</td>\n",
       "    </tr>\n",
       "    <tr>\n",
       "      <td>D</td>\n",
       "      <td>-2.068056</td>\n",
       "      <td>0.582914</td>\n",
       "      <td>-0.398094</td>\n",
       "      <td>0.358225</td>\n",
       "      <td>-1.432281</td>\n",
       "      <td>0.506166</td>\n",
       "    </tr>\n",
       "  </tbody>\n",
       "</table>\n",
       "</div>"
      ],
      "text/plain": [
       "   2019-03-06  2019-03-05  2019-03-04  2019-03-01  2019-03-03  2019-03-02\n",
       "A    1.000000    1.736742    0.395268   -0.232375    0.022535    0.473501\n",
       "B   -1.695443   -0.598615   -0.343806    0.450098    0.509934    2.031230\n",
       "C    1.149313    0.349504   -0.628395   -0.080049    0.534216   -0.844802\n",
       "D   -2.068056    0.582914   -0.398094    0.358225   -1.432281    0.506166"
      ]
     },
     "execution_count": 205,
     "metadata": {},
     "output_type": "execute_result"
    }
   ],
   "source": [
    "df3.T"
   ]
  },
  {
   "cell_type": "code",
   "execution_count": 206,
   "metadata": {
    "colab": {
     "base_uri": "https://localhost:8080/"
    },
    "id": "xMactg9vuOnJ",
    "outputId": "1db3cb75-f856-4aa7-955c-ab7267c9edfc"
   },
   "outputs": [
    {
     "data": {
      "text/plain": [
       "A    0.473501\n",
       "B    2.031230\n",
       "C   -0.844802\n",
       "D    0.506166\n",
       "Name: 2019-03-02 00:00:00, dtype: float64"
      ]
     },
     "execution_count": 206,
     "metadata": {},
     "output_type": "execute_result"
    }
   ],
   "source": [
    "#df3에서 5행 전체 열 추출 \n",
    "df3.iloc[5]"
   ]
  },
  {
   "cell_type": "code",
   "execution_count": 207,
   "metadata": {
    "colab": {
     "base_uri": "https://localhost:8080/",
     "height": 241
    },
    "id": "xLgb54HruOkq",
    "outputId": "f4f36f8f-5bc7-4767-b316-56c0f6ecbf7d"
   },
   "outputs": [
    {
     "name": "stdout",
     "output_type": "stream",
     "text": [
      "                   A         B         C         D\n",
      "2019-03-06  1.000000 -1.695443  1.149313 -2.068056\n",
      "2019-03-05  1.736742 -0.598615  0.349504  0.582914\n",
      "2019-03-04  0.395268 -0.343806 -0.628395 -0.398094\n",
      "2019-03-01 -0.232375  0.450098 -0.080049  0.358225\n",
      "2019-03-03  0.022535  0.509934  0.534216 -1.432281\n",
      "2019-03-02  0.473501  2.031230 -0.844802  0.506166\n"
     ]
    },
    {
     "data": {
      "text/html": [
       "<div>\n",
       "<style scoped>\n",
       "    .dataframe tbody tr th:only-of-type {\n",
       "        vertical-align: middle;\n",
       "    }\n",
       "\n",
       "    .dataframe tbody tr th {\n",
       "        vertical-align: top;\n",
       "    }\n",
       "\n",
       "    .dataframe thead th {\n",
       "        text-align: right;\n",
       "    }\n",
       "</style>\n",
       "<table border=\"1\" class=\"dataframe\">\n",
       "  <thead>\n",
       "    <tr style=\"text-align: right;\">\n",
       "      <th></th>\n",
       "      <th>A</th>\n",
       "      <th>B</th>\n",
       "      <th>C</th>\n",
       "      <th>D</th>\n",
       "    </tr>\n",
       "  </thead>\n",
       "  <tbody>\n",
       "    <tr>\n",
       "      <td>2019-03-03</td>\n",
       "      <td>0.022535</td>\n",
       "      <td>0.509934</td>\n",
       "      <td>0.534216</td>\n",
       "      <td>-1.432281</td>\n",
       "    </tr>\n",
       "    <tr>\n",
       "      <td>2019-03-02</td>\n",
       "      <td>0.473501</td>\n",
       "      <td>2.031230</td>\n",
       "      <td>-0.844802</td>\n",
       "      <td>0.506166</td>\n",
       "    </tr>\n",
       "  </tbody>\n",
       "</table>\n",
       "</div>"
      ],
      "text/plain": [
       "                   A         B         C         D\n",
       "2019-03-03  0.022535  0.509934  0.534216 -1.432281\n",
       "2019-03-02  0.473501  2.031230 -0.844802  0.506166"
      ]
     },
     "execution_count": 207,
     "metadata": {},
     "output_type": "execute_result"
    }
   ],
   "source": [
    "#df3에서 4행부터 추출 \n",
    "print(df3)\n",
    "df3.iloc[4:]"
   ]
  },
  {
   "cell_type": "code",
   "execution_count": 208,
   "metadata": {
    "colab": {
     "base_uri": "https://localhost:8080/",
     "height": 112
    },
    "id": "Ru8OY1KEuOcx",
    "outputId": "d842d90e-3b3b-4263-b746-edb52a82d783"
   },
   "outputs": [
    {
     "data": {
      "text/html": [
       "<div>\n",
       "<style scoped>\n",
       "    .dataframe tbody tr th:only-of-type {\n",
       "        vertical-align: middle;\n",
       "    }\n",
       "\n",
       "    .dataframe tbody tr th {\n",
       "        vertical-align: top;\n",
       "    }\n",
       "\n",
       "    .dataframe thead th {\n",
       "        text-align: right;\n",
       "    }\n",
       "</style>\n",
       "<table border=\"1\" class=\"dataframe\">\n",
       "  <thead>\n",
       "    <tr style=\"text-align: right;\">\n",
       "      <th></th>\n",
       "      <th>B</th>\n",
       "      <th>C</th>\n",
       "    </tr>\n",
       "  </thead>\n",
       "  <tbody>\n",
       "    <tr>\n",
       "      <td>2019-03-06</td>\n",
       "      <td>-1.695443</td>\n",
       "      <td>1.149313</td>\n",
       "    </tr>\n",
       "    <tr>\n",
       "      <td>2019-03-01</td>\n",
       "      <td>0.450098</td>\n",
       "      <td>-0.080049</td>\n",
       "    </tr>\n",
       "  </tbody>\n",
       "</table>\n",
       "</div>"
      ],
      "text/plain": [
       "                   B         C\n",
       "2019-03-06 -1.695443  1.149313\n",
       "2019-03-01  0.450098 -0.080049"
      ]
     },
     "execution_count": 208,
     "metadata": {},
     "output_type": "execute_result"
    }
   ],
   "source": [
    "#df3에서 0,3행, 1부터 2열까지 추출 \n",
    "df3.iloc[[0,3],[1,2]]"
   ]
  },
  {
   "cell_type": "code",
   "execution_count": 209,
   "metadata": {
    "colab": {
     "base_uri": "https://localhost:8080/",
     "height": 143
    },
    "id": "vE_JV5DmuOaZ",
    "outputId": "977ac2ca-ac81-471d-f2ad-6eb439ef4c25"
   },
   "outputs": [
    {
     "data": {
      "text/html": [
       "<div>\n",
       "<style scoped>\n",
       "    .dataframe tbody tr th:only-of-type {\n",
       "        vertical-align: middle;\n",
       "    }\n",
       "\n",
       "    .dataframe tbody tr th {\n",
       "        vertical-align: top;\n",
       "    }\n",
       "\n",
       "    .dataframe thead th {\n",
       "        text-align: right;\n",
       "    }\n",
       "</style>\n",
       "<table border=\"1\" class=\"dataframe\">\n",
       "  <thead>\n",
       "    <tr style=\"text-align: right;\">\n",
       "      <th></th>\n",
       "      <th>B</th>\n",
       "      <th>D</th>\n",
       "    </tr>\n",
       "  </thead>\n",
       "  <tbody>\n",
       "    <tr>\n",
       "      <td>2019-03-05</td>\n",
       "      <td>-0.598615</td>\n",
       "      <td>0.582914</td>\n",
       "    </tr>\n",
       "    <tr>\n",
       "      <td>2019-03-04</td>\n",
       "      <td>-0.343806</td>\n",
       "      <td>-0.398094</td>\n",
       "    </tr>\n",
       "    <tr>\n",
       "      <td>2019-03-02</td>\n",
       "      <td>2.031230</td>\n",
       "      <td>0.506166</td>\n",
       "    </tr>\n",
       "  </tbody>\n",
       "</table>\n",
       "</div>"
      ],
      "text/plain": [
       "                   B         D\n",
       "2019-03-05 -0.598615  0.582914\n",
       "2019-03-04 -0.343806 -0.398094\n",
       "2019-03-02  2.031230  0.506166"
      ]
     },
     "execution_count": 209,
     "metadata": {},
     "output_type": "execute_result"
    }
   ],
   "source": [
    "#df3에서 1,2,5행, 1,3열 추출 \n",
    "df3.iloc[[1,2,5],[1,3]]"
   ]
  },
  {
   "cell_type": "code",
   "execution_count": 210,
   "metadata": {},
   "outputs": [
    {
     "data": {
      "text/html": [
       "<div>\n",
       "<style scoped>\n",
       "    .dataframe tbody tr th:only-of-type {\n",
       "        vertical-align: middle;\n",
       "    }\n",
       "\n",
       "    .dataframe tbody tr th {\n",
       "        vertical-align: top;\n",
       "    }\n",
       "\n",
       "    .dataframe thead th {\n",
       "        text-align: right;\n",
       "    }\n",
       "</style>\n",
       "<table border=\"1\" class=\"dataframe\">\n",
       "  <thead>\n",
       "    <tr style=\"text-align: right;\">\n",
       "      <th></th>\n",
       "      <th>A</th>\n",
       "      <th>B</th>\n",
       "      <th>C</th>\n",
       "      <th>D</th>\n",
       "    </tr>\n",
       "  </thead>\n",
       "  <tbody>\n",
       "    <tr>\n",
       "      <td>2019-03-01</td>\n",
       "      <td>-0.232375</td>\n",
       "      <td>0.450098</td>\n",
       "      <td>-0.080049</td>\n",
       "      <td>0.358225</td>\n",
       "    </tr>\n",
       "    <tr>\n",
       "      <td>2019-03-02</td>\n",
       "      <td>0.473501</td>\n",
       "      <td>2.031230</td>\n",
       "      <td>-0.844802</td>\n",
       "      <td>0.506166</td>\n",
       "    </tr>\n",
       "    <tr>\n",
       "      <td>2019-03-03</td>\n",
       "      <td>0.022535</td>\n",
       "      <td>0.509934</td>\n",
       "      <td>0.534216</td>\n",
       "      <td>-1.432281</td>\n",
       "    </tr>\n",
       "    <tr>\n",
       "      <td>2019-03-04</td>\n",
       "      <td>0.395268</td>\n",
       "      <td>-0.343806</td>\n",
       "      <td>-0.628395</td>\n",
       "      <td>-0.398094</td>\n",
       "    </tr>\n",
       "    <tr>\n",
       "      <td>2019-03-05</td>\n",
       "      <td>1.736742</td>\n",
       "      <td>-0.598615</td>\n",
       "      <td>0.349504</td>\n",
       "      <td>0.582914</td>\n",
       "    </tr>\n",
       "    <tr>\n",
       "      <td>2019-03-06</td>\n",
       "      <td>-0.434374</td>\n",
       "      <td>-1.695443</td>\n",
       "      <td>1.149313</td>\n",
       "      <td>-2.068056</td>\n",
       "    </tr>\n",
       "  </tbody>\n",
       "</table>\n",
       "</div>"
      ],
      "text/plain": [
       "                   A         B         C         D\n",
       "2019-03-01 -0.232375  0.450098 -0.080049  0.358225\n",
       "2019-03-02  0.473501  2.031230 -0.844802  0.506166\n",
       "2019-03-03  0.022535  0.509934  0.534216 -1.432281\n",
       "2019-03-04  0.395268 -0.343806 -0.628395 -0.398094\n",
       "2019-03-05  1.736742 -0.598615  0.349504  0.582914\n",
       "2019-03-06 -0.434374 -1.695443  1.149313 -2.068056"
      ]
     },
     "execution_count": 210,
     "metadata": {},
     "output_type": "execute_result"
    }
   ],
   "source": [
    "#df는 기본적으로 행, 열의 위치값을 가지고 있음 \n",
    "#기본적으로 가지고 있는 위치값을 이용해서 조작하는 경우 \n",
    "#iloc[]를 사용 \n",
    "#일부 그래프나 분석시 특정항목을 index항목으로 수동으로 설정해야 하는 경우가 있음 \n",
    "#특정항목을 index항목으로 설정가능한 경우는 \n",
    "#\"unique/not null한 값을 가지는 항목\"만 \n",
    "#설정 가능 user_id, bbs_id  pk 조건과 일치 \n",
    "df4 = df2.copy()\n",
    "df4\n"
   ]
  },
  {
   "cell_type": "code",
   "execution_count": 211,
   "metadata": {},
   "outputs": [],
   "source": [
    "df4.reset_index(inplace=True)"
   ]
  },
  {
   "cell_type": "code",
   "execution_count": 212,
   "metadata": {},
   "outputs": [],
   "source": [
    "df4.set_index('index', inplace=True)"
   ]
  },
  {
   "cell_type": "code",
   "execution_count": 213,
   "metadata": {},
   "outputs": [
    {
     "data": {
      "text/html": [
       "<div>\n",
       "<style scoped>\n",
       "    .dataframe tbody tr th:only-of-type {\n",
       "        vertical-align: middle;\n",
       "    }\n",
       "\n",
       "    .dataframe tbody tr th {\n",
       "        vertical-align: top;\n",
       "    }\n",
       "\n",
       "    .dataframe thead th {\n",
       "        text-align: right;\n",
       "    }\n",
       "</style>\n",
       "<table border=\"1\" class=\"dataframe\">\n",
       "  <thead>\n",
       "    <tr style=\"text-align: right;\">\n",
       "      <th></th>\n",
       "      <th>A</th>\n",
       "      <th>B</th>\n",
       "      <th>C</th>\n",
       "      <th>D</th>\n",
       "    </tr>\n",
       "    <tr>\n",
       "      <th>index</th>\n",
       "      <th></th>\n",
       "      <th></th>\n",
       "      <th></th>\n",
       "      <th></th>\n",
       "    </tr>\n",
       "  </thead>\n",
       "  <tbody>\n",
       "    <tr>\n",
       "      <td>2019-03-01</td>\n",
       "      <td>-0.232375</td>\n",
       "      <td>0.450098</td>\n",
       "      <td>-0.080049</td>\n",
       "      <td>0.358225</td>\n",
       "    </tr>\n",
       "    <tr>\n",
       "      <td>2019-03-02</td>\n",
       "      <td>0.473501</td>\n",
       "      <td>2.031230</td>\n",
       "      <td>-0.844802</td>\n",
       "      <td>0.506166</td>\n",
       "    </tr>\n",
       "    <tr>\n",
       "      <td>2019-03-03</td>\n",
       "      <td>0.022535</td>\n",
       "      <td>0.509934</td>\n",
       "      <td>0.534216</td>\n",
       "      <td>-1.432281</td>\n",
       "    </tr>\n",
       "    <tr>\n",
       "      <td>2019-03-04</td>\n",
       "      <td>0.395268</td>\n",
       "      <td>-0.343806</td>\n",
       "      <td>-0.628395</td>\n",
       "      <td>-0.398094</td>\n",
       "    </tr>\n",
       "    <tr>\n",
       "      <td>2019-03-05</td>\n",
       "      <td>1.736742</td>\n",
       "      <td>-0.598615</td>\n",
       "      <td>0.349504</td>\n",
       "      <td>0.582914</td>\n",
       "    </tr>\n",
       "    <tr>\n",
       "      <td>2019-03-06</td>\n",
       "      <td>-0.434374</td>\n",
       "      <td>-1.695443</td>\n",
       "      <td>1.149313</td>\n",
       "      <td>-2.068056</td>\n",
       "    </tr>\n",
       "  </tbody>\n",
       "</table>\n",
       "</div>"
      ],
      "text/plain": [
       "                   A         B         C         D\n",
       "index                                             \n",
       "2019-03-01 -0.232375  0.450098 -0.080049  0.358225\n",
       "2019-03-02  0.473501  2.031230 -0.844802  0.506166\n",
       "2019-03-03  0.022535  0.509934  0.534216 -1.432281\n",
       "2019-03-04  0.395268 -0.343806 -0.628395 -0.398094\n",
       "2019-03-05  1.736742 -0.598615  0.349504  0.582914\n",
       "2019-03-06 -0.434374 -1.695443  1.149313 -2.068056"
      ]
     },
     "execution_count": 213,
     "metadata": {},
     "output_type": "execute_result"
    }
   ],
   "source": [
    "df4"
   ]
  },
  {
   "cell_type": "code",
   "execution_count": 214,
   "metadata": {},
   "outputs": [],
   "source": [
    "df4['E']= df4['A']+1 #브로드 캐스팅 "
   ]
  },
  {
   "cell_type": "code",
   "execution_count": 215,
   "metadata": {},
   "outputs": [
    {
     "data": {
      "text/plain": [
       "Index(['A', 'B', 'C', 'D', 'E'], dtype='object')"
      ]
     },
     "execution_count": 215,
     "metadata": {},
     "output_type": "execute_result"
    }
   ],
   "source": [
    "df4.columns"
   ]
  },
  {
   "cell_type": "code",
   "execution_count": 216,
   "metadata": {},
   "outputs": [
    {
     "data": {
      "text/plain": [
       "index\n",
       "2019-03-01    0.767625\n",
       "2019-03-02    1.473501\n",
       "2019-03-03    1.022535\n",
       "2019-03-04    1.395268\n",
       "2019-03-05    2.736742\n",
       "2019-03-06    0.565626\n",
       "Name: E, dtype: float64"
      ]
     },
     "execution_count": 216,
     "metadata": {},
     "output_type": "execute_result"
    }
   ],
   "source": [
    "df4['E']"
   ]
  },
  {
   "cell_type": "code",
   "execution_count": 217,
   "metadata": {},
   "outputs": [],
   "source": [
    "df4['F'] = 0 "
   ]
  },
  {
   "cell_type": "code",
   "execution_count": 218,
   "metadata": {},
   "outputs": [
    {
     "data": {
      "text/plain": [
       "index\n",
       "2019-03-01    0\n",
       "2019-03-02    0\n",
       "2019-03-03    0\n",
       "2019-03-04    0\n",
       "2019-03-05    0\n",
       "2019-03-06    0\n",
       "Name: F, dtype: int64"
      ]
     },
     "execution_count": 218,
     "metadata": {},
     "output_type": "execute_result"
    }
   ],
   "source": [
    "df4['F'] "
   ]
  },
  {
   "cell_type": "code",
   "execution_count": 219,
   "metadata": {},
   "outputs": [
    {
     "data": {
      "text/plain": [
       "index\n",
       "2019-03-01    0\n",
       "2019-03-02    1\n",
       "2019-03-03    2\n",
       "2019-03-04    3\n",
       "2019-03-05    4\n",
       "2019-03-06    5\n",
       "Name: G, dtype: int32"
      ]
     },
     "execution_count": 219,
     "metadata": {},
     "output_type": "execute_result"
    }
   ],
   "source": [
    "df4['G'] = range(0,6)\n",
    "df4['G']"
   ]
  },
  {
   "cell_type": "code",
   "execution_count": 220,
   "metadata": {},
   "outputs": [],
   "source": [
    "df4.reset_index(inplace=True) #reset_index는 일반 컬럼으로 가버림. \n",
    "#f4.set_index('G',inplace=True)"
   ]
  },
  {
   "cell_type": "code",
   "execution_count": 221,
   "metadata": {},
   "outputs": [],
   "source": [
    "#인덱스를 변경하고 싶은 경우, 기존의 인덱스를 살리고 싶으면 \n",
    "#먼저 reset_index()하고 나서 해야함. \n",
    "#reset을 안하는 경우 기존 index는 사라진다. \n",
    "df4.set_index('G',inplace=True)"
   ]
  },
  {
   "cell_type": "code",
   "execution_count": 223,
   "metadata": {},
   "outputs": [
    {
     "data": {
      "text/html": [
       "<div>\n",
       "<style scoped>\n",
       "    .dataframe tbody tr th:only-of-type {\n",
       "        vertical-align: middle;\n",
       "    }\n",
       "\n",
       "    .dataframe tbody tr th {\n",
       "        vertical-align: top;\n",
       "    }\n",
       "\n",
       "    .dataframe thead th {\n",
       "        text-align: right;\n",
       "    }\n",
       "</style>\n",
       "<table border=\"1\" class=\"dataframe\">\n",
       "  <thead>\n",
       "    <tr style=\"text-align: right;\">\n",
       "      <th></th>\n",
       "      <th>index</th>\n",
       "      <th>A</th>\n",
       "      <th>B</th>\n",
       "      <th>C</th>\n",
       "      <th>D</th>\n",
       "      <th>E</th>\n",
       "      <th>F</th>\n",
       "    </tr>\n",
       "    <tr>\n",
       "      <th>G</th>\n",
       "      <th></th>\n",
       "      <th></th>\n",
       "      <th></th>\n",
       "      <th></th>\n",
       "      <th></th>\n",
       "      <th></th>\n",
       "      <th></th>\n",
       "    </tr>\n",
       "  </thead>\n",
       "  <tbody>\n",
       "    <tr>\n",
       "      <td>0</td>\n",
       "      <td>2019-03-01</td>\n",
       "      <td>-0.232375</td>\n",
       "      <td>0.450098</td>\n",
       "      <td>-0.080049</td>\n",
       "      <td>0.358225</td>\n",
       "      <td>0.767625</td>\n",
       "      <td>0</td>\n",
       "    </tr>\n",
       "    <tr>\n",
       "      <td>1</td>\n",
       "      <td>2019-03-02</td>\n",
       "      <td>0.473501</td>\n",
       "      <td>2.031230</td>\n",
       "      <td>-0.844802</td>\n",
       "      <td>0.506166</td>\n",
       "      <td>1.473501</td>\n",
       "      <td>0</td>\n",
       "    </tr>\n",
       "    <tr>\n",
       "      <td>2</td>\n",
       "      <td>2019-03-03</td>\n",
       "      <td>0.022535</td>\n",
       "      <td>0.509934</td>\n",
       "      <td>0.534216</td>\n",
       "      <td>-1.432281</td>\n",
       "      <td>1.022535</td>\n",
       "      <td>0</td>\n",
       "    </tr>\n",
       "    <tr>\n",
       "      <td>3</td>\n",
       "      <td>2019-03-04</td>\n",
       "      <td>0.395268</td>\n",
       "      <td>-0.343806</td>\n",
       "      <td>-0.628395</td>\n",
       "      <td>-0.398094</td>\n",
       "      <td>1.395268</td>\n",
       "      <td>0</td>\n",
       "    </tr>\n",
       "    <tr>\n",
       "      <td>4</td>\n",
       "      <td>2019-03-05</td>\n",
       "      <td>1.736742</td>\n",
       "      <td>-0.598615</td>\n",
       "      <td>0.349504</td>\n",
       "      <td>0.582914</td>\n",
       "      <td>2.736742</td>\n",
       "      <td>0</td>\n",
       "    </tr>\n",
       "    <tr>\n",
       "      <td>5</td>\n",
       "      <td>2019-03-06</td>\n",
       "      <td>-0.434374</td>\n",
       "      <td>-1.695443</td>\n",
       "      <td>1.149313</td>\n",
       "      <td>-2.068056</td>\n",
       "      <td>0.565626</td>\n",
       "      <td>0</td>\n",
       "    </tr>\n",
       "  </tbody>\n",
       "</table>\n",
       "</div>"
      ],
      "text/plain": [
       "       index         A         B         C         D         E  F\n",
       "G                                                                \n",
       "0 2019-03-01 -0.232375  0.450098 -0.080049  0.358225  0.767625  0\n",
       "1 2019-03-02  0.473501  2.031230 -0.844802  0.506166  1.473501  0\n",
       "2 2019-03-03  0.022535  0.509934  0.534216 -1.432281  1.022535  0\n",
       "3 2019-03-04  0.395268 -0.343806 -0.628395 -0.398094  1.395268  0\n",
       "4 2019-03-05  1.736742 -0.598615  0.349504  0.582914  2.736742  0\n",
       "5 2019-03-06 -0.434374 -1.695443  1.149313 -2.068056  0.565626  0"
      ]
     },
     "execution_count": 223,
     "metadata": {},
     "output_type": "execute_result"
    }
   ],
   "source": [
    "df4"
   ]
  },
  {
   "cell_type": "code",
   "execution_count": 224,
   "metadata": {},
   "outputs": [
    {
     "data": {
      "text/plain": [
       "Index(['index', 'A', 'B', 'C', 'D', 'E', 'F'], dtype='object')"
      ]
     },
     "execution_count": 224,
     "metadata": {},
     "output_type": "execute_result"
    }
   ],
   "source": [
    "df4.columns #G는 인덱스로 잡혀 있어서 눈에 안보이는 것. "
   ]
  },
  {
   "cell_type": "code",
   "execution_count": 226,
   "metadata": {},
   "outputs": [
    {
     "data": {
      "text/html": [
       "<div>\n",
       "<style scoped>\n",
       "    .dataframe tbody tr th:only-of-type {\n",
       "        vertical-align: middle;\n",
       "    }\n",
       "\n",
       "    .dataframe tbody tr th {\n",
       "        vertical-align: top;\n",
       "    }\n",
       "\n",
       "    .dataframe thead th {\n",
       "        text-align: right;\n",
       "    }\n",
       "</style>\n",
       "<table border=\"1\" class=\"dataframe\">\n",
       "  <thead>\n",
       "    <tr style=\"text-align: right;\">\n",
       "      <th></th>\n",
       "      <th>A</th>\n",
       "      <th>B</th>\n",
       "      <th>C</th>\n",
       "      <th>D</th>\n",
       "    </tr>\n",
       "  </thead>\n",
       "  <tbody>\n",
       "    <tr>\n",
       "      <td>0</td>\n",
       "      <td>-2.897259</td>\n",
       "      <td>-1.073626</td>\n",
       "      <td>-0.078208</td>\n",
       "      <td>-0.612798</td>\n",
       "    </tr>\n",
       "    <tr>\n",
       "      <td>1</td>\n",
       "      <td>-0.180808</td>\n",
       "      <td>-0.041345</td>\n",
       "      <td>1.967930</td>\n",
       "      <td>1.052217</td>\n",
       "    </tr>\n",
       "    <tr>\n",
       "      <td>2</td>\n",
       "      <td>0.653966</td>\n",
       "      <td>2.009792</td>\n",
       "      <td>0.590649</td>\n",
       "      <td>-0.945848</td>\n",
       "    </tr>\n",
       "    <tr>\n",
       "      <td>3</td>\n",
       "      <td>0.658682</td>\n",
       "      <td>-0.571509</td>\n",
       "      <td>-0.039555</td>\n",
       "      <td>0.225020</td>\n",
       "    </tr>\n",
       "    <tr>\n",
       "      <td>4</td>\n",
       "      <td>1.291013</td>\n",
       "      <td>1.117327</td>\n",
       "      <td>0.059455</td>\n",
       "      <td>1.017059</td>\n",
       "    </tr>\n",
       "    <tr>\n",
       "      <td>5</td>\n",
       "      <td>-1.834897</td>\n",
       "      <td>2.043658</td>\n",
       "      <td>-0.567503</td>\n",
       "      <td>-1.569837</td>\n",
       "    </tr>\n",
       "  </tbody>\n",
       "</table>\n",
       "</div>"
      ],
      "text/plain": [
       "          A         B         C         D\n",
       "0 -2.897259 -1.073626 -0.078208 -0.612798\n",
       "1 -0.180808 -0.041345  1.967930  1.052217\n",
       "2  0.653966  2.009792  0.590649 -0.945848\n",
       "3  0.658682 -0.571509 -0.039555  0.225020\n",
       "4  1.291013  1.117327  0.059455  1.017059\n",
       "5 -1.834897  2.043658 -0.567503 -1.569837"
      ]
     },
     "execution_count": 226,
     "metadata": {},
     "output_type": "execute_result"
    }
   ],
   "source": [
    "df3 = df.copy()\n",
    "df3"
   ]
  },
  {
   "cell_type": "code",
   "execution_count": 231,
   "metadata": {},
   "outputs": [],
   "source": [
    "import random"
   ]
  },
  {
   "cell_type": "code",
   "execution_count": 232,
   "metadata": {},
   "outputs": [],
   "source": [
    "#E항목을 파생 변수로 만드세요. 1~10 범위 값 \n",
    "#F항목을 파생 변수로 만드세요. A열과 C열의 합 \n",
    "#h항목을 파생변수로 만드세요. 1로 설정\n",
    "#Z항목을 파생변수로 만드세요. 1~9까지 랜덤한 값 "
   ]
  },
  {
   "cell_type": "code",
   "execution_count": 233,
   "metadata": {},
   "outputs": [
    {
     "data": {
      "text/plain": [
       "0    4\n",
       "1    4\n",
       "2    4\n",
       "3    4\n",
       "4    4\n",
       "5    4\n",
       "Name: E, dtype: int64"
      ]
     },
     "execution_count": 233,
     "metadata": {},
     "output_type": "execute_result"
    }
   ],
   "source": [
    "df3['E'] = random.randint(1,10)\n",
    "df3['E']"
   ]
  },
  {
   "cell_type": "code",
   "execution_count": 235,
   "metadata": {},
   "outputs": [
    {
     "data": {
      "text/html": [
       "<div>\n",
       "<style scoped>\n",
       "    .dataframe tbody tr th:only-of-type {\n",
       "        vertical-align: middle;\n",
       "    }\n",
       "\n",
       "    .dataframe tbody tr th {\n",
       "        vertical-align: top;\n",
       "    }\n",
       "\n",
       "    .dataframe thead th {\n",
       "        text-align: right;\n",
       "    }\n",
       "</style>\n",
       "<table border=\"1\" class=\"dataframe\">\n",
       "  <thead>\n",
       "    <tr style=\"text-align: right;\">\n",
       "      <th></th>\n",
       "      <th>A</th>\n",
       "      <th>B</th>\n",
       "      <th>C</th>\n",
       "      <th>D</th>\n",
       "      <th>E</th>\n",
       "      <th>F</th>\n",
       "    </tr>\n",
       "  </thead>\n",
       "  <tbody>\n",
       "    <tr>\n",
       "      <td>0</td>\n",
       "      <td>-2.897259</td>\n",
       "      <td>-1.073626</td>\n",
       "      <td>-0.078208</td>\n",
       "      <td>-0.612798</td>\n",
       "      <td>4</td>\n",
       "      <td>-2.975466</td>\n",
       "    </tr>\n",
       "    <tr>\n",
       "      <td>1</td>\n",
       "      <td>-0.180808</td>\n",
       "      <td>-0.041345</td>\n",
       "      <td>1.967930</td>\n",
       "      <td>1.052217</td>\n",
       "      <td>4</td>\n",
       "      <td>1.787121</td>\n",
       "    </tr>\n",
       "    <tr>\n",
       "      <td>2</td>\n",
       "      <td>0.653966</td>\n",
       "      <td>2.009792</td>\n",
       "      <td>0.590649</td>\n",
       "      <td>-0.945848</td>\n",
       "      <td>4</td>\n",
       "      <td>1.244614</td>\n",
       "    </tr>\n",
       "    <tr>\n",
       "      <td>3</td>\n",
       "      <td>0.658682</td>\n",
       "      <td>-0.571509</td>\n",
       "      <td>-0.039555</td>\n",
       "      <td>0.225020</td>\n",
       "      <td>4</td>\n",
       "      <td>0.619127</td>\n",
       "    </tr>\n",
       "    <tr>\n",
       "      <td>4</td>\n",
       "      <td>1.291013</td>\n",
       "      <td>1.117327</td>\n",
       "      <td>0.059455</td>\n",
       "      <td>1.017059</td>\n",
       "      <td>4</td>\n",
       "      <td>1.350467</td>\n",
       "    </tr>\n",
       "    <tr>\n",
       "      <td>5</td>\n",
       "      <td>-1.834897</td>\n",
       "      <td>2.043658</td>\n",
       "      <td>-0.567503</td>\n",
       "      <td>-1.569837</td>\n",
       "      <td>4</td>\n",
       "      <td>-2.402399</td>\n",
       "    </tr>\n",
       "  </tbody>\n",
       "</table>\n",
       "</div>"
      ],
      "text/plain": [
       "          A         B         C         D  E         F\n",
       "0 -2.897259 -1.073626 -0.078208 -0.612798  4 -2.975466\n",
       "1 -0.180808 -0.041345  1.967930  1.052217  4  1.787121\n",
       "2  0.653966  2.009792  0.590649 -0.945848  4  1.244614\n",
       "3  0.658682 -0.571509 -0.039555  0.225020  4  0.619127\n",
       "4  1.291013  1.117327  0.059455  1.017059  4  1.350467\n",
       "5 -1.834897  2.043658 -0.567503 -1.569837  4 -2.402399"
      ]
     },
     "execution_count": 235,
     "metadata": {},
     "output_type": "execute_result"
    }
   ],
   "source": [
    "df3['F'] = df3['A']+ df3['C']\n",
    "df3"
   ]
  },
  {
   "cell_type": "code",
   "execution_count": 236,
   "metadata": {},
   "outputs": [],
   "source": [
    "df3['H'] = 1"
   ]
  },
  {
   "cell_type": "code",
   "execution_count": 238,
   "metadata": {},
   "outputs": [
    {
     "ename": "AttributeError",
     "evalue": "module 'random' has no attribute 'randin'",
     "output_type": "error",
     "traceback": [
      "\u001b[1;31m---------------------------------------------------------------------------\u001b[0m",
      "\u001b[1;31mAttributeError\u001b[0m                            Traceback (most recent call last)",
      "\u001b[1;32m<ipython-input-238-9a77be205de5>\u001b[0m in \u001b[0;36m<module>\u001b[1;34m\u001b[0m\n\u001b[1;32m----> 1\u001b[1;33m \u001b[0mdf3\u001b[0m\u001b[1;33m[\u001b[0m\u001b[1;34m'Z'\u001b[0m\u001b[1;33m]\u001b[0m \u001b[1;33m=\u001b[0m \u001b[1;33m[\u001b[0m\u001b[0mrandom\u001b[0m\u001b[1;33m.\u001b[0m\u001b[0mrandin\u001b[0m\u001b[1;33m(\u001b[0m\u001b[1;36m1\u001b[0m\u001b[1;33m,\u001b[0m\u001b[1;36m10\u001b[0m\u001b[1;33m)\u001b[0m \u001b[1;32mfor\u001b[0m \u001b[0m_\u001b[0m \u001b[1;32min\u001b[0m \u001b[0mrange\u001b[0m\u001b[1;33m(\u001b[0m\u001b[1;36m6\u001b[0m\u001b[1;33m)\u001b[0m\u001b[1;33m]\u001b[0m\u001b[1;33m\u001b[0m\u001b[1;33m\u001b[0m\u001b[0m\n\u001b[0m",
      "\u001b[1;32m<ipython-input-238-9a77be205de5>\u001b[0m in \u001b[0;36m<listcomp>\u001b[1;34m(.0)\u001b[0m\n\u001b[1;32m----> 1\u001b[1;33m \u001b[0mdf3\u001b[0m\u001b[1;33m[\u001b[0m\u001b[1;34m'Z'\u001b[0m\u001b[1;33m]\u001b[0m \u001b[1;33m=\u001b[0m \u001b[1;33m[\u001b[0m\u001b[0mrandom\u001b[0m\u001b[1;33m.\u001b[0m\u001b[0mrandin\u001b[0m\u001b[1;33m(\u001b[0m\u001b[1;36m1\u001b[0m\u001b[1;33m,\u001b[0m\u001b[1;36m10\u001b[0m\u001b[1;33m)\u001b[0m \u001b[1;32mfor\u001b[0m \u001b[0m_\u001b[0m \u001b[1;32min\u001b[0m \u001b[0mrange\u001b[0m\u001b[1;33m(\u001b[0m\u001b[1;36m6\u001b[0m\u001b[1;33m)\u001b[0m\u001b[1;33m]\u001b[0m\u001b[1;33m\u001b[0m\u001b[1;33m\u001b[0m\u001b[0m\n\u001b[0m",
      "\u001b[1;31mAttributeError\u001b[0m: module 'random' has no attribute 'randin'"
     ]
    }
   ],
   "source": [
    "df3['Z'] = [random.randin(1,10) for _ in range(6)]"
   ]
  },
  {
   "cell_type": "code",
   "execution_count": null,
   "metadata": {},
   "outputs": [],
   "source": []
  }
 ],
 "metadata": {
  "colab": {
   "authorship_tag": "ABX9TyMqsSTzJ+tI80pQibV1uauk",
   "collapsed_sections": [],
   "include_colab_link": true,
   "name": "colab-test-1.ipynb",
   "provenance": []
  },
  "kernelspec": {
   "display_name": "Python 3",
   "language": "python",
   "name": "python3"
  },
  "language_info": {
   "codemirror_mode": {
    "name": "ipython",
    "version": 3
   },
   "file_extension": ".py",
   "mimetype": "text/x-python",
   "name": "python",
   "nbconvert_exporter": "python",
   "pygments_lexer": "ipython3",
   "version": "3.7.4"
  }
 },
 "nbformat": 4,
 "nbformat_minor": 1
}
