{
 "cells": [
  {
   "cell_type": "markdown",
   "metadata": {
    "colab_type": "text",
    "id": "view-in-github"
   },
   "source": [
    "<a href=\"https://colab.research.google.com/github/Shin-Sangseok/Google_colab_practice/blob/main/colab_test_1.ipynb\" target=\"_parent\"><img src=\"https://colab.research.google.com/assets/colab-badge.svg\" alt=\"Open In Colab\"/></a>"
   ]
  },
  {
   "cell_type": "code",
   "execution_count": 232,
   "metadata": {
    "colab": {
     "base_uri": "https://localhost:8080/"
    },
    "id": "fDWwyuYWUWoC",
    "outputId": "4236ba52-0979-4a4c-edca-c659097dfcdc"
   },
   "outputs": [
    {
     "name": "stdout",
     "output_type": "stream",
     "text": [
      "test\n"
     ]
    }
   ],
   "source": [
    "print('test')"
   ]
  },
  {
   "cell_type": "code",
   "execution_count": 233,
   "metadata": {
    "id": "pU4tfyU-UfUj"
   },
   "outputs": [],
   "source": [
    "import pandas as pd"
   ]
  },
  {
   "cell_type": "code",
   "execution_count": 234,
   "metadata": {
    "id": "W2mbkXBiX2Jf"
   },
   "outputs": [],
   "source": [
    "import numpy as np  "
   ]
  },
  {
   "cell_type": "code",
   "execution_count": 235,
   "metadata": {
    "colab": {
     "base_uri": "https://localhost:8080/",
     "height": 300
    },
    "id": "EakQ9848X4QH",
    "outputId": "00a67d5a-91a3-43a9-9112-b88af5a9efa2"
   },
   "outputs": [
    {
     "data": {
      "text/html": [
       "<div>\n",
       "<style scoped>\n",
       "    .dataframe tbody tr th:only-of-type {\n",
       "        vertical-align: middle;\n",
       "    }\n",
       "\n",
       "    .dataframe tbody tr th {\n",
       "        vertical-align: top;\n",
       "    }\n",
       "\n",
       "    .dataframe thead th {\n",
       "        text-align: right;\n",
       "    }\n",
       "</style>\n",
       "<table border=\"1\" class=\"dataframe\">\n",
       "  <thead>\n",
       "    <tr style=\"text-align: right;\">\n",
       "      <th></th>\n",
       "      <th>Name</th>\n",
       "      <th>Born</th>\n",
       "      <th>Died</th>\n",
       "      <th>Age</th>\n",
       "      <th>Occupation</th>\n",
       "    </tr>\n",
       "  </thead>\n",
       "  <tbody>\n",
       "    <tr>\n",
       "      <td>0</td>\n",
       "      <td>Rosaline Franklin</td>\n",
       "      <td>1920-07-25</td>\n",
       "      <td>1958-04-16</td>\n",
       "      <td>37</td>\n",
       "      <td>Chemist</td>\n",
       "    </tr>\n",
       "    <tr>\n",
       "      <td>1</td>\n",
       "      <td>William Gosset</td>\n",
       "      <td>1876-06-13</td>\n",
       "      <td>1937-10-16</td>\n",
       "      <td>61</td>\n",
       "      <td>Statistician</td>\n",
       "    </tr>\n",
       "    <tr>\n",
       "      <td>2</td>\n",
       "      <td>Florence Nightingale</td>\n",
       "      <td>1820-05-12</td>\n",
       "      <td>1910-08-13</td>\n",
       "      <td>90</td>\n",
       "      <td>Nurse</td>\n",
       "    </tr>\n",
       "    <tr>\n",
       "      <td>3</td>\n",
       "      <td>Marie Curie</td>\n",
       "      <td>1867-11-07</td>\n",
       "      <td>1934-07-04</td>\n",
       "      <td>66</td>\n",
       "      <td>Chemist</td>\n",
       "    </tr>\n",
       "    <tr>\n",
       "      <td>4</td>\n",
       "      <td>Rachel Carson</td>\n",
       "      <td>1907-05-27</td>\n",
       "      <td>1964-04-14</td>\n",
       "      <td>56</td>\n",
       "      <td>Biologist</td>\n",
       "    </tr>\n",
       "    <tr>\n",
       "      <td>5</td>\n",
       "      <td>John Snow</td>\n",
       "      <td>1813-03-15</td>\n",
       "      <td>1858-06-16</td>\n",
       "      <td>45</td>\n",
       "      <td>Physician</td>\n",
       "    </tr>\n",
       "    <tr>\n",
       "      <td>6</td>\n",
       "      <td>Alan Turing</td>\n",
       "      <td>1912-06-23</td>\n",
       "      <td>1954-06-07</td>\n",
       "      <td>41</td>\n",
       "      <td>Computer Scientist</td>\n",
       "    </tr>\n",
       "    <tr>\n",
       "      <td>7</td>\n",
       "      <td>Johann Gauss</td>\n",
       "      <td>1777-04-30</td>\n",
       "      <td>1855-02-23</td>\n",
       "      <td>77</td>\n",
       "      <td>Mathematician</td>\n",
       "    </tr>\n",
       "  </tbody>\n",
       "</table>\n",
       "</div>"
      ],
      "text/plain": [
       "                   Name        Born        Died  Age          Occupation\n",
       "0     Rosaline Franklin  1920-07-25  1958-04-16   37             Chemist\n",
       "1        William Gosset  1876-06-13  1937-10-16   61        Statistician\n",
       "2  Florence Nightingale  1820-05-12  1910-08-13   90               Nurse\n",
       "3           Marie Curie  1867-11-07  1934-07-04   66             Chemist\n",
       "4         Rachel Carson  1907-05-27  1964-04-14   56           Biologist\n",
       "5             John Snow  1813-03-15  1858-06-16   45           Physician\n",
       "6           Alan Turing  1912-06-23  1954-06-07   41  Computer Scientist\n",
       "7          Johann Gauss  1777-04-30  1855-02-23   77       Mathematician"
      ]
     },
     "execution_count": 235,
     "metadata": {},
     "output_type": "execute_result"
    }
   ],
   "source": [
    "df = pd.read_csv(r'C:\\Users\\hi\\colab\\scientists.csv')\n",
    "df"
   ]
  },
  {
   "cell_type": "code",
   "execution_count": 236,
   "metadata": {
    "id": "zSDtSsicYCE3"
   },
   "outputs": [],
   "source": [
    "#google drive에서 파일을 읽어오는 경우 "
   ]
  },
  {
   "cell_type": "code",
   "execution_count": 237,
   "metadata": {
    "id": "c5qhvrE_ZrKQ"
   },
   "outputs": [],
   "source": [
    "#from google.colab import drive\n",
    "#colab이 설치되어있는 리눅스에 구글 드라이브를 연결해야함 \n",
    "#연결 == mount(마운트)"
   ]
  },
  {
   "cell_type": "code",
   "execution_count": 238,
   "metadata": {
    "colab": {
     "base_uri": "https://localhost:8080/"
    },
    "id": "TvxJk41baGZm",
    "outputId": "d95b5bec-603b-4f9c-8a87-e0f862be204b"
   },
   "outputs": [],
   "source": [
    "#drive.mount('/content/drive')"
   ]
  },
  {
   "cell_type": "code",
   "execution_count": 239,
   "metadata": {
    "colab": {
     "base_uri": "https://localhost:8080/",
     "height": 300
    },
    "id": "iozSZS-raJkO",
    "outputId": "5011c995-cdd2-430b-c6a3-a5b808bf1d36"
   },
   "outputs": [
    {
     "data": {
      "text/html": [
       "<div>\n",
       "<style scoped>\n",
       "    .dataframe tbody tr th:only-of-type {\n",
       "        vertical-align: middle;\n",
       "    }\n",
       "\n",
       "    .dataframe tbody tr th {\n",
       "        vertical-align: top;\n",
       "    }\n",
       "\n",
       "    .dataframe thead th {\n",
       "        text-align: right;\n",
       "    }\n",
       "</style>\n",
       "<table border=\"1\" class=\"dataframe\">\n",
       "  <thead>\n",
       "    <tr style=\"text-align: right;\">\n",
       "      <th></th>\n",
       "      <th>Name</th>\n",
       "      <th>Born</th>\n",
       "      <th>Died</th>\n",
       "      <th>Age</th>\n",
       "      <th>Occupation</th>\n",
       "    </tr>\n",
       "  </thead>\n",
       "  <tbody>\n",
       "    <tr>\n",
       "      <td>0</td>\n",
       "      <td>Rosaline Franklin</td>\n",
       "      <td>1920-07-25</td>\n",
       "      <td>1958-04-16</td>\n",
       "      <td>37</td>\n",
       "      <td>Chemist</td>\n",
       "    </tr>\n",
       "    <tr>\n",
       "      <td>1</td>\n",
       "      <td>William Gosset</td>\n",
       "      <td>1876-06-13</td>\n",
       "      <td>1937-10-16</td>\n",
       "      <td>61</td>\n",
       "      <td>Statistician</td>\n",
       "    </tr>\n",
       "    <tr>\n",
       "      <td>2</td>\n",
       "      <td>Florence Nightingale</td>\n",
       "      <td>1820-05-12</td>\n",
       "      <td>1910-08-13</td>\n",
       "      <td>90</td>\n",
       "      <td>Nurse</td>\n",
       "    </tr>\n",
       "    <tr>\n",
       "      <td>3</td>\n",
       "      <td>Marie Curie</td>\n",
       "      <td>1867-11-07</td>\n",
       "      <td>1934-07-04</td>\n",
       "      <td>66</td>\n",
       "      <td>Chemist</td>\n",
       "    </tr>\n",
       "    <tr>\n",
       "      <td>4</td>\n",
       "      <td>Rachel Carson</td>\n",
       "      <td>1907-05-27</td>\n",
       "      <td>1964-04-14</td>\n",
       "      <td>56</td>\n",
       "      <td>Biologist</td>\n",
       "    </tr>\n",
       "    <tr>\n",
       "      <td>5</td>\n",
       "      <td>John Snow</td>\n",
       "      <td>1813-03-15</td>\n",
       "      <td>1858-06-16</td>\n",
       "      <td>45</td>\n",
       "      <td>Physician</td>\n",
       "    </tr>\n",
       "    <tr>\n",
       "      <td>6</td>\n",
       "      <td>Alan Turing</td>\n",
       "      <td>1912-06-23</td>\n",
       "      <td>1954-06-07</td>\n",
       "      <td>41</td>\n",
       "      <td>Computer Scientist</td>\n",
       "    </tr>\n",
       "    <tr>\n",
       "      <td>7</td>\n",
       "      <td>Johann Gauss</td>\n",
       "      <td>1777-04-30</td>\n",
       "      <td>1855-02-23</td>\n",
       "      <td>77</td>\n",
       "      <td>Mathematician</td>\n",
       "    </tr>\n",
       "  </tbody>\n",
       "</table>\n",
       "</div>"
      ],
      "text/plain": [
       "                   Name        Born        Died  Age          Occupation\n",
       "0     Rosaline Franklin  1920-07-25  1958-04-16   37             Chemist\n",
       "1        William Gosset  1876-06-13  1937-10-16   61        Statistician\n",
       "2  Florence Nightingale  1820-05-12  1910-08-13   90               Nurse\n",
       "3           Marie Curie  1867-11-07  1934-07-04   66             Chemist\n",
       "4         Rachel Carson  1907-05-27  1964-04-14   56           Biologist\n",
       "5             John Snow  1813-03-15  1858-06-16   45           Physician\n",
       "6           Alan Turing  1912-06-23  1954-06-07   41  Computer Scientist\n",
       "7          Johann Gauss  1777-04-30  1855-02-23   77       Mathematician"
      ]
     },
     "execution_count": 239,
     "metadata": {},
     "output_type": "execute_result"
    }
   ],
   "source": [
    "df2= pd.read_csv(r'C:\\Users\\hi\\colab\\scientists.csv')\n",
    "df2"
   ]
  },
  {
   "cell_type": "code",
   "execution_count": 240,
   "metadata": {
    "colab": {
     "base_uri": "https://localhost:8080/"
    },
    "id": "1EQNUerpjqDl",
    "outputId": "ff833f39-f901-47ed-d0b2-8da3692709cc"
   },
   "outputs": [
    {
     "data": {
      "text/plain": [
       "DatetimeIndex(['2019-03-01', '2019-03-02', '2019-03-03', '2019-03-04',\n",
       "               '2019-03-05', '2019-03-06'],\n",
       "              dtype='datetime64[ns]', freq='D')"
      ]
     },
     "execution_count": 240,
     "metadata": {},
     "output_type": "execute_result"
    }
   ],
   "source": [
    "dates = pd.date_range('20190301', periods=6)\n",
    "dates"
   ]
  },
  {
   "cell_type": "code",
   "execution_count": 241,
   "metadata": {
    "colab": {
     "base_uri": "https://localhost:8080/"
    },
    "id": "fq3XopDdipO-",
    "outputId": "535ad3ea-2550-401b-d3a8-4bf54974a867"
   },
   "outputs": [
    {
     "data": {
      "text/plain": [
       "array([[ 2.04930371,  0.99966317,  1.24029209, -2.25954644],\n",
       "       [-0.60199894,  0.09668744,  0.47532549,  1.62910082],\n",
       "       [-0.08327634,  1.62364747,  1.54094926, -1.20305279],\n",
       "       [-1.07124323, -0.05041741, -0.03900653,  1.15580125],\n",
       "       [-1.64602274, -0.02525168, -0.30556734, -0.3652558 ],\n",
       "       [ 0.46908893,  0.47335607,  0.31180426, -0.28745694]])"
      ]
     },
     "execution_count": 241,
     "metadata": {},
     "output_type": "execute_result"
    }
   ],
   "source": [
    "np.random.randn(6,4)"
   ]
  },
  {
   "cell_type": "code",
   "execution_count": 242,
   "metadata": {
    "colab": {
     "base_uri": "https://localhost:8080/",
     "height": 238
    },
    "id": "fHrbp_6HbPbW",
    "outputId": "53e1d7e0-ce66-48bb-922e-a79dcbec58f9"
   },
   "outputs": [
    {
     "data": {
      "text/html": [
       "<div>\n",
       "<style scoped>\n",
       "    .dataframe tbody tr th:only-of-type {\n",
       "        vertical-align: middle;\n",
       "    }\n",
       "\n",
       "    .dataframe tbody tr th {\n",
       "        vertical-align: top;\n",
       "    }\n",
       "\n",
       "    .dataframe thead th {\n",
       "        text-align: right;\n",
       "    }\n",
       "</style>\n",
       "<table border=\"1\" class=\"dataframe\">\n",
       "  <thead>\n",
       "    <tr style=\"text-align: right;\">\n",
       "      <th></th>\n",
       "      <th>A</th>\n",
       "      <th>B</th>\n",
       "      <th>C</th>\n",
       "      <th>D</th>\n",
       "    </tr>\n",
       "  </thead>\n",
       "  <tbody>\n",
       "    <tr>\n",
       "      <td>0</td>\n",
       "      <td>-1.839726</td>\n",
       "      <td>1.233634</td>\n",
       "      <td>-0.973424</td>\n",
       "      <td>1.330855</td>\n",
       "    </tr>\n",
       "    <tr>\n",
       "      <td>1</td>\n",
       "      <td>0.540718</td>\n",
       "      <td>0.315070</td>\n",
       "      <td>-0.501314</td>\n",
       "      <td>1.681270</td>\n",
       "    </tr>\n",
       "    <tr>\n",
       "      <td>2</td>\n",
       "      <td>2.532386</td>\n",
       "      <td>0.363397</td>\n",
       "      <td>-1.141631</td>\n",
       "      <td>-1.316243</td>\n",
       "    </tr>\n",
       "    <tr>\n",
       "      <td>3</td>\n",
       "      <td>0.368285</td>\n",
       "      <td>-0.012047</td>\n",
       "      <td>-1.408730</td>\n",
       "      <td>0.699741</td>\n",
       "    </tr>\n",
       "    <tr>\n",
       "      <td>4</td>\n",
       "      <td>-1.151877</td>\n",
       "      <td>-1.851306</td>\n",
       "      <td>0.061594</td>\n",
       "      <td>-0.265624</td>\n",
       "    </tr>\n",
       "    <tr>\n",
       "      <td>5</td>\n",
       "      <td>1.360421</td>\n",
       "      <td>-0.948421</td>\n",
       "      <td>0.314555</td>\n",
       "      <td>0.654767</td>\n",
       "    </tr>\n",
       "  </tbody>\n",
       "</table>\n",
       "</div>"
      ],
      "text/plain": [
       "          A         B         C         D\n",
       "0 -1.839726  1.233634 -0.973424  1.330855\n",
       "1  0.540718  0.315070 -0.501314  1.681270\n",
       "2  2.532386  0.363397 -1.141631 -1.316243\n",
       "3  0.368285 -0.012047 -1.408730  0.699741\n",
       "4 -1.151877 -1.851306  0.061594 -0.265624\n",
       "5  1.360421 -0.948421  0.314555  0.654767"
      ]
     },
     "execution_count": 242,
     "metadata": {},
     "output_type": "execute_result"
    }
   ],
   "source": [
    "df = pd.DataFrame(np.random.randn(6,4), columns=['A','B','C','D'])\n",
    "#df = df.DataFrame(ndarray(values), columns = ['컬럼명', '컬럼명'...])\n",
    "df"
   ]
  },
  {
   "cell_type": "code",
   "execution_count": 243,
   "metadata": {
    "colab": {
     "base_uri": "https://localhost:8080/",
     "height": 238
    },
    "id": "2Dtgq8-0iq0d",
    "outputId": "6fcf9d6b-5b9d-4407-a6a1-32b1d2c42eb4"
   },
   "outputs": [
    {
     "data": {
      "text/html": [
       "<div>\n",
       "<style scoped>\n",
       "    .dataframe tbody tr th:only-of-type {\n",
       "        vertical-align: middle;\n",
       "    }\n",
       "\n",
       "    .dataframe tbody tr th {\n",
       "        vertical-align: top;\n",
       "    }\n",
       "\n",
       "    .dataframe thead th {\n",
       "        text-align: right;\n",
       "    }\n",
       "</style>\n",
       "<table border=\"1\" class=\"dataframe\">\n",
       "  <thead>\n",
       "    <tr style=\"text-align: right;\">\n",
       "      <th></th>\n",
       "      <th>A</th>\n",
       "      <th>B</th>\n",
       "      <th>C</th>\n",
       "      <th>D</th>\n",
       "    </tr>\n",
       "  </thead>\n",
       "  <tbody>\n",
       "    <tr>\n",
       "      <td>2019-03-01</td>\n",
       "      <td>-0.037514</td>\n",
       "      <td>-0.146376</td>\n",
       "      <td>-1.304768</td>\n",
       "      <td>1.581764</td>\n",
       "    </tr>\n",
       "    <tr>\n",
       "      <td>2019-03-02</td>\n",
       "      <td>0.023241</td>\n",
       "      <td>-0.407085</td>\n",
       "      <td>2.064289</td>\n",
       "      <td>1.569232</td>\n",
       "    </tr>\n",
       "    <tr>\n",
       "      <td>2019-03-03</td>\n",
       "      <td>1.784725</td>\n",
       "      <td>0.503879</td>\n",
       "      <td>-2.152391</td>\n",
       "      <td>1.307705</td>\n",
       "    </tr>\n",
       "    <tr>\n",
       "      <td>2019-03-04</td>\n",
       "      <td>0.109863</td>\n",
       "      <td>0.315347</td>\n",
       "      <td>-1.312471</td>\n",
       "      <td>-0.834105</td>\n",
       "    </tr>\n",
       "    <tr>\n",
       "      <td>2019-03-05</td>\n",
       "      <td>-0.801658</td>\n",
       "      <td>-0.243724</td>\n",
       "      <td>0.467764</td>\n",
       "      <td>-0.800580</td>\n",
       "    </tr>\n",
       "    <tr>\n",
       "      <td>2019-03-06</td>\n",
       "      <td>0.323654</td>\n",
       "      <td>-0.716547</td>\n",
       "      <td>0.284720</td>\n",
       "      <td>-0.005566</td>\n",
       "    </tr>\n",
       "  </tbody>\n",
       "</table>\n",
       "</div>"
      ],
      "text/plain": [
       "                   A         B         C         D\n",
       "2019-03-01 -0.037514 -0.146376 -1.304768  1.581764\n",
       "2019-03-02  0.023241 -0.407085  2.064289  1.569232\n",
       "2019-03-03  1.784725  0.503879 -2.152391  1.307705\n",
       "2019-03-04  0.109863  0.315347 -1.312471 -0.834105\n",
       "2019-03-05 -0.801658 -0.243724  0.467764 -0.800580\n",
       "2019-03-06  0.323654 -0.716547  0.284720 -0.005566"
      ]
     },
     "execution_count": 243,
     "metadata": {},
     "output_type": "execute_result"
    }
   ],
   "source": [
    "df2 = pd.DataFrame(np.random.randn(6,4),index = dates, columns=['A','B','C','D'])\n",
    "df2"
   ]
  },
  {
   "cell_type": "code",
   "execution_count": 244,
   "metadata": {
    "colab": {
     "base_uri": "https://localhost:8080/"
    },
    "id": "fhtnGNPZjmZE",
    "outputId": "8e860f7c-34af-4791-8b5f-e2b252b5bf9e"
   },
   "outputs": [
    {
     "data": {
      "text/plain": [
       "pandas.core.frame.DataFrame"
      ]
     },
     "execution_count": 244,
     "metadata": {},
     "output_type": "execute_result"
    }
   ],
   "source": [
    "type(df2)"
   ]
  },
  {
   "cell_type": "code",
   "execution_count": 245,
   "metadata": {
    "colab": {
     "base_uri": "https://localhost:8080/"
    },
    "id": "6q5NjpUxkLqc",
    "outputId": "4612167b-6290-4449-b231-46815313e521"
   },
   "outputs": [
    {
     "data": {
      "text/plain": [
       "DatetimeIndex(['2019-03-01', '2019-03-02', '2019-03-03', '2019-03-04',\n",
       "               '2019-03-05', '2019-03-06'],\n",
       "              dtype='datetime64[ns]', freq='D')"
      ]
     },
     "execution_count": 245,
     "metadata": {},
     "output_type": "execute_result"
    }
   ],
   "source": [
    "df2.index"
   ]
  },
  {
   "cell_type": "code",
   "execution_count": 246,
   "metadata": {
    "colab": {
     "base_uri": "https://localhost:8080/"
    },
    "id": "8Q662CMVkW_k",
    "outputId": "386b9705-6530-44d1-b1b9-3687fabf4d21"
   },
   "outputs": [
    {
     "data": {
      "text/plain": [
       "DatetimeIndex(['2019-03-01', '2019-03-02', '2019-03-03', '2019-03-04',\n",
       "               '2019-03-05', '2019-03-06'],\n",
       "              dtype='datetime64[ns]', freq='D')"
      ]
     },
     "execution_count": 246,
     "metadata": {},
     "output_type": "execute_result"
    }
   ],
   "source": [
    "in1 = df2.index\n",
    "in1 "
   ]
  },
  {
   "cell_type": "code",
   "execution_count": 247,
   "metadata": {
    "colab": {
     "base_uri": "https://localhost:8080/"
    },
    "id": "eqF4WUHUkZr0",
    "outputId": "6757aebd-fae3-4bb6-d1f6-cd37033d8953"
   },
   "outputs": [
    {
     "data": {
      "text/plain": [
       "Timestamp('2019-03-01 00:00:00', freq='D')"
      ]
     },
     "execution_count": 247,
     "metadata": {},
     "output_type": "execute_result"
    }
   ],
   "source": [
    "in1[0]"
   ]
  },
  {
   "cell_type": "code",
   "execution_count": 248,
   "metadata": {
    "colab": {
     "base_uri": "https://localhost:8080/"
    },
    "id": "nwECSUbpkbzU",
    "outputId": "109353e2-0ea6-4aad-c17d-7a9e75a06598"
   },
   "outputs": [
    {
     "data": {
      "text/plain": [
       "RangeIndex(start=0, stop=6, step=1)"
      ]
     },
     "execution_count": 248,
     "metadata": {},
     "output_type": "execute_result"
    }
   ],
   "source": [
    "df.index"
   ]
  },
  {
   "cell_type": "code",
   "execution_count": 249,
   "metadata": {
    "colab": {
     "base_uri": "https://localhost:8080/"
    },
    "id": "drMD1Z13kiAV",
    "outputId": "56ecb1c6-1305-473a-97c9-f66fcdfca85b"
   },
   "outputs": [
    {
     "data": {
      "text/plain": [
       "RangeIndex(start=0, stop=6, step=1)"
      ]
     },
     "execution_count": 249,
     "metadata": {},
     "output_type": "execute_result"
    }
   ],
   "source": [
    "in2 = df.index\n",
    "in2"
   ]
  },
  {
   "cell_type": "code",
   "execution_count": 250,
   "metadata": {
    "colab": {
     "base_uri": "https://localhost:8080/"
    },
    "id": "juvNOexDknwz",
    "outputId": "4590b399-4cb5-45e8-a80b-42697451a9fd"
   },
   "outputs": [
    {
     "data": {
      "text/plain": [
       "2"
      ]
     },
     "execution_count": 250,
     "metadata": {},
     "output_type": "execute_result"
    }
   ],
   "source": [
    "in2[2] \n",
    "#리스트를 가지고 만든 여러가지 객체들은 리스트처럼 똑같이 다루어도 크게 문제가 발생하지 않는다. "
   ]
  },
  {
   "cell_type": "code",
   "execution_count": 251,
   "metadata": {
    "colab": {
     "base_uri": "https://localhost:8080/"
    },
    "id": "5k_mDFRikoXb",
    "outputId": "358f76ed-e709-43a0-a9bd-38bc0cdfea4d"
   },
   "outputs": [
    {
     "data": {
      "text/plain": [
       "Timestamp('2019-03-01 00:00:00', freq='D')"
      ]
     },
     "execution_count": 251,
     "metadata": {},
     "output_type": "execute_result"
    }
   ],
   "source": [
    "ts1 = in1[0]\n",
    "ts1 "
   ]
  },
  {
   "cell_type": "code",
   "execution_count": 252,
   "metadata": {
    "colab": {
     "base_uri": "https://localhost:8080/",
     "height": 35
    },
    "id": "Hr4PLGgqlLR0",
    "outputId": "9839e7d2-d056-44b1-d38d-e0a25a30e1c6"
   },
   "outputs": [
    {
     "data": {
      "text/plain": [
       "'2019-03-01 00:00:00'"
      ]
     },
     "execution_count": 252,
     "metadata": {},
     "output_type": "execute_result"
    }
   ],
   "source": [
    "str(ts1)"
   ]
  },
  {
   "cell_type": "code",
   "execution_count": 253,
   "metadata": {
    "colab": {
     "base_uri": "https://localhost:8080/"
    },
    "id": "o0-XUQJtlOSs",
    "outputId": "a1387abe-2863-41dd-c43c-aa45e59ef5dd"
   },
   "outputs": [
    {
     "data": {
      "text/plain": [
       "0   -1.839726\n",
       "1    0.540718\n",
       "2    2.532386\n",
       "3    0.368285\n",
       "4   -1.151877\n",
       "5    1.360421\n",
       "Name: A, dtype: float64"
      ]
     },
     "execution_count": 253,
     "metadata": {},
     "output_type": "execute_result"
    }
   ],
   "source": [
    "df['A']"
   ]
  },
  {
   "cell_type": "code",
   "execution_count": 254,
   "metadata": {
    "colab": {
     "base_uri": "https://localhost:8080/"
    },
    "id": "OzEYvXXXla3L",
    "outputId": "b41ad23a-a364-4ada-eaf1-676b74401348"
   },
   "outputs": [
    {
     "data": {
      "text/plain": [
       "pandas.core.series.Series"
      ]
     },
     "execution_count": 254,
     "metadata": {},
     "output_type": "execute_result"
    }
   ],
   "source": [
    "type(df['A'])"
   ]
  },
  {
   "cell_type": "code",
   "execution_count": 255,
   "metadata": {
    "colab": {
     "base_uri": "https://localhost:8080/"
    },
    "id": "F1l8jOTzluKu",
    "outputId": "8a3ae27f-af4d-4307-9b65-52b006524317"
   },
   "outputs": [
    {
     "data": {
      "text/plain": [
       "0   -1.839726\n",
       "1    0.540718\n",
       "2    2.532386\n",
       "3    0.368285\n",
       "4   -1.151877\n",
       "5    1.360421\n",
       "Name: A, dtype: float64"
      ]
     },
     "execution_count": 255,
     "metadata": {},
     "output_type": "execute_result"
    }
   ],
   "source": [
    "a = df['A']\n",
    "a"
   ]
  },
  {
   "cell_type": "code",
   "execution_count": 256,
   "metadata": {
    "colab": {
     "base_uri": "https://localhost:8080/"
    },
    "id": "ZfD7CRXtleNU",
    "outputId": "d87174e9-b78d-4d23-cb4b-b48be51bc9dd"
   },
   "outputs": [
    {
     "data": {
      "text/plain": [
       "-1.8397255141092104"
      ]
     },
     "execution_count": 256,
     "metadata": {},
     "output_type": "execute_result"
    }
   ],
   "source": [
    "a[0]"
   ]
  },
  {
   "cell_type": "code",
   "execution_count": 257,
   "metadata": {
    "colab": {
     "base_uri": "https://localhost:8080/"
    },
    "id": "CLW2lMX_l4Nv",
    "outputId": "53b9589e-afa7-4923-93f0-08f26f79b4ec"
   },
   "outputs": [
    {
     "data": {
      "text/plain": [
       "0.5407182673902287"
      ]
     },
     "execution_count": 257,
     "metadata": {},
     "output_type": "execute_result"
    }
   ],
   "source": [
    "a[1]"
   ]
  },
  {
   "cell_type": "code",
   "execution_count": 258,
   "metadata": {
    "colab": {
     "base_uri": "https://localhost:8080/"
    },
    "id": "QwCt_9rfls_s",
    "outputId": "15f49f57-1106-4daf-fa2f-8093a6051264"
   },
   "outputs": [
    {
     "data": {
      "text/plain": [
       "array([[-0.03751441, -0.14637579, -1.30476786,  1.58176361],\n",
       "       [ 0.02324138, -0.4070845 ,  2.06428936,  1.56923237],\n",
       "       [ 1.78472519,  0.50387919, -2.15239074,  1.30770482],\n",
       "       [ 0.10986311,  0.31534709, -1.31247134, -0.83410507],\n",
       "       [-0.80165838, -0.2437241 ,  0.46776417, -0.80057956],\n",
       "       [ 0.32365416, -0.71654709,  0.28471999, -0.00556645]])"
      ]
     },
     "execution_count": 258,
     "metadata": {},
     "output_type": "execute_result"
    }
   ],
   "source": [
    "df2.values"
   ]
  },
  {
   "cell_type": "code",
   "execution_count": 259,
   "metadata": {
    "colab": {
     "base_uri": "https://localhost:8080/",
     "height": 300
    },
    "id": "ICkScYIRmAMt",
    "outputId": "0407ba44-9364-45ca-d2ec-fb1216f4bfb6"
   },
   "outputs": [
    {
     "data": {
      "text/html": [
       "<div>\n",
       "<style scoped>\n",
       "    .dataframe tbody tr th:only-of-type {\n",
       "        vertical-align: middle;\n",
       "    }\n",
       "\n",
       "    .dataframe tbody tr th {\n",
       "        vertical-align: top;\n",
       "    }\n",
       "\n",
       "    .dataframe thead th {\n",
       "        text-align: right;\n",
       "    }\n",
       "</style>\n",
       "<table border=\"1\" class=\"dataframe\">\n",
       "  <thead>\n",
       "    <tr style=\"text-align: right;\">\n",
       "      <th></th>\n",
       "      <th>A</th>\n",
       "      <th>B</th>\n",
       "      <th>C</th>\n",
       "      <th>D</th>\n",
       "    </tr>\n",
       "  </thead>\n",
       "  <tbody>\n",
       "    <tr>\n",
       "      <td>count</td>\n",
       "      <td>6.000000</td>\n",
       "      <td>6.000000</td>\n",
       "      <td>6.000000</td>\n",
       "      <td>6.000000</td>\n",
       "    </tr>\n",
       "    <tr>\n",
       "      <td>mean</td>\n",
       "      <td>0.233719</td>\n",
       "      <td>-0.115751</td>\n",
       "      <td>-0.325476</td>\n",
       "      <td>0.469742</td>\n",
       "    </tr>\n",
       "    <tr>\n",
       "      <td>std</td>\n",
       "      <td>0.850755</td>\n",
       "      <td>0.454518</td>\n",
       "      <td>1.548117</td>\n",
       "      <td>1.156486</td>\n",
       "    </tr>\n",
       "    <tr>\n",
       "      <td>min</td>\n",
       "      <td>-0.801658</td>\n",
       "      <td>-0.716547</td>\n",
       "      <td>-2.152391</td>\n",
       "      <td>-0.834105</td>\n",
       "    </tr>\n",
       "    <tr>\n",
       "      <td>25%</td>\n",
       "      <td>-0.022325</td>\n",
       "      <td>-0.366244</td>\n",
       "      <td>-1.310545</td>\n",
       "      <td>-0.601826</td>\n",
       "    </tr>\n",
       "    <tr>\n",
       "      <td>50%</td>\n",
       "      <td>0.066552</td>\n",
       "      <td>-0.195050</td>\n",
       "      <td>-0.510024</td>\n",
       "      <td>0.651069</td>\n",
       "    </tr>\n",
       "    <tr>\n",
       "      <td>75%</td>\n",
       "      <td>0.270206</td>\n",
       "      <td>0.199916</td>\n",
       "      <td>0.422003</td>\n",
       "      <td>1.503850</td>\n",
       "    </tr>\n",
       "    <tr>\n",
       "      <td>max</td>\n",
       "      <td>1.784725</td>\n",
       "      <td>0.503879</td>\n",
       "      <td>2.064289</td>\n",
       "      <td>1.581764</td>\n",
       "    </tr>\n",
       "  </tbody>\n",
       "</table>\n",
       "</div>"
      ],
      "text/plain": [
       "              A         B         C         D\n",
       "count  6.000000  6.000000  6.000000  6.000000\n",
       "mean   0.233719 -0.115751 -0.325476  0.469742\n",
       "std    0.850755  0.454518  1.548117  1.156486\n",
       "min   -0.801658 -0.716547 -2.152391 -0.834105\n",
       "25%   -0.022325 -0.366244 -1.310545 -0.601826\n",
       "50%    0.066552 -0.195050 -0.510024  0.651069\n",
       "75%    0.270206  0.199916  0.422003  1.503850\n",
       "max    1.784725  0.503879  2.064289  1.581764"
      ]
     },
     "execution_count": 259,
     "metadata": {},
     "output_type": "execute_result"
    }
   ],
   "source": [
    "df2.describe()"
   ]
  },
  {
   "cell_type": "code",
   "execution_count": 260,
   "metadata": {
    "colab": {
     "base_uri": "https://localhost:8080/",
     "height": 238
    },
    "id": "u-94Ra96mEcj",
    "outputId": "0933121c-9d41-4d23-8b7b-536baaeef849"
   },
   "outputs": [
    {
     "data": {
      "text/html": [
       "<div>\n",
       "<style scoped>\n",
       "    .dataframe tbody tr th:only-of-type {\n",
       "        vertical-align: middle;\n",
       "    }\n",
       "\n",
       "    .dataframe tbody tr th {\n",
       "        vertical-align: top;\n",
       "    }\n",
       "\n",
       "    .dataframe thead th {\n",
       "        text-align: right;\n",
       "    }\n",
       "</style>\n",
       "<table border=\"1\" class=\"dataframe\">\n",
       "  <thead>\n",
       "    <tr style=\"text-align: right;\">\n",
       "      <th></th>\n",
       "      <th>A</th>\n",
       "      <th>B</th>\n",
       "      <th>C</th>\n",
       "      <th>D</th>\n",
       "    </tr>\n",
       "  </thead>\n",
       "  <tbody>\n",
       "    <tr>\n",
       "      <td>2019-03-01</td>\n",
       "      <td>-0.037514</td>\n",
       "      <td>-0.146376</td>\n",
       "      <td>-1.304768</td>\n",
       "      <td>1.581764</td>\n",
       "    </tr>\n",
       "    <tr>\n",
       "      <td>2019-03-02</td>\n",
       "      <td>0.023241</td>\n",
       "      <td>-0.407085</td>\n",
       "      <td>2.064289</td>\n",
       "      <td>1.569232</td>\n",
       "    </tr>\n",
       "    <tr>\n",
       "      <td>2019-03-03</td>\n",
       "      <td>1.784725</td>\n",
       "      <td>0.503879</td>\n",
       "      <td>-2.152391</td>\n",
       "      <td>1.307705</td>\n",
       "    </tr>\n",
       "    <tr>\n",
       "      <td>2019-03-04</td>\n",
       "      <td>0.109863</td>\n",
       "      <td>0.315347</td>\n",
       "      <td>-1.312471</td>\n",
       "      <td>-0.834105</td>\n",
       "    </tr>\n",
       "    <tr>\n",
       "      <td>2019-03-05</td>\n",
       "      <td>-0.801658</td>\n",
       "      <td>-0.243724</td>\n",
       "      <td>0.467764</td>\n",
       "      <td>-0.800580</td>\n",
       "    </tr>\n",
       "    <tr>\n",
       "      <td>2019-03-06</td>\n",
       "      <td>0.323654</td>\n",
       "      <td>-0.716547</td>\n",
       "      <td>0.284720</td>\n",
       "      <td>-0.005566</td>\n",
       "    </tr>\n",
       "  </tbody>\n",
       "</table>\n",
       "</div>"
      ],
      "text/plain": [
       "                   A         B         C         D\n",
       "2019-03-01 -0.037514 -0.146376 -1.304768  1.581764\n",
       "2019-03-02  0.023241 -0.407085  2.064289  1.569232\n",
       "2019-03-03  1.784725  0.503879 -2.152391  1.307705\n",
       "2019-03-04  0.109863  0.315347 -1.312471 -0.834105\n",
       "2019-03-05 -0.801658 -0.243724  0.467764 -0.800580\n",
       "2019-03-06  0.323654 -0.716547  0.284720 -0.005566"
      ]
     },
     "execution_count": 260,
     "metadata": {},
     "output_type": "execute_result"
    }
   ],
   "source": [
    "df2.sort_index()"
   ]
  },
  {
   "cell_type": "code",
   "execution_count": 261,
   "metadata": {
    "colab": {
     "base_uri": "https://localhost:8080/",
     "height": 238
    },
    "id": "Zj82Gw4pmR4s",
    "outputId": "be49dd8a-a682-48a2-8773-ea2a17d15be1"
   },
   "outputs": [
    {
     "data": {
      "text/html": [
       "<div>\n",
       "<style scoped>\n",
       "    .dataframe tbody tr th:only-of-type {\n",
       "        vertical-align: middle;\n",
       "    }\n",
       "\n",
       "    .dataframe tbody tr th {\n",
       "        vertical-align: top;\n",
       "    }\n",
       "\n",
       "    .dataframe thead th {\n",
       "        text-align: right;\n",
       "    }\n",
       "</style>\n",
       "<table border=\"1\" class=\"dataframe\">\n",
       "  <thead>\n",
       "    <tr style=\"text-align: right;\">\n",
       "      <th></th>\n",
       "      <th>A</th>\n",
       "      <th>B</th>\n",
       "      <th>C</th>\n",
       "      <th>D</th>\n",
       "    </tr>\n",
       "  </thead>\n",
       "  <tbody>\n",
       "    <tr>\n",
       "      <td>2019-03-06</td>\n",
       "      <td>0.323654</td>\n",
       "      <td>-0.716547</td>\n",
       "      <td>0.284720</td>\n",
       "      <td>-0.005566</td>\n",
       "    </tr>\n",
       "    <tr>\n",
       "      <td>2019-03-05</td>\n",
       "      <td>-0.801658</td>\n",
       "      <td>-0.243724</td>\n",
       "      <td>0.467764</td>\n",
       "      <td>-0.800580</td>\n",
       "    </tr>\n",
       "    <tr>\n",
       "      <td>2019-03-04</td>\n",
       "      <td>0.109863</td>\n",
       "      <td>0.315347</td>\n",
       "      <td>-1.312471</td>\n",
       "      <td>-0.834105</td>\n",
       "    </tr>\n",
       "    <tr>\n",
       "      <td>2019-03-03</td>\n",
       "      <td>1.784725</td>\n",
       "      <td>0.503879</td>\n",
       "      <td>-2.152391</td>\n",
       "      <td>1.307705</td>\n",
       "    </tr>\n",
       "    <tr>\n",
       "      <td>2019-03-02</td>\n",
       "      <td>0.023241</td>\n",
       "      <td>-0.407085</td>\n",
       "      <td>2.064289</td>\n",
       "      <td>1.569232</td>\n",
       "    </tr>\n",
       "    <tr>\n",
       "      <td>2019-03-01</td>\n",
       "      <td>-0.037514</td>\n",
       "      <td>-0.146376</td>\n",
       "      <td>-1.304768</td>\n",
       "      <td>1.581764</td>\n",
       "    </tr>\n",
       "  </tbody>\n",
       "</table>\n",
       "</div>"
      ],
      "text/plain": [
       "                   A         B         C         D\n",
       "2019-03-06  0.323654 -0.716547  0.284720 -0.005566\n",
       "2019-03-05 -0.801658 -0.243724  0.467764 -0.800580\n",
       "2019-03-04  0.109863  0.315347 -1.312471 -0.834105\n",
       "2019-03-03  1.784725  0.503879 -2.152391  1.307705\n",
       "2019-03-02  0.023241 -0.407085  2.064289  1.569232\n",
       "2019-03-01 -0.037514 -0.146376 -1.304768  1.581764"
      ]
     },
     "execution_count": 261,
     "metadata": {},
     "output_type": "execute_result"
    }
   ],
   "source": [
    "df2.sort_index(ascending=False)"
   ]
  },
  {
   "cell_type": "code",
   "execution_count": 262,
   "metadata": {
    "colab": {
     "base_uri": "https://localhost:8080/",
     "height": 238
    },
    "id": "jBsWEuHimaGU",
    "outputId": "28466278-1ab8-4933-f971-bee43a3f9792"
   },
   "outputs": [
    {
     "data": {
      "text/html": [
       "<div>\n",
       "<style scoped>\n",
       "    .dataframe tbody tr th:only-of-type {\n",
       "        vertical-align: middle;\n",
       "    }\n",
       "\n",
       "    .dataframe tbody tr th {\n",
       "        vertical-align: top;\n",
       "    }\n",
       "\n",
       "    .dataframe thead th {\n",
       "        text-align: right;\n",
       "    }\n",
       "</style>\n",
       "<table border=\"1\" class=\"dataframe\">\n",
       "  <thead>\n",
       "    <tr style=\"text-align: right;\">\n",
       "      <th></th>\n",
       "      <th>A</th>\n",
       "      <th>B</th>\n",
       "      <th>C</th>\n",
       "      <th>D</th>\n",
       "    </tr>\n",
       "  </thead>\n",
       "  <tbody>\n",
       "    <tr>\n",
       "      <td>2019-03-05</td>\n",
       "      <td>-0.801658</td>\n",
       "      <td>-0.243724</td>\n",
       "      <td>0.467764</td>\n",
       "      <td>-0.800580</td>\n",
       "    </tr>\n",
       "    <tr>\n",
       "      <td>2019-03-01</td>\n",
       "      <td>-0.037514</td>\n",
       "      <td>-0.146376</td>\n",
       "      <td>-1.304768</td>\n",
       "      <td>1.581764</td>\n",
       "    </tr>\n",
       "    <tr>\n",
       "      <td>2019-03-02</td>\n",
       "      <td>0.023241</td>\n",
       "      <td>-0.407085</td>\n",
       "      <td>2.064289</td>\n",
       "      <td>1.569232</td>\n",
       "    </tr>\n",
       "    <tr>\n",
       "      <td>2019-03-04</td>\n",
       "      <td>0.109863</td>\n",
       "      <td>0.315347</td>\n",
       "      <td>-1.312471</td>\n",
       "      <td>-0.834105</td>\n",
       "    </tr>\n",
       "    <tr>\n",
       "      <td>2019-03-06</td>\n",
       "      <td>0.323654</td>\n",
       "      <td>-0.716547</td>\n",
       "      <td>0.284720</td>\n",
       "      <td>-0.005566</td>\n",
       "    </tr>\n",
       "    <tr>\n",
       "      <td>2019-03-03</td>\n",
       "      <td>1.784725</td>\n",
       "      <td>0.503879</td>\n",
       "      <td>-2.152391</td>\n",
       "      <td>1.307705</td>\n",
       "    </tr>\n",
       "  </tbody>\n",
       "</table>\n",
       "</div>"
      ],
      "text/plain": [
       "                   A         B         C         D\n",
       "2019-03-05 -0.801658 -0.243724  0.467764 -0.800580\n",
       "2019-03-01 -0.037514 -0.146376 -1.304768  1.581764\n",
       "2019-03-02  0.023241 -0.407085  2.064289  1.569232\n",
       "2019-03-04  0.109863  0.315347 -1.312471 -0.834105\n",
       "2019-03-06  0.323654 -0.716547  0.284720 -0.005566\n",
       "2019-03-03  1.784725  0.503879 -2.152391  1.307705"
      ]
     },
     "execution_count": 262,
     "metadata": {},
     "output_type": "execute_result"
    }
   ],
   "source": [
    "df2.sort_values(by='A')"
   ]
  },
  {
   "cell_type": "code",
   "execution_count": 263,
   "metadata": {
    "colab": {
     "base_uri": "https://localhost:8080/",
     "height": 238
    },
    "id": "1Go6zp1nmqYL",
    "outputId": "5dd090de-1937-4ae7-c3b5-957022662f48"
   },
   "outputs": [
    {
     "data": {
      "text/html": [
       "<div>\n",
       "<style scoped>\n",
       "    .dataframe tbody tr th:only-of-type {\n",
       "        vertical-align: middle;\n",
       "    }\n",
       "\n",
       "    .dataframe tbody tr th {\n",
       "        vertical-align: top;\n",
       "    }\n",
       "\n",
       "    .dataframe thead th {\n",
       "        text-align: right;\n",
       "    }\n",
       "</style>\n",
       "<table border=\"1\" class=\"dataframe\">\n",
       "  <thead>\n",
       "    <tr style=\"text-align: right;\">\n",
       "      <th></th>\n",
       "      <th>A</th>\n",
       "      <th>B</th>\n",
       "      <th>C</th>\n",
       "      <th>D</th>\n",
       "    </tr>\n",
       "  </thead>\n",
       "  <tbody>\n",
       "    <tr>\n",
       "      <td>2019-03-03</td>\n",
       "      <td>1.784725</td>\n",
       "      <td>0.503879</td>\n",
       "      <td>-2.152391</td>\n",
       "      <td>1.307705</td>\n",
       "    </tr>\n",
       "    <tr>\n",
       "      <td>2019-03-06</td>\n",
       "      <td>0.323654</td>\n",
       "      <td>-0.716547</td>\n",
       "      <td>0.284720</td>\n",
       "      <td>-0.005566</td>\n",
       "    </tr>\n",
       "    <tr>\n",
       "      <td>2019-03-04</td>\n",
       "      <td>0.109863</td>\n",
       "      <td>0.315347</td>\n",
       "      <td>-1.312471</td>\n",
       "      <td>-0.834105</td>\n",
       "    </tr>\n",
       "    <tr>\n",
       "      <td>2019-03-02</td>\n",
       "      <td>0.023241</td>\n",
       "      <td>-0.407085</td>\n",
       "      <td>2.064289</td>\n",
       "      <td>1.569232</td>\n",
       "    </tr>\n",
       "    <tr>\n",
       "      <td>2019-03-01</td>\n",
       "      <td>-0.037514</td>\n",
       "      <td>-0.146376</td>\n",
       "      <td>-1.304768</td>\n",
       "      <td>1.581764</td>\n",
       "    </tr>\n",
       "    <tr>\n",
       "      <td>2019-03-05</td>\n",
       "      <td>-0.801658</td>\n",
       "      <td>-0.243724</td>\n",
       "      <td>0.467764</td>\n",
       "      <td>-0.800580</td>\n",
       "    </tr>\n",
       "  </tbody>\n",
       "</table>\n",
       "</div>"
      ],
      "text/plain": [
       "                   A         B         C         D\n",
       "2019-03-03  1.784725  0.503879 -2.152391  1.307705\n",
       "2019-03-06  0.323654 -0.716547  0.284720 -0.005566\n",
       "2019-03-04  0.109863  0.315347 -1.312471 -0.834105\n",
       "2019-03-02  0.023241 -0.407085  2.064289  1.569232\n",
       "2019-03-01 -0.037514 -0.146376 -1.304768  1.581764\n",
       "2019-03-05 -0.801658 -0.243724  0.467764 -0.800580"
      ]
     },
     "execution_count": 263,
     "metadata": {},
     "output_type": "execute_result"
    }
   ],
   "source": [
    "df2.sort_values(by='A', ascending=False)"
   ]
  },
  {
   "cell_type": "code",
   "execution_count": 264,
   "metadata": {
    "colab": {
     "base_uri": "https://localhost:8080/",
     "height": 238
    },
    "id": "2PaakHA3mxVr",
    "outputId": "724da99b-9992-4f77-8e08-14da7953e762"
   },
   "outputs": [
    {
     "data": {
      "text/html": [
       "<div>\n",
       "<style scoped>\n",
       "    .dataframe tbody tr th:only-of-type {\n",
       "        vertical-align: middle;\n",
       "    }\n",
       "\n",
       "    .dataframe tbody tr th {\n",
       "        vertical-align: top;\n",
       "    }\n",
       "\n",
       "    .dataframe thead th {\n",
       "        text-align: right;\n",
       "    }\n",
       "</style>\n",
       "<table border=\"1\" class=\"dataframe\">\n",
       "  <thead>\n",
       "    <tr style=\"text-align: right;\">\n",
       "      <th></th>\n",
       "      <th>A</th>\n",
       "      <th>B</th>\n",
       "      <th>C</th>\n",
       "      <th>D</th>\n",
       "    </tr>\n",
       "  </thead>\n",
       "  <tbody>\n",
       "    <tr>\n",
       "      <td>2019-03-01</td>\n",
       "      <td>-0.037514</td>\n",
       "      <td>-0.146376</td>\n",
       "      <td>-1.304768</td>\n",
       "      <td>1.581764</td>\n",
       "    </tr>\n",
       "    <tr>\n",
       "      <td>2019-03-02</td>\n",
       "      <td>0.023241</td>\n",
       "      <td>-0.407085</td>\n",
       "      <td>2.064289</td>\n",
       "      <td>1.569232</td>\n",
       "    </tr>\n",
       "    <tr>\n",
       "      <td>2019-03-03</td>\n",
       "      <td>1.784725</td>\n",
       "      <td>0.503879</td>\n",
       "      <td>-2.152391</td>\n",
       "      <td>1.307705</td>\n",
       "    </tr>\n",
       "    <tr>\n",
       "      <td>2019-03-04</td>\n",
       "      <td>0.109863</td>\n",
       "      <td>0.315347</td>\n",
       "      <td>-1.312471</td>\n",
       "      <td>-0.834105</td>\n",
       "    </tr>\n",
       "    <tr>\n",
       "      <td>2019-03-05</td>\n",
       "      <td>-0.801658</td>\n",
       "      <td>-0.243724</td>\n",
       "      <td>0.467764</td>\n",
       "      <td>-0.800580</td>\n",
       "    </tr>\n",
       "    <tr>\n",
       "      <td>2019-03-06</td>\n",
       "      <td>0.323654</td>\n",
       "      <td>-0.716547</td>\n",
       "      <td>0.284720</td>\n",
       "      <td>-0.005566</td>\n",
       "    </tr>\n",
       "  </tbody>\n",
       "</table>\n",
       "</div>"
      ],
      "text/plain": [
       "                   A         B         C         D\n",
       "2019-03-01 -0.037514 -0.146376 -1.304768  1.581764\n",
       "2019-03-02  0.023241 -0.407085  2.064289  1.569232\n",
       "2019-03-03  1.784725  0.503879 -2.152391  1.307705\n",
       "2019-03-04  0.109863  0.315347 -1.312471 -0.834105\n",
       "2019-03-05 -0.801658 -0.243724  0.467764 -0.800580\n",
       "2019-03-06  0.323654 -0.716547  0.284720 -0.005566"
      ]
     },
     "execution_count": 264,
     "metadata": {},
     "output_type": "execute_result"
    }
   ],
   "source": [
    "df3 = df2.copy()\n",
    "df3"
   ]
  },
  {
   "cell_type": "code",
   "execution_count": 265,
   "metadata": {
    "colab": {
     "base_uri": "https://localhost:8080/",
     "height": 238
    },
    "id": "rAmZdev6qOh1",
    "outputId": "1de3a44f-f786-41e9-b7d0-bee89bcdb4b7"
   },
   "outputs": [
    {
     "data": {
      "text/html": [
       "<div>\n",
       "<style scoped>\n",
       "    .dataframe tbody tr th:only-of-type {\n",
       "        vertical-align: middle;\n",
       "    }\n",
       "\n",
       "    .dataframe tbody tr th {\n",
       "        vertical-align: top;\n",
       "    }\n",
       "\n",
       "    .dataframe thead th {\n",
       "        text-align: right;\n",
       "    }\n",
       "</style>\n",
       "<table border=\"1\" class=\"dataframe\">\n",
       "  <thead>\n",
       "    <tr style=\"text-align: right;\">\n",
       "      <th></th>\n",
       "      <th>A</th>\n",
       "      <th>B</th>\n",
       "      <th>C</th>\n",
       "      <th>D</th>\n",
       "    </tr>\n",
       "  </thead>\n",
       "  <tbody>\n",
       "    <tr>\n",
       "      <td>2019-03-06</td>\n",
       "      <td>0.323654</td>\n",
       "      <td>-0.716547</td>\n",
       "      <td>0.284720</td>\n",
       "      <td>-0.005566</td>\n",
       "    </tr>\n",
       "    <tr>\n",
       "      <td>2019-03-02</td>\n",
       "      <td>0.023241</td>\n",
       "      <td>-0.407085</td>\n",
       "      <td>2.064289</td>\n",
       "      <td>1.569232</td>\n",
       "    </tr>\n",
       "    <tr>\n",
       "      <td>2019-03-05</td>\n",
       "      <td>-0.801658</td>\n",
       "      <td>-0.243724</td>\n",
       "      <td>0.467764</td>\n",
       "      <td>-0.800580</td>\n",
       "    </tr>\n",
       "    <tr>\n",
       "      <td>2019-03-01</td>\n",
       "      <td>-0.037514</td>\n",
       "      <td>-0.146376</td>\n",
       "      <td>-1.304768</td>\n",
       "      <td>1.581764</td>\n",
       "    </tr>\n",
       "    <tr>\n",
       "      <td>2019-03-04</td>\n",
       "      <td>0.109863</td>\n",
       "      <td>0.315347</td>\n",
       "      <td>-1.312471</td>\n",
       "      <td>-0.834105</td>\n",
       "    </tr>\n",
       "    <tr>\n",
       "      <td>2019-03-03</td>\n",
       "      <td>1.784725</td>\n",
       "      <td>0.503879</td>\n",
       "      <td>-2.152391</td>\n",
       "      <td>1.307705</td>\n",
       "    </tr>\n",
       "  </tbody>\n",
       "</table>\n",
       "</div>"
      ],
      "text/plain": [
       "                   A         B         C         D\n",
       "2019-03-06  0.323654 -0.716547  0.284720 -0.005566\n",
       "2019-03-02  0.023241 -0.407085  2.064289  1.569232\n",
       "2019-03-05 -0.801658 -0.243724  0.467764 -0.800580\n",
       "2019-03-01 -0.037514 -0.146376 -1.304768  1.581764\n",
       "2019-03-04  0.109863  0.315347 -1.312471 -0.834105\n",
       "2019-03-03  1.784725  0.503879 -2.152391  1.307705"
      ]
     },
     "execution_count": 265,
     "metadata": {},
     "output_type": "execute_result"
    }
   ],
   "source": [
    "# df3를 B로 정렬해주세요 \n",
    "# df3의 내용이 변경되어야 합니다.\n",
    "df3 = df3.sort_values(by='B')\n",
    "df3"
   ]
  },
  {
   "cell_type": "code",
   "execution_count": 266,
   "metadata": {
    "colab": {
     "base_uri": "https://localhost:8080/",
     "height": 238
    },
    "id": "nH6V7tggn3l7",
    "outputId": "89c503b6-40e8-4ede-ccee-df3100f3ef8a"
   },
   "outputs": [
    {
     "data": {
      "text/html": [
       "<div>\n",
       "<style scoped>\n",
       "    .dataframe tbody tr th:only-of-type {\n",
       "        vertical-align: middle;\n",
       "    }\n",
       "\n",
       "    .dataframe tbody tr th {\n",
       "        vertical-align: top;\n",
       "    }\n",
       "\n",
       "    .dataframe thead th {\n",
       "        text-align: right;\n",
       "    }\n",
       "</style>\n",
       "<table border=\"1\" class=\"dataframe\">\n",
       "  <thead>\n",
       "    <tr style=\"text-align: right;\">\n",
       "      <th></th>\n",
       "      <th>B</th>\n",
       "      <th>C</th>\n",
       "    </tr>\n",
       "  </thead>\n",
       "  <tbody>\n",
       "    <tr>\n",
       "      <td>2019-03-06</td>\n",
       "      <td>-0.716547</td>\n",
       "      <td>0.284720</td>\n",
       "    </tr>\n",
       "    <tr>\n",
       "      <td>2019-03-02</td>\n",
       "      <td>-0.407085</td>\n",
       "      <td>2.064289</td>\n",
       "    </tr>\n",
       "    <tr>\n",
       "      <td>2019-03-05</td>\n",
       "      <td>-0.243724</td>\n",
       "      <td>0.467764</td>\n",
       "    </tr>\n",
       "    <tr>\n",
       "      <td>2019-03-01</td>\n",
       "      <td>-0.146376</td>\n",
       "      <td>-1.304768</td>\n",
       "    </tr>\n",
       "    <tr>\n",
       "      <td>2019-03-04</td>\n",
       "      <td>0.315347</td>\n",
       "      <td>-1.312471</td>\n",
       "    </tr>\n",
       "    <tr>\n",
       "      <td>2019-03-03</td>\n",
       "      <td>0.503879</td>\n",
       "      <td>-2.152391</td>\n",
       "    </tr>\n",
       "  </tbody>\n",
       "</table>\n",
       "</div>"
      ],
      "text/plain": [
       "                   B         C\n",
       "2019-03-06 -0.716547  0.284720\n",
       "2019-03-02 -0.407085  2.064289\n",
       "2019-03-05 -0.243724  0.467764\n",
       "2019-03-01 -0.146376 -1.304768\n",
       "2019-03-04  0.315347 -1.312471\n",
       "2019-03-03  0.503879 -2.152391"
      ]
     },
     "execution_count": 266,
     "metadata": {},
     "output_type": "execute_result"
    }
   ],
   "source": [
    "#변경된 df3에서 b, c만 추출 \n",
    "df3bc=df3[['B','C']] #밖의 대괄호는 추출의 의미 안의 대괄호는 묶어주는 의미 \n",
    "df3bc"
   ]
  },
  {
   "cell_type": "code",
   "execution_count": 267,
   "metadata": {
    "colab": {
     "base_uri": "https://localhost:8080/"
    },
    "id": "wrOSLEXdn8WT",
    "outputId": "99e836e0-dc61-40d5-9556-0197790523bd"
   },
   "outputs": [
    {
     "data": {
      "text/plain": [
       "1.0"
      ]
     },
     "execution_count": 267,
     "metadata": {},
     "output_type": "execute_result"
    }
   ],
   "source": [
    "#df3의 첫번째 행 첫번째 열의 값을 1로 수정\n",
    "df3.iloc[0,0]=1 \n",
    "df3.iloc[0,0]\n",
    "\n"
   ]
  },
  {
   "cell_type": "code",
   "execution_count": 268,
   "metadata": {
    "colab": {
     "base_uri": "https://localhost:8080/",
     "height": 143
    },
    "id": "PpB0-3Hdrc0T",
    "outputId": "3fc5b470-f3df-4925-ddfa-10a72ebb3e8d"
   },
   "outputs": [
    {
     "data": {
      "text/html": [
       "<div>\n",
       "<style scoped>\n",
       "    .dataframe tbody tr th:only-of-type {\n",
       "        vertical-align: middle;\n",
       "    }\n",
       "\n",
       "    .dataframe tbody tr th {\n",
       "        vertical-align: top;\n",
       "    }\n",
       "\n",
       "    .dataframe thead th {\n",
       "        text-align: right;\n",
       "    }\n",
       "</style>\n",
       "<table border=\"1\" class=\"dataframe\">\n",
       "  <thead>\n",
       "    <tr style=\"text-align: right;\">\n",
       "      <th></th>\n",
       "      <th>A</th>\n",
       "      <th>B</th>\n",
       "      <th>C</th>\n",
       "      <th>D</th>\n",
       "    </tr>\n",
       "  </thead>\n",
       "  <tbody>\n",
       "    <tr>\n",
       "      <td>2019-03-06</td>\n",
       "      <td>1.000000</td>\n",
       "      <td>-0.716547</td>\n",
       "      <td>0.284720</td>\n",
       "      <td>-0.005566</td>\n",
       "    </tr>\n",
       "    <tr>\n",
       "      <td>2019-03-02</td>\n",
       "      <td>0.023241</td>\n",
       "      <td>-0.407085</td>\n",
       "      <td>2.064289</td>\n",
       "      <td>1.569232</td>\n",
       "    </tr>\n",
       "    <tr>\n",
       "      <td>2019-03-05</td>\n",
       "      <td>-0.801658</td>\n",
       "      <td>-0.243724</td>\n",
       "      <td>0.467764</td>\n",
       "      <td>-0.800580</td>\n",
       "    </tr>\n",
       "  </tbody>\n",
       "</table>\n",
       "</div>"
      ],
      "text/plain": [
       "                   A         B         C         D\n",
       "2019-03-06  1.000000 -0.716547  0.284720 -0.005566\n",
       "2019-03-02  0.023241 -0.407085  2.064289  1.569232\n",
       "2019-03-05 -0.801658 -0.243724  0.467764 -0.800580"
      ]
     },
     "execution_count": 268,
     "metadata": {},
     "output_type": "execute_result"
    }
   ],
   "source": [
    "#df3에서 0행에서 2행까지 추출 \n",
    "df3.iloc[0:3] #df.iloc[추출범위]=>행으로 취급! \n",
    "#df3.iloc[0:3,:] 이렇게 생략 된 것. \n",
    "#df3.iloc[:,0:2] #df3.iloc[추출범위 행, 추출범위 열]=>열로 추출 가능! \n",
    "#열은 하나만 쓸 수 없다. "
   ]
  },
  {
   "cell_type": "code",
   "execution_count": 269,
   "metadata": {
    "colab": {
     "base_uri": "https://localhost:8080/"
    },
    "id": "S-5BwZsnuO6S",
    "outputId": "8788cf06-1551-4b66-ebd8-f207d7418903"
   },
   "outputs": [
    {
     "data": {
      "text/plain": [
       "pandas.core.series.Series"
      ]
     },
     "execution_count": 269,
     "metadata": {},
     "output_type": "execute_result"
    }
   ],
   "source": [
    "#df3에서 2019-03-01, A열의 값을 추출 \n",
    "type(df3.loc['2019-03-01','A'])"
   ]
  },
  {
   "cell_type": "code",
   "execution_count": 270,
   "metadata": {
    "colab": {
     "base_uri": "https://localhost:8080/",
     "height": 81
    },
    "id": "ixWq51KKuO3a",
    "outputId": "7b05ba5f-90df-4510-fb73-a99153a95e0f"
   },
   "outputs": [
    {
     "data": {
      "text/html": [
       "<div>\n",
       "<style scoped>\n",
       "    .dataframe tbody tr th:only-of-type {\n",
       "        vertical-align: middle;\n",
       "    }\n",
       "\n",
       "    .dataframe tbody tr th {\n",
       "        vertical-align: top;\n",
       "    }\n",
       "\n",
       "    .dataframe thead th {\n",
       "        text-align: right;\n",
       "    }\n",
       "</style>\n",
       "<table border=\"1\" class=\"dataframe\">\n",
       "  <thead>\n",
       "    <tr style=\"text-align: right;\">\n",
       "      <th></th>\n",
       "      <th>A</th>\n",
       "      <th>B</th>\n",
       "    </tr>\n",
       "  </thead>\n",
       "  <tbody>\n",
       "    <tr>\n",
       "      <td>2019-03-01</td>\n",
       "      <td>-0.037514</td>\n",
       "      <td>-0.146376</td>\n",
       "    </tr>\n",
       "  </tbody>\n",
       "</table>\n",
       "</div>"
      ],
      "text/plain": [
       "                   A         B\n",
       "2019-03-01 -0.037514 -0.146376"
      ]
     },
     "execution_count": 270,
     "metadata": {},
     "output_type": "execute_result"
    }
   ],
   "source": [
    "#df3에서 2019-03-01, A열 ,B열의 값을 추출 \n",
    "df3.loc['2019-03-01',['A','B']]"
   ]
  },
  {
   "cell_type": "code",
   "execution_count": 271,
   "metadata": {
    "colab": {
     "base_uri": "https://localhost:8080/"
    },
    "id": "QVxaQUltuO07",
    "outputId": "ad03dfaf-11d8-4585-e3eb-e6ba86a886e3"
   },
   "outputs": [
    {
     "data": {
      "text/plain": [
       "2019-03-06    1.000000\n",
       "2019-03-02    0.023241\n",
       "2019-03-05   -0.801658\n",
       "2019-03-01   -0.037514\n",
       "2019-03-04    0.109863\n",
       "2019-03-03    1.784725\n",
       "Name: A, dtype: float64"
      ]
     },
     "execution_count": 271,
     "metadata": {},
     "output_type": "execute_result"
    }
   ],
   "source": [
    "#df3에서 A열의 전체 행을 추출 \n",
    "df3.loc[:,'A']"
   ]
  },
  {
   "cell_type": "code",
   "execution_count": 272,
   "metadata": {
    "colab": {
     "base_uri": "https://localhost:8080/",
     "height": 238
    },
    "id": "kvPtTUOkuOx0",
    "outputId": "d447ffce-afe0-414a-ea0a-c1454b3af6b9"
   },
   "outputs": [
    {
     "data": {
      "text/html": [
       "<div>\n",
       "<style scoped>\n",
       "    .dataframe tbody tr th:only-of-type {\n",
       "        vertical-align: middle;\n",
       "    }\n",
       "\n",
       "    .dataframe tbody tr th {\n",
       "        vertical-align: top;\n",
       "    }\n",
       "\n",
       "    .dataframe thead th {\n",
       "        text-align: right;\n",
       "    }\n",
       "</style>\n",
       "<table border=\"1\" class=\"dataframe\">\n",
       "  <thead>\n",
       "    <tr style=\"text-align: right;\">\n",
       "      <th></th>\n",
       "      <th>A</th>\n",
       "      <th>C</th>\n",
       "    </tr>\n",
       "  </thead>\n",
       "  <tbody>\n",
       "    <tr>\n",
       "      <td>2019-03-06</td>\n",
       "      <td>1.000000</td>\n",
       "      <td>0.284720</td>\n",
       "    </tr>\n",
       "    <tr>\n",
       "      <td>2019-03-02</td>\n",
       "      <td>0.023241</td>\n",
       "      <td>2.064289</td>\n",
       "    </tr>\n",
       "    <tr>\n",
       "      <td>2019-03-05</td>\n",
       "      <td>-0.801658</td>\n",
       "      <td>0.467764</td>\n",
       "    </tr>\n",
       "    <tr>\n",
       "      <td>2019-03-01</td>\n",
       "      <td>-0.037514</td>\n",
       "      <td>-1.304768</td>\n",
       "    </tr>\n",
       "    <tr>\n",
       "      <td>2019-03-04</td>\n",
       "      <td>0.109863</td>\n",
       "      <td>-1.312471</td>\n",
       "    </tr>\n",
       "    <tr>\n",
       "      <td>2019-03-03</td>\n",
       "      <td>1.784725</td>\n",
       "      <td>-2.152391</td>\n",
       "    </tr>\n",
       "  </tbody>\n",
       "</table>\n",
       "</div>"
      ],
      "text/plain": [
       "                   A         C\n",
       "2019-03-06  1.000000  0.284720\n",
       "2019-03-02  0.023241  2.064289\n",
       "2019-03-05 -0.801658  0.467764\n",
       "2019-03-01 -0.037514 -1.304768\n",
       "2019-03-04  0.109863 -1.312471\n",
       "2019-03-03  1.784725 -2.152391"
      ]
     },
     "execution_count": 272,
     "metadata": {},
     "output_type": "execute_result"
    }
   ],
   "source": [
    "#df3에서 A,C열의 전체 행을 추출\n",
    "df3.loc[:,['A','C']]\n",
    "#loc, iloc의 결과가 1행 인경우 ,Series로 리턴 \n",
    "#loc, iloc의 결과가 여러 행이면, DataFrame으로 리턴 "
   ]
  },
  {
   "cell_type": "code",
   "execution_count": 273,
   "metadata": {
    "colab": {
     "base_uri": "https://localhost:8080/"
    },
    "id": "dShcocIly49l",
    "outputId": "05827560-0029-413d-d290-f23275b183e4"
   },
   "outputs": [
    {
     "name": "stdout",
     "output_type": "stream",
     "text": [
      "<class 'pandas.core.series.Series'>\n"
     ]
    },
    {
     "data": {
      "text/plain": [
       "2.0642893641049653"
      ]
     },
     "execution_count": 273,
     "metadata": {},
     "output_type": "execute_result"
    }
   ],
   "source": [
    "#A열을 추출하여 2번째 값을 추출 \n",
    "print(type(df3.loc[:,'A']))\n",
    "df3.loc[:,'A']\n",
    "#df3.loc[:,'A'].to_list() \n",
    "\n",
    "#d53에서 2019-03-01, A열의 값을 추출하여 1번째 값 추출 \n",
    "\n",
    "#결과가 1행인 경우, Series(list처럼 다루면 된다)\n",
    "\n",
    "#A열과 C열을 추출하여 1번째행 1번째 열의 값 추출 \n",
    "#결과가 2행 이상인 경우, DataFrame임 (df로 다루면 된다 )\n",
    "\n",
    "c = df3.loc[:,['A','C']]\n",
    "c.iloc[1,1]\n"
   ]
  },
  {
   "cell_type": "code",
   "execution_count": 274,
   "metadata": {
    "colab": {
     "base_uri": "https://localhost:8080/"
    },
    "id": "13QDiY_QuOui",
    "outputId": "8d4b7bbb-3285-4bb6-e0fa-eadb88c4922b"
   },
   "outputs": [
    {
     "data": {
      "text/plain": [
       "A    1.000000\n",
       "B   -0.716547\n",
       "C    0.284720\n",
       "D   -0.005566\n",
       "Name: 2019-03-06 00:00:00, dtype: float64"
      ]
     },
     "execution_count": 274,
     "metadata": {},
     "output_type": "execute_result"
    }
   ],
   "source": [
    "#df3에서 0번 행렬 추출 \n",
    "df3.iloc[0,:]"
   ]
  },
  {
   "cell_type": "code",
   "execution_count": 275,
   "metadata": {
    "colab": {
     "base_uri": "https://localhost:8080/"
    },
    "id": "qYL0tUOs2E4i",
    "outputId": "1a20fd8d-5f18-47f7-9488-7637219cded6"
   },
   "outputs": [
    {
     "data": {
      "text/plain": [
       "pandas.core.series.Series"
      ]
     },
     "execution_count": 275,
     "metadata": {},
     "output_type": "execute_result"
    }
   ],
   "source": [
    "type(df3.iloc[0,:])"
   ]
  },
  {
   "cell_type": "code",
   "execution_count": 276,
   "metadata": {
    "colab": {
     "base_uri": "https://localhost:8080/"
    },
    "id": "vLPiHLOSuOr3",
    "outputId": "8050fadb-863e-4145-8e7a-cc0be66dca1c"
   },
   "outputs": [
    {
     "data": {
      "text/plain": [
       "(6, 4)"
      ]
     },
     "execution_count": 276,
     "metadata": {},
     "output_type": "execute_result"
    }
   ],
   "source": [
    "#df3의 행렬의 크기를 추출 \n",
    "df3.shape"
   ]
  },
  {
   "cell_type": "code",
   "execution_count": 277,
   "metadata": {
    "colab": {
     "base_uri": "https://localhost:8080/",
     "height": 175
    },
    "id": "eUUN5VK52S5K",
    "outputId": "577b09d6-6b43-4617-a73d-ac31e421b4fc"
   },
   "outputs": [
    {
     "data": {
      "text/html": [
       "<div>\n",
       "<style scoped>\n",
       "    .dataframe tbody tr th:only-of-type {\n",
       "        vertical-align: middle;\n",
       "    }\n",
       "\n",
       "    .dataframe tbody tr th {\n",
       "        vertical-align: top;\n",
       "    }\n",
       "\n",
       "    .dataframe thead th {\n",
       "        text-align: right;\n",
       "    }\n",
       "</style>\n",
       "<table border=\"1\" class=\"dataframe\">\n",
       "  <thead>\n",
       "    <tr style=\"text-align: right;\">\n",
       "      <th></th>\n",
       "      <th>2019-03-06</th>\n",
       "      <th>2019-03-02</th>\n",
       "      <th>2019-03-05</th>\n",
       "      <th>2019-03-01</th>\n",
       "      <th>2019-03-04</th>\n",
       "      <th>2019-03-03</th>\n",
       "    </tr>\n",
       "  </thead>\n",
       "  <tbody>\n",
       "    <tr>\n",
       "      <td>A</td>\n",
       "      <td>1.000000</td>\n",
       "      <td>0.023241</td>\n",
       "      <td>-0.801658</td>\n",
       "      <td>-0.037514</td>\n",
       "      <td>0.109863</td>\n",
       "      <td>1.784725</td>\n",
       "    </tr>\n",
       "    <tr>\n",
       "      <td>B</td>\n",
       "      <td>-0.716547</td>\n",
       "      <td>-0.407085</td>\n",
       "      <td>-0.243724</td>\n",
       "      <td>-0.146376</td>\n",
       "      <td>0.315347</td>\n",
       "      <td>0.503879</td>\n",
       "    </tr>\n",
       "    <tr>\n",
       "      <td>C</td>\n",
       "      <td>0.284720</td>\n",
       "      <td>2.064289</td>\n",
       "      <td>0.467764</td>\n",
       "      <td>-1.304768</td>\n",
       "      <td>-1.312471</td>\n",
       "      <td>-2.152391</td>\n",
       "    </tr>\n",
       "    <tr>\n",
       "      <td>D</td>\n",
       "      <td>-0.005566</td>\n",
       "      <td>1.569232</td>\n",
       "      <td>-0.800580</td>\n",
       "      <td>1.581764</td>\n",
       "      <td>-0.834105</td>\n",
       "      <td>1.307705</td>\n",
       "    </tr>\n",
       "  </tbody>\n",
       "</table>\n",
       "</div>"
      ],
      "text/plain": [
       "   2019-03-06  2019-03-02  2019-03-05  2019-03-01  2019-03-04  2019-03-03\n",
       "A    1.000000    0.023241   -0.801658   -0.037514    0.109863    1.784725\n",
       "B   -0.716547   -0.407085   -0.243724   -0.146376    0.315347    0.503879\n",
       "C    0.284720    2.064289    0.467764   -1.304768   -1.312471   -2.152391\n",
       "D   -0.005566    1.569232   -0.800580    1.581764   -0.834105    1.307705"
      ]
     },
     "execution_count": 277,
     "metadata": {},
     "output_type": "execute_result"
    }
   ],
   "source": [
    "df3.T"
   ]
  },
  {
   "cell_type": "code",
   "execution_count": 278,
   "metadata": {
    "colab": {
     "base_uri": "https://localhost:8080/"
    },
    "id": "xMactg9vuOnJ",
    "outputId": "1db3cb75-f856-4aa7-955c-ab7267c9edfc"
   },
   "outputs": [
    {
     "data": {
      "text/plain": [
       "A    1.784725\n",
       "B    0.503879\n",
       "C   -2.152391\n",
       "D    1.307705\n",
       "Name: 2019-03-03 00:00:00, dtype: float64"
      ]
     },
     "execution_count": 278,
     "metadata": {},
     "output_type": "execute_result"
    }
   ],
   "source": [
    "#df3에서 5행 전체 열 추출 \n",
    "df3.iloc[5]"
   ]
  },
  {
   "cell_type": "code",
   "execution_count": 279,
   "metadata": {
    "colab": {
     "base_uri": "https://localhost:8080/",
     "height": 241
    },
    "id": "xLgb54HruOkq",
    "outputId": "f4f36f8f-5bc7-4767-b316-56c0f6ecbf7d"
   },
   "outputs": [
    {
     "name": "stdout",
     "output_type": "stream",
     "text": [
      "                   A         B         C         D\n",
      "2019-03-06  1.000000 -0.716547  0.284720 -0.005566\n",
      "2019-03-02  0.023241 -0.407085  2.064289  1.569232\n",
      "2019-03-05 -0.801658 -0.243724  0.467764 -0.800580\n",
      "2019-03-01 -0.037514 -0.146376 -1.304768  1.581764\n",
      "2019-03-04  0.109863  0.315347 -1.312471 -0.834105\n",
      "2019-03-03  1.784725  0.503879 -2.152391  1.307705\n"
     ]
    },
    {
     "data": {
      "text/html": [
       "<div>\n",
       "<style scoped>\n",
       "    .dataframe tbody tr th:only-of-type {\n",
       "        vertical-align: middle;\n",
       "    }\n",
       "\n",
       "    .dataframe tbody tr th {\n",
       "        vertical-align: top;\n",
       "    }\n",
       "\n",
       "    .dataframe thead th {\n",
       "        text-align: right;\n",
       "    }\n",
       "</style>\n",
       "<table border=\"1\" class=\"dataframe\">\n",
       "  <thead>\n",
       "    <tr style=\"text-align: right;\">\n",
       "      <th></th>\n",
       "      <th>A</th>\n",
       "      <th>B</th>\n",
       "      <th>C</th>\n",
       "      <th>D</th>\n",
       "    </tr>\n",
       "  </thead>\n",
       "  <tbody>\n",
       "    <tr>\n",
       "      <td>2019-03-04</td>\n",
       "      <td>0.109863</td>\n",
       "      <td>0.315347</td>\n",
       "      <td>-1.312471</td>\n",
       "      <td>-0.834105</td>\n",
       "    </tr>\n",
       "    <tr>\n",
       "      <td>2019-03-03</td>\n",
       "      <td>1.784725</td>\n",
       "      <td>0.503879</td>\n",
       "      <td>-2.152391</td>\n",
       "      <td>1.307705</td>\n",
       "    </tr>\n",
       "  </tbody>\n",
       "</table>\n",
       "</div>"
      ],
      "text/plain": [
       "                   A         B         C         D\n",
       "2019-03-04  0.109863  0.315347 -1.312471 -0.834105\n",
       "2019-03-03  1.784725  0.503879 -2.152391  1.307705"
      ]
     },
     "execution_count": 279,
     "metadata": {},
     "output_type": "execute_result"
    }
   ],
   "source": [
    "#df3에서 4행부터 추출 \n",
    "print(df3)\n",
    "df3.iloc[4:]"
   ]
  },
  {
   "cell_type": "code",
   "execution_count": 280,
   "metadata": {
    "colab": {
     "base_uri": "https://localhost:8080/",
     "height": 112
    },
    "id": "Ru8OY1KEuOcx",
    "outputId": "d842d90e-3b3b-4263-b746-edb52a82d783"
   },
   "outputs": [
    {
     "data": {
      "text/html": [
       "<div>\n",
       "<style scoped>\n",
       "    .dataframe tbody tr th:only-of-type {\n",
       "        vertical-align: middle;\n",
       "    }\n",
       "\n",
       "    .dataframe tbody tr th {\n",
       "        vertical-align: top;\n",
       "    }\n",
       "\n",
       "    .dataframe thead th {\n",
       "        text-align: right;\n",
       "    }\n",
       "</style>\n",
       "<table border=\"1\" class=\"dataframe\">\n",
       "  <thead>\n",
       "    <tr style=\"text-align: right;\">\n",
       "      <th></th>\n",
       "      <th>B</th>\n",
       "      <th>C</th>\n",
       "    </tr>\n",
       "  </thead>\n",
       "  <tbody>\n",
       "    <tr>\n",
       "      <td>2019-03-06</td>\n",
       "      <td>-0.716547</td>\n",
       "      <td>0.284720</td>\n",
       "    </tr>\n",
       "    <tr>\n",
       "      <td>2019-03-01</td>\n",
       "      <td>-0.146376</td>\n",
       "      <td>-1.304768</td>\n",
       "    </tr>\n",
       "  </tbody>\n",
       "</table>\n",
       "</div>"
      ],
      "text/plain": [
       "                   B         C\n",
       "2019-03-06 -0.716547  0.284720\n",
       "2019-03-01 -0.146376 -1.304768"
      ]
     },
     "execution_count": 280,
     "metadata": {},
     "output_type": "execute_result"
    }
   ],
   "source": [
    "#df3에서 0,3행, 1부터 2열까지 추출 \n",
    "df3.iloc[[0,3],[1,2]]"
   ]
  },
  {
   "cell_type": "code",
   "execution_count": 281,
   "metadata": {
    "colab": {
     "base_uri": "https://localhost:8080/",
     "height": 143
    },
    "id": "vE_JV5DmuOaZ",
    "outputId": "977ac2ca-ac81-471d-f2ad-6eb439ef4c25"
   },
   "outputs": [
    {
     "data": {
      "text/html": [
       "<div>\n",
       "<style scoped>\n",
       "    .dataframe tbody tr th:only-of-type {\n",
       "        vertical-align: middle;\n",
       "    }\n",
       "\n",
       "    .dataframe tbody tr th {\n",
       "        vertical-align: top;\n",
       "    }\n",
       "\n",
       "    .dataframe thead th {\n",
       "        text-align: right;\n",
       "    }\n",
       "</style>\n",
       "<table border=\"1\" class=\"dataframe\">\n",
       "  <thead>\n",
       "    <tr style=\"text-align: right;\">\n",
       "      <th></th>\n",
       "      <th>B</th>\n",
       "      <th>D</th>\n",
       "    </tr>\n",
       "  </thead>\n",
       "  <tbody>\n",
       "    <tr>\n",
       "      <td>2019-03-02</td>\n",
       "      <td>-0.407085</td>\n",
       "      <td>1.569232</td>\n",
       "    </tr>\n",
       "    <tr>\n",
       "      <td>2019-03-05</td>\n",
       "      <td>-0.243724</td>\n",
       "      <td>-0.800580</td>\n",
       "    </tr>\n",
       "    <tr>\n",
       "      <td>2019-03-03</td>\n",
       "      <td>0.503879</td>\n",
       "      <td>1.307705</td>\n",
       "    </tr>\n",
       "  </tbody>\n",
       "</table>\n",
       "</div>"
      ],
      "text/plain": [
       "                   B         D\n",
       "2019-03-02 -0.407085  1.569232\n",
       "2019-03-05 -0.243724 -0.800580\n",
       "2019-03-03  0.503879  1.307705"
      ]
     },
     "execution_count": 281,
     "metadata": {},
     "output_type": "execute_result"
    }
   ],
   "source": [
    "#df3에서 1,2,5행, 1,3열 추출 \n",
    "df3.iloc[[1,2,5],[1,3]]"
   ]
  },
  {
   "cell_type": "code",
   "execution_count": 282,
   "metadata": {},
   "outputs": [
    {
     "data": {
      "text/html": [
       "<div>\n",
       "<style scoped>\n",
       "    .dataframe tbody tr th:only-of-type {\n",
       "        vertical-align: middle;\n",
       "    }\n",
       "\n",
       "    .dataframe tbody tr th {\n",
       "        vertical-align: top;\n",
       "    }\n",
       "\n",
       "    .dataframe thead th {\n",
       "        text-align: right;\n",
       "    }\n",
       "</style>\n",
       "<table border=\"1\" class=\"dataframe\">\n",
       "  <thead>\n",
       "    <tr style=\"text-align: right;\">\n",
       "      <th></th>\n",
       "      <th>A</th>\n",
       "      <th>B</th>\n",
       "      <th>C</th>\n",
       "      <th>D</th>\n",
       "    </tr>\n",
       "  </thead>\n",
       "  <tbody>\n",
       "    <tr>\n",
       "      <td>2019-03-01</td>\n",
       "      <td>-0.037514</td>\n",
       "      <td>-0.146376</td>\n",
       "      <td>-1.304768</td>\n",
       "      <td>1.581764</td>\n",
       "    </tr>\n",
       "    <tr>\n",
       "      <td>2019-03-02</td>\n",
       "      <td>0.023241</td>\n",
       "      <td>-0.407085</td>\n",
       "      <td>2.064289</td>\n",
       "      <td>1.569232</td>\n",
       "    </tr>\n",
       "    <tr>\n",
       "      <td>2019-03-03</td>\n",
       "      <td>1.784725</td>\n",
       "      <td>0.503879</td>\n",
       "      <td>-2.152391</td>\n",
       "      <td>1.307705</td>\n",
       "    </tr>\n",
       "    <tr>\n",
       "      <td>2019-03-04</td>\n",
       "      <td>0.109863</td>\n",
       "      <td>0.315347</td>\n",
       "      <td>-1.312471</td>\n",
       "      <td>-0.834105</td>\n",
       "    </tr>\n",
       "    <tr>\n",
       "      <td>2019-03-05</td>\n",
       "      <td>-0.801658</td>\n",
       "      <td>-0.243724</td>\n",
       "      <td>0.467764</td>\n",
       "      <td>-0.800580</td>\n",
       "    </tr>\n",
       "    <tr>\n",
       "      <td>2019-03-06</td>\n",
       "      <td>0.323654</td>\n",
       "      <td>-0.716547</td>\n",
       "      <td>0.284720</td>\n",
       "      <td>-0.005566</td>\n",
       "    </tr>\n",
       "  </tbody>\n",
       "</table>\n",
       "</div>"
      ],
      "text/plain": [
       "                   A         B         C         D\n",
       "2019-03-01 -0.037514 -0.146376 -1.304768  1.581764\n",
       "2019-03-02  0.023241 -0.407085  2.064289  1.569232\n",
       "2019-03-03  1.784725  0.503879 -2.152391  1.307705\n",
       "2019-03-04  0.109863  0.315347 -1.312471 -0.834105\n",
       "2019-03-05 -0.801658 -0.243724  0.467764 -0.800580\n",
       "2019-03-06  0.323654 -0.716547  0.284720 -0.005566"
      ]
     },
     "execution_count": 282,
     "metadata": {},
     "output_type": "execute_result"
    }
   ],
   "source": [
    "#df는 기본적으로 행, 열의 위치값을 가지고 있음 \n",
    "#기본적으로 가지고 있는 위치값을 이용해서 조작하는 경우 \n",
    "#iloc[]를 사용 \n",
    "#일부 그래프나 분석시 특정항목을 index항목으로 수동으로 설정해야 하는 경우가 있음 \n",
    "#특정항목을 index항목으로 설정가능한 경우는 \n",
    "#\"unique/not null한 값을 가지는 항목\"만 \n",
    "#설정 가능 user_id, bbs_id  pk 조건과 일치 \n",
    "df4 = df2.copy()\n",
    "df4\n"
   ]
  },
  {
   "cell_type": "code",
   "execution_count": 283,
   "metadata": {},
   "outputs": [],
   "source": [
    "df4.reset_index(inplace=True)"
   ]
  },
  {
   "cell_type": "code",
   "execution_count": 284,
   "metadata": {},
   "outputs": [],
   "source": [
    "df4.set_index('index', inplace=True)"
   ]
  },
  {
   "cell_type": "code",
   "execution_count": 285,
   "metadata": {},
   "outputs": [
    {
     "data": {
      "text/html": [
       "<div>\n",
       "<style scoped>\n",
       "    .dataframe tbody tr th:only-of-type {\n",
       "        vertical-align: middle;\n",
       "    }\n",
       "\n",
       "    .dataframe tbody tr th {\n",
       "        vertical-align: top;\n",
       "    }\n",
       "\n",
       "    .dataframe thead th {\n",
       "        text-align: right;\n",
       "    }\n",
       "</style>\n",
       "<table border=\"1\" class=\"dataframe\">\n",
       "  <thead>\n",
       "    <tr style=\"text-align: right;\">\n",
       "      <th></th>\n",
       "      <th>A</th>\n",
       "      <th>B</th>\n",
       "      <th>C</th>\n",
       "      <th>D</th>\n",
       "    </tr>\n",
       "    <tr>\n",
       "      <th>index</th>\n",
       "      <th></th>\n",
       "      <th></th>\n",
       "      <th></th>\n",
       "      <th></th>\n",
       "    </tr>\n",
       "  </thead>\n",
       "  <tbody>\n",
       "    <tr>\n",
       "      <td>2019-03-01</td>\n",
       "      <td>-0.037514</td>\n",
       "      <td>-0.146376</td>\n",
       "      <td>-1.304768</td>\n",
       "      <td>1.581764</td>\n",
       "    </tr>\n",
       "    <tr>\n",
       "      <td>2019-03-02</td>\n",
       "      <td>0.023241</td>\n",
       "      <td>-0.407085</td>\n",
       "      <td>2.064289</td>\n",
       "      <td>1.569232</td>\n",
       "    </tr>\n",
       "    <tr>\n",
       "      <td>2019-03-03</td>\n",
       "      <td>1.784725</td>\n",
       "      <td>0.503879</td>\n",
       "      <td>-2.152391</td>\n",
       "      <td>1.307705</td>\n",
       "    </tr>\n",
       "    <tr>\n",
       "      <td>2019-03-04</td>\n",
       "      <td>0.109863</td>\n",
       "      <td>0.315347</td>\n",
       "      <td>-1.312471</td>\n",
       "      <td>-0.834105</td>\n",
       "    </tr>\n",
       "    <tr>\n",
       "      <td>2019-03-05</td>\n",
       "      <td>-0.801658</td>\n",
       "      <td>-0.243724</td>\n",
       "      <td>0.467764</td>\n",
       "      <td>-0.800580</td>\n",
       "    </tr>\n",
       "    <tr>\n",
       "      <td>2019-03-06</td>\n",
       "      <td>0.323654</td>\n",
       "      <td>-0.716547</td>\n",
       "      <td>0.284720</td>\n",
       "      <td>-0.005566</td>\n",
       "    </tr>\n",
       "  </tbody>\n",
       "</table>\n",
       "</div>"
      ],
      "text/plain": [
       "                   A         B         C         D\n",
       "index                                             \n",
       "2019-03-01 -0.037514 -0.146376 -1.304768  1.581764\n",
       "2019-03-02  0.023241 -0.407085  2.064289  1.569232\n",
       "2019-03-03  1.784725  0.503879 -2.152391  1.307705\n",
       "2019-03-04  0.109863  0.315347 -1.312471 -0.834105\n",
       "2019-03-05 -0.801658 -0.243724  0.467764 -0.800580\n",
       "2019-03-06  0.323654 -0.716547  0.284720 -0.005566"
      ]
     },
     "execution_count": 285,
     "metadata": {},
     "output_type": "execute_result"
    }
   ],
   "source": [
    "df4"
   ]
  },
  {
   "cell_type": "code",
   "execution_count": 286,
   "metadata": {},
   "outputs": [],
   "source": [
    "df4['E']= df4['A']+1 #브로드 캐스팅 "
   ]
  },
  {
   "cell_type": "code",
   "execution_count": 287,
   "metadata": {},
   "outputs": [
    {
     "data": {
      "text/plain": [
       "Index(['A', 'B', 'C', 'D', 'E'], dtype='object')"
      ]
     },
     "execution_count": 287,
     "metadata": {},
     "output_type": "execute_result"
    }
   ],
   "source": [
    "df4.columns"
   ]
  },
  {
   "cell_type": "code",
   "execution_count": 288,
   "metadata": {},
   "outputs": [
    {
     "data": {
      "text/plain": [
       "index\n",
       "2019-03-01    0.962486\n",
       "2019-03-02    1.023241\n",
       "2019-03-03    2.784725\n",
       "2019-03-04    1.109863\n",
       "2019-03-05    0.198342\n",
       "2019-03-06    1.323654\n",
       "Name: E, dtype: float64"
      ]
     },
     "execution_count": 288,
     "metadata": {},
     "output_type": "execute_result"
    }
   ],
   "source": [
    "df4['E']"
   ]
  },
  {
   "cell_type": "code",
   "execution_count": 289,
   "metadata": {},
   "outputs": [],
   "source": [
    "df4['F'] = 0 "
   ]
  },
  {
   "cell_type": "code",
   "execution_count": 290,
   "metadata": {},
   "outputs": [
    {
     "data": {
      "text/plain": [
       "index\n",
       "2019-03-01    0\n",
       "2019-03-02    0\n",
       "2019-03-03    0\n",
       "2019-03-04    0\n",
       "2019-03-05    0\n",
       "2019-03-06    0\n",
       "Name: F, dtype: int64"
      ]
     },
     "execution_count": 290,
     "metadata": {},
     "output_type": "execute_result"
    }
   ],
   "source": [
    "df4['F'] "
   ]
  },
  {
   "cell_type": "code",
   "execution_count": 291,
   "metadata": {},
   "outputs": [
    {
     "data": {
      "text/plain": [
       "index\n",
       "2019-03-01    0\n",
       "2019-03-02    1\n",
       "2019-03-03    2\n",
       "2019-03-04    3\n",
       "2019-03-05    4\n",
       "2019-03-06    5\n",
       "Name: G, dtype: int32"
      ]
     },
     "execution_count": 291,
     "metadata": {},
     "output_type": "execute_result"
    }
   ],
   "source": [
    "df4['G'] = range(0,6)\n",
    "df4['G']"
   ]
  },
  {
   "cell_type": "code",
   "execution_count": 292,
   "metadata": {},
   "outputs": [],
   "source": [
    "df4.reset_index(inplace=True) #reset_index는 일반 컬럼으로 가버림. \n",
    "#f4.set_index('G',inplace=True)"
   ]
  },
  {
   "cell_type": "code",
   "execution_count": 293,
   "metadata": {},
   "outputs": [],
   "source": [
    "#인덱스를 변경하고 싶은 경우, 기존의 인덱스를 살리고 싶으면 \n",
    "#먼저 reset_index()하고 나서 해야함. \n",
    "#reset을 안하는 경우 기존 index는 사라진다. \n",
    "df4.set_index('G',inplace=True)"
   ]
  },
  {
   "cell_type": "code",
   "execution_count": 294,
   "metadata": {},
   "outputs": [
    {
     "data": {
      "text/html": [
       "<div>\n",
       "<style scoped>\n",
       "    .dataframe tbody tr th:only-of-type {\n",
       "        vertical-align: middle;\n",
       "    }\n",
       "\n",
       "    .dataframe tbody tr th {\n",
       "        vertical-align: top;\n",
       "    }\n",
       "\n",
       "    .dataframe thead th {\n",
       "        text-align: right;\n",
       "    }\n",
       "</style>\n",
       "<table border=\"1\" class=\"dataframe\">\n",
       "  <thead>\n",
       "    <tr style=\"text-align: right;\">\n",
       "      <th></th>\n",
       "      <th>index</th>\n",
       "      <th>A</th>\n",
       "      <th>B</th>\n",
       "      <th>C</th>\n",
       "      <th>D</th>\n",
       "      <th>E</th>\n",
       "      <th>F</th>\n",
       "    </tr>\n",
       "    <tr>\n",
       "      <th>G</th>\n",
       "      <th></th>\n",
       "      <th></th>\n",
       "      <th></th>\n",
       "      <th></th>\n",
       "      <th></th>\n",
       "      <th></th>\n",
       "      <th></th>\n",
       "    </tr>\n",
       "  </thead>\n",
       "  <tbody>\n",
       "    <tr>\n",
       "      <td>0</td>\n",
       "      <td>2019-03-01</td>\n",
       "      <td>-0.037514</td>\n",
       "      <td>-0.146376</td>\n",
       "      <td>-1.304768</td>\n",
       "      <td>1.581764</td>\n",
       "      <td>0.962486</td>\n",
       "      <td>0</td>\n",
       "    </tr>\n",
       "    <tr>\n",
       "      <td>1</td>\n",
       "      <td>2019-03-02</td>\n",
       "      <td>0.023241</td>\n",
       "      <td>-0.407085</td>\n",
       "      <td>2.064289</td>\n",
       "      <td>1.569232</td>\n",
       "      <td>1.023241</td>\n",
       "      <td>0</td>\n",
       "    </tr>\n",
       "    <tr>\n",
       "      <td>2</td>\n",
       "      <td>2019-03-03</td>\n",
       "      <td>1.784725</td>\n",
       "      <td>0.503879</td>\n",
       "      <td>-2.152391</td>\n",
       "      <td>1.307705</td>\n",
       "      <td>2.784725</td>\n",
       "      <td>0</td>\n",
       "    </tr>\n",
       "    <tr>\n",
       "      <td>3</td>\n",
       "      <td>2019-03-04</td>\n",
       "      <td>0.109863</td>\n",
       "      <td>0.315347</td>\n",
       "      <td>-1.312471</td>\n",
       "      <td>-0.834105</td>\n",
       "      <td>1.109863</td>\n",
       "      <td>0</td>\n",
       "    </tr>\n",
       "    <tr>\n",
       "      <td>4</td>\n",
       "      <td>2019-03-05</td>\n",
       "      <td>-0.801658</td>\n",
       "      <td>-0.243724</td>\n",
       "      <td>0.467764</td>\n",
       "      <td>-0.800580</td>\n",
       "      <td>0.198342</td>\n",
       "      <td>0</td>\n",
       "    </tr>\n",
       "    <tr>\n",
       "      <td>5</td>\n",
       "      <td>2019-03-06</td>\n",
       "      <td>0.323654</td>\n",
       "      <td>-0.716547</td>\n",
       "      <td>0.284720</td>\n",
       "      <td>-0.005566</td>\n",
       "      <td>1.323654</td>\n",
       "      <td>0</td>\n",
       "    </tr>\n",
       "  </tbody>\n",
       "</table>\n",
       "</div>"
      ],
      "text/plain": [
       "       index         A         B         C         D         E  F\n",
       "G                                                                \n",
       "0 2019-03-01 -0.037514 -0.146376 -1.304768  1.581764  0.962486  0\n",
       "1 2019-03-02  0.023241 -0.407085  2.064289  1.569232  1.023241  0\n",
       "2 2019-03-03  1.784725  0.503879 -2.152391  1.307705  2.784725  0\n",
       "3 2019-03-04  0.109863  0.315347 -1.312471 -0.834105  1.109863  0\n",
       "4 2019-03-05 -0.801658 -0.243724  0.467764 -0.800580  0.198342  0\n",
       "5 2019-03-06  0.323654 -0.716547  0.284720 -0.005566  1.323654  0"
      ]
     },
     "execution_count": 294,
     "metadata": {},
     "output_type": "execute_result"
    }
   ],
   "source": [
    "df4"
   ]
  },
  {
   "cell_type": "code",
   "execution_count": 295,
   "metadata": {},
   "outputs": [
    {
     "data": {
      "text/plain": [
       "Index(['index', 'A', 'B', 'C', 'D', 'E', 'F'], dtype='object')"
      ]
     },
     "execution_count": 295,
     "metadata": {},
     "output_type": "execute_result"
    }
   ],
   "source": [
    "df4.columns #G는 인덱스로 잡혀 있어서 눈에 안보이는 것. "
   ]
  },
  {
   "cell_type": "code",
   "execution_count": 296,
   "metadata": {},
   "outputs": [
    {
     "data": {
      "text/html": [
       "<div>\n",
       "<style scoped>\n",
       "    .dataframe tbody tr th:only-of-type {\n",
       "        vertical-align: middle;\n",
       "    }\n",
       "\n",
       "    .dataframe tbody tr th {\n",
       "        vertical-align: top;\n",
       "    }\n",
       "\n",
       "    .dataframe thead th {\n",
       "        text-align: right;\n",
       "    }\n",
       "</style>\n",
       "<table border=\"1\" class=\"dataframe\">\n",
       "  <thead>\n",
       "    <tr style=\"text-align: right;\">\n",
       "      <th></th>\n",
       "      <th>A</th>\n",
       "      <th>B</th>\n",
       "      <th>C</th>\n",
       "      <th>D</th>\n",
       "    </tr>\n",
       "  </thead>\n",
       "  <tbody>\n",
       "    <tr>\n",
       "      <td>0</td>\n",
       "      <td>-1.839726</td>\n",
       "      <td>1.233634</td>\n",
       "      <td>-0.973424</td>\n",
       "      <td>1.330855</td>\n",
       "    </tr>\n",
       "    <tr>\n",
       "      <td>1</td>\n",
       "      <td>0.540718</td>\n",
       "      <td>0.315070</td>\n",
       "      <td>-0.501314</td>\n",
       "      <td>1.681270</td>\n",
       "    </tr>\n",
       "    <tr>\n",
       "      <td>2</td>\n",
       "      <td>2.532386</td>\n",
       "      <td>0.363397</td>\n",
       "      <td>-1.141631</td>\n",
       "      <td>-1.316243</td>\n",
       "    </tr>\n",
       "    <tr>\n",
       "      <td>3</td>\n",
       "      <td>0.368285</td>\n",
       "      <td>-0.012047</td>\n",
       "      <td>-1.408730</td>\n",
       "      <td>0.699741</td>\n",
       "    </tr>\n",
       "    <tr>\n",
       "      <td>4</td>\n",
       "      <td>-1.151877</td>\n",
       "      <td>-1.851306</td>\n",
       "      <td>0.061594</td>\n",
       "      <td>-0.265624</td>\n",
       "    </tr>\n",
       "    <tr>\n",
       "      <td>5</td>\n",
       "      <td>1.360421</td>\n",
       "      <td>-0.948421</td>\n",
       "      <td>0.314555</td>\n",
       "      <td>0.654767</td>\n",
       "    </tr>\n",
       "  </tbody>\n",
       "</table>\n",
       "</div>"
      ],
      "text/plain": [
       "          A         B         C         D\n",
       "0 -1.839726  1.233634 -0.973424  1.330855\n",
       "1  0.540718  0.315070 -0.501314  1.681270\n",
       "2  2.532386  0.363397 -1.141631 -1.316243\n",
       "3  0.368285 -0.012047 -1.408730  0.699741\n",
       "4 -1.151877 -1.851306  0.061594 -0.265624\n",
       "5  1.360421 -0.948421  0.314555  0.654767"
      ]
     },
     "execution_count": 296,
     "metadata": {},
     "output_type": "execute_result"
    }
   ],
   "source": [
    "df3 = df.copy()\n",
    "df3"
   ]
  },
  {
   "cell_type": "code",
   "execution_count": 297,
   "metadata": {},
   "outputs": [],
   "source": [
    "import random"
   ]
  },
  {
   "cell_type": "code",
   "execution_count": 298,
   "metadata": {},
   "outputs": [],
   "source": [
    "#E항목을 파생 변수로 만드세요. 1~10 범위 값 \n",
    "#F항목을 파생 변수로 만드세요. A열과 C열의 합 \n",
    "#h항목을 파생변수로 만드세요. 1로 설정\n",
    "#Z항목을 파생변수로 만드세요. 1~9까지 랜덤한 값 "
   ]
  },
  {
   "cell_type": "code",
   "execution_count": 299,
   "metadata": {},
   "outputs": [
    {
     "data": {
      "text/plain": [
       "0    1\n",
       "1    1\n",
       "2    1\n",
       "3    1\n",
       "4    1\n",
       "5    1\n",
       "Name: E, dtype: int64"
      ]
     },
     "execution_count": 299,
     "metadata": {},
     "output_type": "execute_result"
    }
   ],
   "source": [
    "df3['E'] = random.randint(1,10)\n",
    "df3['E']"
   ]
  },
  {
   "cell_type": "code",
   "execution_count": 300,
   "metadata": {},
   "outputs": [
    {
     "data": {
      "text/html": [
       "<div>\n",
       "<style scoped>\n",
       "    .dataframe tbody tr th:only-of-type {\n",
       "        vertical-align: middle;\n",
       "    }\n",
       "\n",
       "    .dataframe tbody tr th {\n",
       "        vertical-align: top;\n",
       "    }\n",
       "\n",
       "    .dataframe thead th {\n",
       "        text-align: right;\n",
       "    }\n",
       "</style>\n",
       "<table border=\"1\" class=\"dataframe\">\n",
       "  <thead>\n",
       "    <tr style=\"text-align: right;\">\n",
       "      <th></th>\n",
       "      <th>A</th>\n",
       "      <th>B</th>\n",
       "      <th>C</th>\n",
       "      <th>D</th>\n",
       "      <th>E</th>\n",
       "      <th>F</th>\n",
       "    </tr>\n",
       "  </thead>\n",
       "  <tbody>\n",
       "    <tr>\n",
       "      <td>0</td>\n",
       "      <td>-1.839726</td>\n",
       "      <td>1.233634</td>\n",
       "      <td>-0.973424</td>\n",
       "      <td>1.330855</td>\n",
       "      <td>1</td>\n",
       "      <td>-2.813150</td>\n",
       "    </tr>\n",
       "    <tr>\n",
       "      <td>1</td>\n",
       "      <td>0.540718</td>\n",
       "      <td>0.315070</td>\n",
       "      <td>-0.501314</td>\n",
       "      <td>1.681270</td>\n",
       "      <td>1</td>\n",
       "      <td>0.039404</td>\n",
       "    </tr>\n",
       "    <tr>\n",
       "      <td>2</td>\n",
       "      <td>2.532386</td>\n",
       "      <td>0.363397</td>\n",
       "      <td>-1.141631</td>\n",
       "      <td>-1.316243</td>\n",
       "      <td>1</td>\n",
       "      <td>1.390755</td>\n",
       "    </tr>\n",
       "    <tr>\n",
       "      <td>3</td>\n",
       "      <td>0.368285</td>\n",
       "      <td>-0.012047</td>\n",
       "      <td>-1.408730</td>\n",
       "      <td>0.699741</td>\n",
       "      <td>1</td>\n",
       "      <td>-1.040445</td>\n",
       "    </tr>\n",
       "    <tr>\n",
       "      <td>4</td>\n",
       "      <td>-1.151877</td>\n",
       "      <td>-1.851306</td>\n",
       "      <td>0.061594</td>\n",
       "      <td>-0.265624</td>\n",
       "      <td>1</td>\n",
       "      <td>-1.090283</td>\n",
       "    </tr>\n",
       "    <tr>\n",
       "      <td>5</td>\n",
       "      <td>1.360421</td>\n",
       "      <td>-0.948421</td>\n",
       "      <td>0.314555</td>\n",
       "      <td>0.654767</td>\n",
       "      <td>1</td>\n",
       "      <td>1.674976</td>\n",
       "    </tr>\n",
       "  </tbody>\n",
       "</table>\n",
       "</div>"
      ],
      "text/plain": [
       "          A         B         C         D  E         F\n",
       "0 -1.839726  1.233634 -0.973424  1.330855  1 -2.813150\n",
       "1  0.540718  0.315070 -0.501314  1.681270  1  0.039404\n",
       "2  2.532386  0.363397 -1.141631 -1.316243  1  1.390755\n",
       "3  0.368285 -0.012047 -1.408730  0.699741  1 -1.040445\n",
       "4 -1.151877 -1.851306  0.061594 -0.265624  1 -1.090283\n",
       "5  1.360421 -0.948421  0.314555  0.654767  1  1.674976"
      ]
     },
     "execution_count": 300,
     "metadata": {},
     "output_type": "execute_result"
    }
   ],
   "source": [
    "df3['F'] = df3['A']+ df3['C']\n",
    "df3"
   ]
  },
  {
   "cell_type": "code",
   "execution_count": 301,
   "metadata": {},
   "outputs": [],
   "source": [
    "df3['H'] = 1"
   ]
  },
  {
   "cell_type": "code",
   "execution_count": 302,
   "metadata": {},
   "outputs": [],
   "source": [
    "#리스트 내포: 결과가 항상 list \n",
    "#list comprehension \n",
    "#df3['Z'] = [random.randint(1,10) for _ in range(6)]"
   ]
  },
  {
   "cell_type": "code",
   "execution_count": 303,
   "metadata": {},
   "outputs": [
    {
     "name": "stdout",
     "output_type": "stream",
     "text": [
      "[3, 5, 1, 3, 6, 6]\n"
     ]
    },
    {
     "data": {
      "text/html": [
       "<div>\n",
       "<style scoped>\n",
       "    .dataframe tbody tr th:only-of-type {\n",
       "        vertical-align: middle;\n",
       "    }\n",
       "\n",
       "    .dataframe tbody tr th {\n",
       "        vertical-align: top;\n",
       "    }\n",
       "\n",
       "    .dataframe thead th {\n",
       "        text-align: right;\n",
       "    }\n",
       "</style>\n",
       "<table border=\"1\" class=\"dataframe\">\n",
       "  <thead>\n",
       "    <tr style=\"text-align: right;\">\n",
       "      <th></th>\n",
       "      <th>A</th>\n",
       "      <th>B</th>\n",
       "      <th>C</th>\n",
       "      <th>D</th>\n",
       "      <th>E</th>\n",
       "      <th>F</th>\n",
       "      <th>H</th>\n",
       "    </tr>\n",
       "  </thead>\n",
       "  <tbody>\n",
       "    <tr>\n",
       "      <td>0</td>\n",
       "      <td>-1.839726</td>\n",
       "      <td>1.233634</td>\n",
       "      <td>-0.973424</td>\n",
       "      <td>1.330855</td>\n",
       "      <td>3</td>\n",
       "      <td>-2.813150</td>\n",
       "      <td>1</td>\n",
       "    </tr>\n",
       "    <tr>\n",
       "      <td>1</td>\n",
       "      <td>0.540718</td>\n",
       "      <td>0.315070</td>\n",
       "      <td>-0.501314</td>\n",
       "      <td>1.681270</td>\n",
       "      <td>5</td>\n",
       "      <td>0.039404</td>\n",
       "      <td>1</td>\n",
       "    </tr>\n",
       "    <tr>\n",
       "      <td>2</td>\n",
       "      <td>2.532386</td>\n",
       "      <td>0.363397</td>\n",
       "      <td>-1.141631</td>\n",
       "      <td>-1.316243</td>\n",
       "      <td>1</td>\n",
       "      <td>1.390755</td>\n",
       "      <td>1</td>\n",
       "    </tr>\n",
       "    <tr>\n",
       "      <td>3</td>\n",
       "      <td>0.368285</td>\n",
       "      <td>-0.012047</td>\n",
       "      <td>-1.408730</td>\n",
       "      <td>0.699741</td>\n",
       "      <td>3</td>\n",
       "      <td>-1.040445</td>\n",
       "      <td>1</td>\n",
       "    </tr>\n",
       "    <tr>\n",
       "      <td>4</td>\n",
       "      <td>-1.151877</td>\n",
       "      <td>-1.851306</td>\n",
       "      <td>0.061594</td>\n",
       "      <td>-0.265624</td>\n",
       "      <td>6</td>\n",
       "      <td>-1.090283</td>\n",
       "      <td>1</td>\n",
       "    </tr>\n",
       "    <tr>\n",
       "      <td>5</td>\n",
       "      <td>1.360421</td>\n",
       "      <td>-0.948421</td>\n",
       "      <td>0.314555</td>\n",
       "      <td>0.654767</td>\n",
       "      <td>6</td>\n",
       "      <td>1.674976</td>\n",
       "      <td>1</td>\n",
       "    </tr>\n",
       "  </tbody>\n",
       "</table>\n",
       "</div>"
      ],
      "text/plain": [
       "          A         B         C         D  E         F  H\n",
       "0 -1.839726  1.233634 -0.973424  1.330855  3 -2.813150  1\n",
       "1  0.540718  0.315070 -0.501314  1.681270  5  0.039404  1\n",
       "2  2.532386  0.363397 -1.141631 -1.316243  1  1.390755  1\n",
       "3  0.368285 -0.012047 -1.408730  0.699741  3 -1.040445  1\n",
       "4 -1.151877 -1.851306  0.061594 -0.265624  6 -1.090283  1\n",
       "5  1.360421 -0.948421  0.314555  0.654767  6  1.674976  1"
      ]
     },
     "execution_count": 303,
     "metadata": {},
     "output_type": "execute_result"
    }
   ],
   "source": [
    "data = range(1, 11)\n",
    "data2 = []\n",
    "for i in range(6):\n",
    "    data2.append(random.choice(data))\n",
    "print(data2)\n",
    "df3['E'] = data2\n",
    "df3['E']\n",
    "df3"
   ]
  },
  {
   "cell_type": "code",
   "execution_count": 304,
   "metadata": {},
   "outputs": [
    {
     "data": {
      "text/plain": [
       "[3, 10, 7, 3, 6, 2]"
      ]
     },
     "execution_count": 304,
     "metadata": {},
     "output_type": "execute_result"
    }
   ],
   "source": [
    "data2 = []\n",
    "for _ in range(6):\n",
    "    data2.append(random.randint(1,10))\n",
    "data2"
   ]
  },
  {
   "cell_type": "code",
   "execution_count": 305,
   "metadata": {},
   "outputs": [
    {
     "data": {
      "text/html": [
       "<div>\n",
       "<style scoped>\n",
       "    .dataframe tbody tr th:only-of-type {\n",
       "        vertical-align: middle;\n",
       "    }\n",
       "\n",
       "    .dataframe tbody tr th {\n",
       "        vertical-align: top;\n",
       "    }\n",
       "\n",
       "    .dataframe thead th {\n",
       "        text-align: right;\n",
       "    }\n",
       "</style>\n",
       "<table border=\"1\" class=\"dataframe\">\n",
       "  <thead>\n",
       "    <tr style=\"text-align: right;\">\n",
       "      <th></th>\n",
       "      <th>A</th>\n",
       "      <th>B</th>\n",
       "      <th>C</th>\n",
       "      <th>D</th>\n",
       "      <th>E</th>\n",
       "      <th>F</th>\n",
       "      <th>H</th>\n",
       "      <th>Z</th>\n",
       "    </tr>\n",
       "  </thead>\n",
       "  <tbody>\n",
       "    <tr>\n",
       "      <td>0</td>\n",
       "      <td>-1.839726</td>\n",
       "      <td>1.233634</td>\n",
       "      <td>-0.973424</td>\n",
       "      <td>1.330855</td>\n",
       "      <td>3</td>\n",
       "      <td>-2.813150</td>\n",
       "      <td>1</td>\n",
       "      <td>3</td>\n",
       "    </tr>\n",
       "    <tr>\n",
       "      <td>1</td>\n",
       "      <td>0.540718</td>\n",
       "      <td>0.315070</td>\n",
       "      <td>-0.501314</td>\n",
       "      <td>1.681270</td>\n",
       "      <td>5</td>\n",
       "      <td>0.039404</td>\n",
       "      <td>1</td>\n",
       "      <td>10</td>\n",
       "    </tr>\n",
       "    <tr>\n",
       "      <td>2</td>\n",
       "      <td>2.532386</td>\n",
       "      <td>0.363397</td>\n",
       "      <td>-1.141631</td>\n",
       "      <td>-1.316243</td>\n",
       "      <td>1</td>\n",
       "      <td>1.390755</td>\n",
       "      <td>1</td>\n",
       "      <td>7</td>\n",
       "    </tr>\n",
       "    <tr>\n",
       "      <td>3</td>\n",
       "      <td>0.368285</td>\n",
       "      <td>-0.012047</td>\n",
       "      <td>-1.408730</td>\n",
       "      <td>0.699741</td>\n",
       "      <td>3</td>\n",
       "      <td>-1.040445</td>\n",
       "      <td>1</td>\n",
       "      <td>3</td>\n",
       "    </tr>\n",
       "    <tr>\n",
       "      <td>4</td>\n",
       "      <td>-1.151877</td>\n",
       "      <td>-1.851306</td>\n",
       "      <td>0.061594</td>\n",
       "      <td>-0.265624</td>\n",
       "      <td>6</td>\n",
       "      <td>-1.090283</td>\n",
       "      <td>1</td>\n",
       "      <td>6</td>\n",
       "    </tr>\n",
       "    <tr>\n",
       "      <td>5</td>\n",
       "      <td>1.360421</td>\n",
       "      <td>-0.948421</td>\n",
       "      <td>0.314555</td>\n",
       "      <td>0.654767</td>\n",
       "      <td>6</td>\n",
       "      <td>1.674976</td>\n",
       "      <td>1</td>\n",
       "      <td>2</td>\n",
       "    </tr>\n",
       "  </tbody>\n",
       "</table>\n",
       "</div>"
      ],
      "text/plain": [
       "          A         B         C         D  E         F  H   Z\n",
       "0 -1.839726  1.233634 -0.973424  1.330855  3 -2.813150  1   3\n",
       "1  0.540718  0.315070 -0.501314  1.681270  5  0.039404  1  10\n",
       "2  2.532386  0.363397 -1.141631 -1.316243  1  1.390755  1   7\n",
       "3  0.368285 -0.012047 -1.408730  0.699741  3 -1.040445  1   3\n",
       "4 -1.151877 -1.851306  0.061594 -0.265624  6 -1.090283  1   6\n",
       "5  1.360421 -0.948421  0.314555  0.654767  6  1.674976  1   2"
      ]
     },
     "execution_count": 305,
     "metadata": {},
     "output_type": "execute_result"
    }
   ],
   "source": [
    "df3['Z'] = data2\n",
    "df3"
   ]
  },
  {
   "cell_type": "code",
   "execution_count": 306,
   "metadata": {},
   "outputs": [
    {
     "data": {
      "text/plain": [
       "range(0, 10)"
      ]
     },
     "execution_count": 306,
     "metadata": {},
     "output_type": "execute_result"
    }
   ],
   "source": [
    "range(10)"
   ]
  },
  {
   "cell_type": "code",
   "execution_count": 307,
   "metadata": {},
   "outputs": [
    {
     "data": {
      "text/plain": [
       "[0, 1, 2, 3, 4, 5, 6, 7, 8, 9]"
      ]
     },
     "execution_count": 307,
     "metadata": {},
     "output_type": "execute_result"
    }
   ],
   "source": [
    "list(range(10))"
   ]
  },
  {
   "cell_type": "code",
   "execution_count": 308,
   "metadata": {},
   "outputs": [
    {
     "data": {
      "text/plain": [
       "[1, 3, 5, 7, 9]"
      ]
     },
     "execution_count": 308,
     "metadata": {},
     "output_type": "execute_result"
    }
   ],
   "source": [
    "#['반복하면서 한번에 처리할 내용' for i in range(10)]\n",
    "[i+1 for i in range(10) if i%2 ==0]\n",
    "\n",
    "#data3 = []\n",
    "#for i in range(10):\n",
    "#    if i%2==0:\n",
    "#        data3.append(i)\n",
    "#data3\n",
    "    "
   ]
  },
  {
   "cell_type": "code",
   "execution_count": 309,
   "metadata": {},
   "outputs": [],
   "source": [
    "#['반복하면서 한번에 처리할 내용' for i in range(10) if i / 2 == 0]"
   ]
  },
  {
   "cell_type": "code",
   "execution_count": 310,
   "metadata": {},
   "outputs": [
    {
     "name": "stdout",
     "output_type": "stream",
     "text": [
      "홍길동\n",
      "김길동\n",
      "송길동\n"
     ]
    }
   ],
   "source": [
    "name = ['홍길동','김길동','송길동']\n",
    "for x in name: \n",
    "    print(x)"
   ]
  },
  {
   "cell_type": "code",
   "execution_count": 311,
   "metadata": {},
   "outputs": [
    {
     "data": {
      "text/plain": [
       "['홍길동님', '김길동님', '송길동님']"
      ]
     },
     "execution_count": 311,
     "metadata": {},
     "output_type": "execute_result"
    }
   ],
   "source": [
    "#name에 들어 있는 모든 데이터에 \"님\"자를 붙여주세요 \n",
    "#['반복하면서 한번에 처리할 내용' for i in range(10)]\n",
    "#[name[i]+\"님\" for i in range(3)]\n",
    "[x +'님' for x in name]"
   ]
  },
  {
   "cell_type": "code",
   "execution_count": 312,
   "metadata": {},
   "outputs": [
    {
     "data": {
      "text/plain": [
       "['신입홍길동', '신입김길동', '신입송길동']"
      ]
     },
     "execution_count": 312,
     "metadata": {},
     "output_type": "execute_result"
    }
   ],
   "source": [
    "#name에 들어 있는 각가의 모든 데이터에 앞에 \"신입\"글자를 붙여주세요 \n",
    "#['신입'+ name[i] for i in range(3)]\n",
    "['신입'+x  for x in name]"
   ]
  },
  {
   "cell_type": "code",
   "execution_count": 313,
   "metadata": {},
   "outputs": [],
   "source": [
    "#몇 개가 들어있는지 확인\n",
    "a_list = range(1,10,2)"
   ]
  },
  {
   "cell_type": "code",
   "execution_count": 314,
   "metadata": {},
   "outputs": [
    {
     "data": {
      "text/plain": [
       "5"
      ]
     },
     "execution_count": 314,
     "metadata": {},
     "output_type": "execute_result"
    }
   ],
   "source": [
    "count = 0 \n",
    "result = [count + 1 for x in a_list ] #대괄호 문법은 항상 결과가 리스트로 온다 \n",
    "sum(result)"
   ]
  },
  {
   "cell_type": "code",
   "execution_count": 315,
   "metadata": {},
   "outputs": [
    {
     "data": {
      "text/plain": [
       "[0.1, 0.30000000000000004, 0.5, 0.7000000000000001, 0.9]"
      ]
     },
     "execution_count": 315,
     "metadata": {},
     "output_type": "execute_result"
    }
   ],
   "source": [
    " #a_list의 각각의 모든 데이터에 0.1을 곱해보세요 변경된 a_list의 합과 평균 \n",
    "a_list = [x*0.1 for x in a_list]\n",
    "a_list"
   ]
  },
  {
   "cell_type": "code",
   "execution_count": 316,
   "metadata": {},
   "outputs": [
    {
     "data": {
      "text/plain": [
       "2.5"
      ]
     },
     "execution_count": 316,
     "metadata": {},
     "output_type": "execute_result"
    }
   ],
   "source": [
    "sum(a_list)"
   ]
  },
  {
   "cell_type": "code",
   "execution_count": 317,
   "metadata": {},
   "outputs": [
    {
     "data": {
      "text/plain": [
       "0.5"
      ]
     },
     "execution_count": 317,
     "metadata": {},
     "output_type": "execute_result"
    }
   ],
   "source": [
    "np.mean(a_list)"
   ]
  },
  {
   "cell_type": "code",
   "execution_count": 318,
   "metadata": {},
   "outputs": [
    {
     "data": {
      "text/plain": [
       "<function numpy.std(a, axis=None, dtype=None, out=None, ddof=0, keepdims=<no value>)>"
      ]
     },
     "execution_count": 318,
     "metadata": {},
     "output_type": "execute_result"
    }
   ],
   "source": [
    "np.std"
   ]
  },
  {
   "cell_type": "code",
   "execution_count": 319,
   "metadata": {},
   "outputs": [
    {
     "data": {
      "text/plain": [
       "[0.2, 0.4, 0.6]"
      ]
     },
     "execution_count": 319,
     "metadata": {},
     "output_type": "execute_result"
    }
   ],
   "source": [
    "[x + 0.1 for x in a_list][:3]"
   ]
  },
  {
   "cell_type": "code",
   "execution_count": 320,
   "metadata": {},
   "outputs": [
    {
     "data": {
      "text/html": [
       "<div>\n",
       "<style scoped>\n",
       "    .dataframe tbody tr th:only-of-type {\n",
       "        vertical-align: middle;\n",
       "    }\n",
       "\n",
       "    .dataframe tbody tr th {\n",
       "        vertical-align: top;\n",
       "    }\n",
       "\n",
       "    .dataframe thead th {\n",
       "        text-align: right;\n",
       "    }\n",
       "</style>\n",
       "<table border=\"1\" class=\"dataframe\">\n",
       "  <thead>\n",
       "    <tr style=\"text-align: right;\">\n",
       "      <th></th>\n",
       "      <th>A</th>\n",
       "      <th>B</th>\n",
       "      <th>C</th>\n",
       "      <th>D</th>\n",
       "      <th>E</th>\n",
       "      <th>F</th>\n",
       "      <th>H</th>\n",
       "      <th>Z</th>\n",
       "    </tr>\n",
       "  </thead>\n",
       "  <tbody>\n",
       "    <tr>\n",
       "      <td>0</td>\n",
       "      <td>-1.839726</td>\n",
       "      <td>1.233634</td>\n",
       "      <td>-0.973424</td>\n",
       "      <td>1.330855</td>\n",
       "      <td>3</td>\n",
       "      <td>-2.813150</td>\n",
       "      <td>1</td>\n",
       "      <td>3</td>\n",
       "    </tr>\n",
       "    <tr>\n",
       "      <td>1</td>\n",
       "      <td>0.540718</td>\n",
       "      <td>0.315070</td>\n",
       "      <td>-0.501314</td>\n",
       "      <td>1.681270</td>\n",
       "      <td>5</td>\n",
       "      <td>0.039404</td>\n",
       "      <td>1</td>\n",
       "      <td>10</td>\n",
       "    </tr>\n",
       "    <tr>\n",
       "      <td>2</td>\n",
       "      <td>2.532386</td>\n",
       "      <td>0.363397</td>\n",
       "      <td>-1.141631</td>\n",
       "      <td>-1.316243</td>\n",
       "      <td>1</td>\n",
       "      <td>1.390755</td>\n",
       "      <td>1</td>\n",
       "      <td>7</td>\n",
       "    </tr>\n",
       "    <tr>\n",
       "      <td>3</td>\n",
       "      <td>0.368285</td>\n",
       "      <td>-0.012047</td>\n",
       "      <td>-1.408730</td>\n",
       "      <td>0.699741</td>\n",
       "      <td>3</td>\n",
       "      <td>-1.040445</td>\n",
       "      <td>1</td>\n",
       "      <td>3</td>\n",
       "    </tr>\n",
       "    <tr>\n",
       "      <td>4</td>\n",
       "      <td>-1.151877</td>\n",
       "      <td>-1.851306</td>\n",
       "      <td>0.061594</td>\n",
       "      <td>-0.265624</td>\n",
       "      <td>6</td>\n",
       "      <td>-1.090283</td>\n",
       "      <td>1</td>\n",
       "      <td>6</td>\n",
       "    </tr>\n",
       "    <tr>\n",
       "      <td>5</td>\n",
       "      <td>1.360421</td>\n",
       "      <td>-0.948421</td>\n",
       "      <td>0.314555</td>\n",
       "      <td>0.654767</td>\n",
       "      <td>6</td>\n",
       "      <td>1.674976</td>\n",
       "      <td>1</td>\n",
       "      <td>2</td>\n",
       "    </tr>\n",
       "  </tbody>\n",
       "</table>\n",
       "</div>"
      ],
      "text/plain": [
       "          A         B         C         D  E         F  H   Z\n",
       "0 -1.839726  1.233634 -0.973424  1.330855  3 -2.813150  1   3\n",
       "1  0.540718  0.315070 -0.501314  1.681270  5  0.039404  1  10\n",
       "2  2.532386  0.363397 -1.141631 -1.316243  1  1.390755  1   7\n",
       "3  0.368285 -0.012047 -1.408730  0.699741  3 -1.040445  1   3\n",
       "4 -1.151877 -1.851306  0.061594 -0.265624  6 -1.090283  1   6\n",
       "5  1.360421 -0.948421  0.314555  0.654767  6  1.674976  1   2"
      ]
     },
     "execution_count": 320,
     "metadata": {},
     "output_type": "execute_result"
    }
   ],
   "source": [
    "#df3.drop(columns=['H'], inplace=True)\n",
    "df3"
   ]
  },
  {
   "cell_type": "code",
   "execution_count": 326,
   "metadata": {},
   "outputs": [],
   "source": [
    "df3.drop(columns=['Z','E','F','H'], inplace=True)"
   ]
  },
  {
   "cell_type": "code",
   "execution_count": 330,
   "metadata": {},
   "outputs": [],
   "source": [
    "df2.loc['2020-06-25'] = [1,1,1,1] #열의 순서대로 들어감 "
   ]
  },
  {
   "cell_type": "code",
   "execution_count": 331,
   "metadata": {},
   "outputs": [
    {
     "data": {
      "text/html": [
       "<div>\n",
       "<style scoped>\n",
       "    .dataframe tbody tr th:only-of-type {\n",
       "        vertical-align: middle;\n",
       "    }\n",
       "\n",
       "    .dataframe tbody tr th {\n",
       "        vertical-align: top;\n",
       "    }\n",
       "\n",
       "    .dataframe thead th {\n",
       "        text-align: right;\n",
       "    }\n",
       "</style>\n",
       "<table border=\"1\" class=\"dataframe\">\n",
       "  <thead>\n",
       "    <tr style=\"text-align: right;\">\n",
       "      <th></th>\n",
       "      <th>A</th>\n",
       "      <th>B</th>\n",
       "      <th>C</th>\n",
       "      <th>D</th>\n",
       "    </tr>\n",
       "  </thead>\n",
       "  <tbody>\n",
       "    <tr>\n",
       "      <td>2019-03-01 00:00:00</td>\n",
       "      <td>-0.037514</td>\n",
       "      <td>-0.146376</td>\n",
       "      <td>-1.304768</td>\n",
       "      <td>1.581764</td>\n",
       "    </tr>\n",
       "    <tr>\n",
       "      <td>2019-03-02 00:00:00</td>\n",
       "      <td>0.023241</td>\n",
       "      <td>-0.407085</td>\n",
       "      <td>2.064289</td>\n",
       "      <td>1.569232</td>\n",
       "    </tr>\n",
       "    <tr>\n",
       "      <td>2019-03-03 00:00:00</td>\n",
       "      <td>1.784725</td>\n",
       "      <td>0.503879</td>\n",
       "      <td>-2.152391</td>\n",
       "      <td>1.307705</td>\n",
       "    </tr>\n",
       "    <tr>\n",
       "      <td>2019-03-04 00:00:00</td>\n",
       "      <td>0.109863</td>\n",
       "      <td>0.315347</td>\n",
       "      <td>-1.312471</td>\n",
       "      <td>-0.834105</td>\n",
       "    </tr>\n",
       "    <tr>\n",
       "      <td>2019-03-05 00:00:00</td>\n",
       "      <td>-0.801658</td>\n",
       "      <td>-0.243724</td>\n",
       "      <td>0.467764</td>\n",
       "      <td>-0.800580</td>\n",
       "    </tr>\n",
       "    <tr>\n",
       "      <td>2019-03-06 00:00:00</td>\n",
       "      <td>0.323654</td>\n",
       "      <td>-0.716547</td>\n",
       "      <td>0.284720</td>\n",
       "      <td>-0.005566</td>\n",
       "    </tr>\n",
       "    <tr>\n",
       "      <td>2020-06-25</td>\n",
       "      <td>1.000000</td>\n",
       "      <td>1.000000</td>\n",
       "      <td>1.000000</td>\n",
       "      <td>1.000000</td>\n",
       "    </tr>\n",
       "  </tbody>\n",
       "</table>\n",
       "</div>"
      ],
      "text/plain": [
       "                            A         B         C         D\n",
       "2019-03-01 00:00:00 -0.037514 -0.146376 -1.304768  1.581764\n",
       "2019-03-02 00:00:00  0.023241 -0.407085  2.064289  1.569232\n",
       "2019-03-03 00:00:00  1.784725  0.503879 -2.152391  1.307705\n",
       "2019-03-04 00:00:00  0.109863  0.315347 -1.312471 -0.834105\n",
       "2019-03-05 00:00:00 -0.801658 -0.243724  0.467764 -0.800580\n",
       "2019-03-06 00:00:00  0.323654 -0.716547  0.284720 -0.005566\n",
       "2020-06-25           1.000000  1.000000  1.000000  1.000000"
      ]
     },
     "execution_count": 331,
     "metadata": {},
     "output_type": "execute_result"
    }
   ],
   "source": [
    "df2"
   ]
  }
 ],
 "metadata": {
  "colab": {
   "authorship_tag": "ABX9TyMqsSTzJ+tI80pQibV1uauk",
   "collapsed_sections": [],
   "include_colab_link": true,
   "name": "colab-test-1.ipynb",
   "provenance": []
  },
  "kernelspec": {
   "display_name": "Python 3",
   "language": "python",
   "name": "python3"
  },
  "language_info": {
   "codemirror_mode": {
    "name": "ipython",
    "version": 3
   },
   "file_extension": ".py",
   "mimetype": "text/x-python",
   "name": "python",
   "nbconvert_exporter": "python",
   "pygments_lexer": "ipython3",
   "version": "3.7.4"
  }
 },
 "nbformat": 4,
 "nbformat_minor": 1
}
